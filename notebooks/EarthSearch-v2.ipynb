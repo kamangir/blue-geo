{
    "cells": [
        {
            "attachments": {},
            "cell_type": "markdown",
            "metadata": {},
            "source": [
                "# EarthSearch: query and ingest\n",
                "\n",
                "https://stacindex.org/catalogs/earth-search#/\n",
                "\n",
                "https://registry.opendata.aws/sentinel-2/\n",
                "\n",
                "https://viewer.aws.element84.com/"
            ]
        },
        {
            "cell_type": "code",
            "execution_count": 1,
            "metadata": {},
            "outputs": [],
            "source": [
                "import os\n",
                "os.environ[\"abcli_path_bash\"] = \"{}/git/awesome-bash-cli/bash\".format(os.getenv(\"HOME\"))"
            ]
        },
        {
            "cell_type": "code",
            "execution_count": 2,
            "metadata": {},
            "outputs": [
                {
                    "name": "stderr",
                    "output_type": "stream",
                    "text": [
                        "🌐  blue_geo-4.393.1.abcli-9.267.1, built on 02 September 2024, 14:09:31\n"
                    ]
                }
            ],
            "source": [
                "import boto3\n",
                "from pystac_client import Client\n",
                "import datetime\n",
                "from abcli import fullname\n",
                "from abcli import file, path, string\n",
                "from abcli.modules import objects\n",
                "from blue_geo import env\n",
                "from blue_geo.catalog.EarthSearch import EarthSearchCatalog, EarthSearchSentinel2L1CDatacube\n",
                "from blue_geo import NAME, VERSION\n",
                "from blue_geo.logger import logger\n",
                "\n",
                "logger.info(f\"{NAME}-{VERSION}.{fullname()}, built on {string.pretty_date()}\")"
            ]
        },
        {
            "cell_type": "code",
            "execution_count": 3,
            "metadata": {},
            "outputs": [
                {
                    "data": {
                        "text/plain": [
                            "['cop-dem-glo-30',\n",
                            " 'cop-dem-glo-90',\n",
                            " 'landsat-c2-l2',\n",
                            " 'naip',\n",
                            " 'sentinel-1-grd',\n",
                            " 'sentinel-2-c1-l2a',\n",
                            " 'sentinel-2-l1c',\n",
                            " 'sentinel-2-l2a',\n",
                            " 'sentinel-2-pre-c1-l2a']"
                        ]
                    },
                    "execution_count": 3,
                    "metadata": {},
                    "output_type": "execute_result"
                }
            ],
            "source": [
                "catalog = EarthSearchCatalog()\n",
                "catalog.get_list_of_collections()"
            ]
        },
        {
            "cell_type": "code",
            "execution_count": 4,
            "metadata": {},
            "outputs": [],
            "source": [
                "URL = \"https://earth-search.aws.element84.com/v1/\"\n",
                "client = Client.open(URL)"
            ]
        },
        {
            "cell_type": "markdown",
            "metadata": {},
            "source": [
                "---"
            ]
        },
        {
            "cell_type": "markdown",
            "metadata": {},
            "source": [
                "## query"
            ]
        },
        {
            "cell_type": "code",
            "execution_count": 5,
            "metadata": {},
            "outputs": [
                {
                    "name": "stderr",
                    "output_type": "stream",
                    "text": [
                        "🌐  📂 query-2024-09-02-14-09-32-84111\n"
                    ]
                }
            ],
            "source": [
                "object_name = f\"query-{string.timestamp()}\"\n",
                "object_path = objects.object_path(object_name)\n",
                "\n",
                "logger.info(f\"📂 {object_name}\")"
            ]
        },
        {
            "cell_type": "code",
            "execution_count": 6,
            "metadata": {},
            "outputs": [
                {
                    "name": "stderr",
                    "output_type": "stream",
                    "text": [
                        "🌐  query_datatime: 2024-07-30T00:00:00/2024-08-09T00:00:00\n"
                    ]
                }
            ],
            "source": [
                "query_datatime = datetime.datetime(2024, 7, 30).isoformat() + \"/\" + datetime.datetime(2024, 8, 9).isoformat()\n",
                "logger.info(f\"query_datatime: {query_datatime}\")"
            ]
        },
        {
            "cell_type": "code",
            "execution_count": 7,
            "metadata": {},
            "outputs": [],
            "source": [
                "search_parameters = {\n",
                "    \"collections\": [\"sentinel-2-l1c\"],\n",
                "    \"bbox\": [-122.78 - 0.1, 51.83 - 0.1, -122.78 + 0.1, 51.83 + 0.1],\n",
                "    \"datetime\": query_datatime,\n",
                "    \"limit\": 10,\n",
                "}"
            ]
        },
        {
            "cell_type": "code",
            "execution_count": 8,
            "metadata": {},
            "outputs": [
                {
                    "name": "stderr",
                    "output_type": "stream",
                    "text": [
                        "🌐  8 item(s) found.\n",
                        "🌐  🧊 S2A_10UDC_20240807_0_L1C: 2024-08-07 19:20:16.111000+00:00 @ blue, cirrus, coastal, granule_metadata, green, nir, nir08, nir09, red, rededge1, rededge2, rededge3, swir16, swir22, thumbnail, tileinfo_metadata, visual\n",
                        "🌐  🧊 S2A_10UEC_20240807_0_L1C: 2024-08-07 19:20:12.622000+00:00 @ blue, cirrus, coastal, granule_metadata, green, nir, nir08, nir09, red, rededge1, rededge2, rededge3, swir16, swir22, thumbnail, tileinfo_metadata, visual\n",
                        "🌐  🧊 S2B_10UDC_20240805_0_L1C: 2024-08-05 19:30:15.320000+00:00 @ blue, cirrus, coastal, granule_metadata, green, nir, nir08, nir09, red, rededge1, rededge2, rededge3, swir16, swir22, thumbnail, tileinfo_metadata, visual\n",
                        "🌐  🧊 S2B_10UEC_20240805_0_L1C: 2024-08-05 19:30:10.516000+00:00 @ blue, cirrus, coastal, granule_metadata, green, nir, nir08, nir09, red, rededge1, rededge2, rededge3, swir16, swir22, thumbnail, tileinfo_metadata, visual\n",
                        "🌐  🧊 S2B_10UDC_20240802_0_L1C: 2024-08-02 19:20:16.034000+00:00 @ blue, cirrus, coastal, granule_metadata, green, nir, nir08, nir09, red, rededge1, rededge2, rededge3, swir16, swir22, thumbnail, tileinfo_metadata, visual\n",
                        "🌐  🧊 S2B_10UEC_20240802_0_L1C: 2024-08-02 19:20:12.549000+00:00 @ blue, cirrus, coastal, granule_metadata, green, nir, nir08, nir09, red, rededge1, rededge2, rededge3, swir16, swir22, thumbnail, tileinfo_metadata, visual\n",
                        "🌐  🧊 S2A_10UDC_20240731_0_L1C: 2024-07-31 19:30:15.312000+00:00 @ blue, cirrus, coastal, granule_metadata, green, nir, nir08, nir09, red, rededge1, rededge2, rededge3, swir16, swir22, thumbnail, tileinfo_metadata, visual\n",
                        "🌐  🧊 S2A_10UEC_20240731_0_L1C: 2024-07-31 19:30:10.506000+00:00 @ blue, cirrus, coastal, granule_metadata, green, nir, nir08, nir09, red, rededge1, rededge2, rededge3, swir16, swir22, thumbnail, tileinfo_metadata, visual\n"
                    ]
                }
            ],
            "source": [
                "search = client.search(**search_parameters)\n",
                "\n",
                "items = list(search.item_collection())\n",
                "\n",
                "logger.info(f\"{len(items)} item(s) found.\")\n",
                "\n",
                "for item in items:\n",
                "    logger.info(\"🧊 {}: {} @ {}\".format(item.id, item.datetime, \", \".join(list(item.assets.keys()))))"
            ]
        },
        {
            "cell_type": "code",
            "execution_count": 9,
            "metadata": {},
            "outputs": [
                {
                    "name": "stderr",
                    "output_type": "stream",
                    "text": [
                        "🌐  🧊 S2A_10UDC_20240807_0_L1C\n"
                    ]
                }
            ],
            "source": [
                "datacube_id = items[0].id\n",
                "logger.info(f\"🧊 {datacube_id}\")"
            ]
        },
        {
            "cell_type": "markdown",
            "metadata": {},
            "source": [
                "## ingest"
            ]
        },
        {
            "cell_type": "code",
            "execution_count": 10,
            "metadata": {},
            "outputs": [],
            "source": [
                "search_parameters = {\n",
                "    \"ids\": [datacube_id]\n",
                "}"
            ]
        },
        {
            "cell_type": "code",
            "execution_count": 11,
            "metadata": {},
            "outputs": [
                {
                    "name": "stderr",
                    "output_type": "stream",
                    "text": [
                        "🌐  1 item(s) found.\n",
                        "🌐  🧊 S2A_10UDC_20240807_0_L1C: 2024-08-07 19:20:16.111000+00:00 @ blue, cirrus, coastal, granule_metadata, green, nir, nir08, nir09, red, rededge1, rededge2, rededge3, swir16, swir22, thumbnail, tileinfo_metadata, visual\n"
                    ]
                }
            ],
            "source": [
                "search = client.search(**search_parameters)\n",
                "\n",
                "items = list(search.item_collection())\n",
                "\n",
                "logger.info(f\"{len(items)} item(s) found.\")\n",
                "\n",
                "for item in items:\n",
                "    logger.info(\"🧊 {}: {} @ {}\".format(item.id, item.datetime, \", \".join(list(item.assets.keys()))))\n",
                "\n",
                "item = items[0]"
            ]
        },
        {
            "cell_type": "code",
            "execution_count": 12,
            "metadata": {},
            "outputs": [
                {
                    "data": {
                        "text/plain": [
                            "{'blue': <Asset href=s3://sentinel-s2-l1c/tiles/10/U/DC/2024/8/7/0/B02.jp2>,\n",
                            " 'cirrus': <Asset href=s3://sentinel-s2-l1c/tiles/10/U/DC/2024/8/7/0/B10.jp2>,\n",
                            " 'coastal': <Asset href=s3://sentinel-s2-l1c/tiles/10/U/DC/2024/8/7/0/B01.jp2>,\n",
                            " 'granule_metadata': <Asset href=s3://sentinel-s2-l1c/tiles/10/U/DC/2024/8/7/0/metadata.xml>,\n",
                            " 'green': <Asset href=s3://sentinel-s2-l1c/tiles/10/U/DC/2024/8/7/0/B03.jp2>,\n",
                            " 'nir': <Asset href=s3://sentinel-s2-l1c/tiles/10/U/DC/2024/8/7/0/B08.jp2>,\n",
                            " 'nir08': <Asset href=s3://sentinel-s2-l1c/tiles/10/U/DC/2024/8/7/0/B8A.jp2>,\n",
                            " 'nir09': <Asset href=s3://sentinel-s2-l1c/tiles/10/U/DC/2024/8/7/0/B09.jp2>,\n",
                            " 'red': <Asset href=s3://sentinel-s2-l1c/tiles/10/U/DC/2024/8/7/0/B04.jp2>,\n",
                            " 'rededge1': <Asset href=s3://sentinel-s2-l1c/tiles/10/U/DC/2024/8/7/0/B05.jp2>,\n",
                            " 'rededge2': <Asset href=s3://sentinel-s2-l1c/tiles/10/U/DC/2024/8/7/0/B06.jp2>,\n",
                            " 'rededge3': <Asset href=s3://sentinel-s2-l1c/tiles/10/U/DC/2024/8/7/0/B07.jp2>,\n",
                            " 'swir16': <Asset href=s3://sentinel-s2-l1c/tiles/10/U/DC/2024/8/7/0/B11.jp2>,\n",
                            " 'swir22': <Asset href=s3://sentinel-s2-l1c/tiles/10/U/DC/2024/8/7/0/B12.jp2>,\n",
                            " 'thumbnail': <Asset href=s3://sentinel-s2-l1c/tiles/10/U/DC/2024/8/7/0/preview.jpg>,\n",
                            " 'tileinfo_metadata': <Asset href=s3://sentinel-s2-l1c/tiles/10/U/DC/2024/8/7/0/tileInfo.json>,\n",
                            " 'visual': <Asset href=s3://sentinel-s2-l1c/tiles/10/U/DC/2024/8/7/0/TCI.jp2>}"
                        ]
                    },
                    "execution_count": 12,
                    "metadata": {},
                    "output_type": "execute_result"
                }
            ],
            "source": [
                "item.assets"
            ]
        },
        {
            "attachments": {},
            "cell_type": "markdown",
            "metadata": {},
            "source": [
                "---"
            ]
        },
        {
            "cell_type": "code",
            "execution_count": 13,
            "metadata": {},
            "outputs": [],
            "source": [
                "# END"
            ]
        }
    ],
    "metadata": {
        "kernelspec": {
            "display_name": "Python 3 (ipykernel)",
            "language": "python",
            "name": "python3"
        },
        "language_info": {
            "codemirror_mode": {
                "name": "ipython",
                "version": 3
            },
            "file_extension": ".py",
            "mimetype": "text/x-python",
            "name": "python",
            "nbconvert_exporter": "python",
            "pygments_lexer": "ipython3",
            "version": "3.9.19"
        },
        "toc": {
            "base_numbering": 1,
            "nav_menu": {},
            "number_sections": true,
            "sideBar": true,
            "skip_h1_title": false,
            "title_cell": "Table of Contents",
            "title_sidebar": "Contents",
            "toc_cell": false,
            "toc_position": {},
            "toc_section_display": true,
            "toc_window_display": false
        }
    },
    "nbformat": 4,
    "nbformat_minor": 2
}
