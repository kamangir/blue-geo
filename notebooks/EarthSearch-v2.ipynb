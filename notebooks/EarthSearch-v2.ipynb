{
    "cells": [
        {
            "attachments": {},
            "cell_type": "markdown",
            "metadata": {},
            "source": [
                "# EarthSearch: query and ingest\n",
                "\n",
                "https://stacindex.org/catalogs/earth-search#/\n",
                "\n",
                "https://registry.opendata.aws/sentinel-2/\n",
                "\n",
                "https://viewer.aws.element84.com/"
            ]
        },
        {
            "cell_type": "code",
            "execution_count": 1,
            "metadata": {},
            "outputs": [],
            "source": [
                "import os\n",
                "os.environ[\"abcli_path_bash\"] = \"{}/git/awesome-bash-cli/bash\".format(os.getenv(\"HOME\"))"
            ]
        },
        {
            "cell_type": "code",
            "execution_count": 2,
            "metadata": {},
            "outputs": [
                {
                    "name": "stderr",
                    "output_type": "stream",
                    "text": [
                        "🌐  blue_geo-4.391.1.abcli-9.267.1, built on 02 September 2024, 10:55:29\n"
                    ]
                }
            ],
            "source": [
                "import boto3\n",
                "from pystac_client import Client\n",
                "import datetime\n",
                "from abcli import fullname\n",
                "from abcli import file, path, string\n",
                "from abcli.modules import objects\n",
                "from blue_geo import env\n",
                "from blue_geo.catalog.EarthSearch import EarthSearchCatalog, EarthSearchCatalog\n",
                "from blue_geo import NAME, VERSION\n",
                "from blue_geo.logger import logger\n",
                "\n",
                "logger.info(f\"{NAME}-{VERSION}.{fullname()}, built on {string.pretty_date()}\")"
            ]
        },
        {
            "cell_type": "code",
            "execution_count": 5,
            "metadata": {},
            "outputs": [
                {
                    "data": {
                        "text/plain": [
                            "['cop-dem-glo-30',\n",
                            " 'cop-dem-glo-90',\n",
                            " 'landsat-c2-l2',\n",
                            " 'naip',\n",
                            " 'sentinel-1-grd',\n",
                            " 'sentinel-2-c1-l2a',\n",
                            " 'sentinel-2-l1c',\n",
                            " 'sentinel-2-l2a',\n",
                            " 'sentinel-2-pre-c1-l2a']"
                        ]
                    },
                    "execution_count": 5,
                    "metadata": {},
                    "output_type": "execute_result"
                }
            ],
            "source": [
                "catalog = EarthSearchCatalog()\n",
                "catalog.get_list_of_collections()"
            ]
        },
        {
            "cell_type": "code",
            "execution_count": 4,
            "metadata": {},
            "outputs": [],
            "source": [
                "URL = \"https://earth-search.aws.element84.com/v1/\"\n",
                "client = Client.open(URL)"
            ]
        },
        {
            "cell_type": "markdown",
            "metadata": {},
            "source": [
                "---"
            ]
        },
        {
            "cell_type": "markdown",
            "metadata": {},
            "source": [
                "## query"
            ]
        },
        {
            "cell_type": "code",
            "execution_count": null,
            "metadata": {},
            "outputs": [],
            "source": [
                "object_name = f\"query-{string.timestamp()}\"\n",
                "object_path = objects.object_path(object_name)\n",
                "\n",
                "logger.info(f\"📂 {object_name}\")"
            ]
        },
        {
            "cell_type": "code",
            "execution_count": null,
            "metadata": {},
            "outputs": [],
            "source": [
                "query_datatime = datetime.datetime(2024, 7, 30).isoformat() + \"/\" + datetime.datetime(2024, 8, 9).isoformat()\n",
                "logger.info(f\"query_datatime: {query_datatime}\")"
            ]
        },
        {
            "cell_type": "code",
            "execution_count": null,
            "metadata": {},
            "outputs": [],
            "source": [
                "search_parameters = {\n",
                "    \"collections\": [\"sentinel-2-l1c\"],\n",
                "    \"bbox\": [-122.78 - 0.1, 51.83 - 0.1, -122.78 + 0.1, 51.83 + 0.1],\n",
                "    \"datetime\": query_datatime,\n",
                "    \"limit\": 10,\n",
                "}"
            ]
        },
        {
            "cell_type": "code",
            "execution_count": null,
            "metadata": {},
            "outputs": [],
            "source": [
                "search = client.search(**search_parameters)\n",
                "\n",
                "items = list(search.item_collection())\n",
                "\n",
                "logger.info(f\"{len(items)} item(s) found.\")\n",
                "\n",
                "for item in items:\n",
                "    logger.info(\"🧊 {}: {} @ {}\".format(item.id, item.datetime, \", \".join(list(item.assets.keys()))))"
            ]
        },
        {
            "cell_type": "code",
            "execution_count": null,
            "metadata": {},
            "outputs": [],
            "source": [
                "datacube_id = items[0].id\n",
                "logger.info(f\"🧊 {datacube_id}\")"
            ]
        },
        {
            "cell_type": "markdown",
            "metadata": {},
            "source": [
                "## ingest"
            ]
        },
        {
            "cell_type": "code",
            "execution_count": null,
            "metadata": {},
            "outputs": [],
            "source": [
                "search_parameters = {\n",
                "    \"ids\": [datacube_id]\n",
                "}"
            ]
        },
        {
            "cell_type": "code",
            "execution_count": null,
            "metadata": {},
            "outputs": [],
            "source": [
                "search = client.search(**search_parameters)\n",
                "\n",
                "items = list(search.item_collection())\n",
                "\n",
                "logger.info(f\"{len(items)} item(s) found.\")\n",
                "\n",
                "for item in items:\n",
                "    logger.info(\"🧊 {}: {} @ {}\".format(item.id, item.datetime, \", \".join(list(item.assets.keys()))))\n",
                "\n",
                "item = items[0]"
            ]
        },
        {
            "cell_type": "code",
            "execution_count": null,
            "metadata": {},
            "outputs": [],
            "source": [
                "item.assets"
            ]
        },
        {
            "attachments": {},
            "cell_type": "markdown",
            "metadata": {},
            "source": [
                "---"
            ]
        },
        {
            "cell_type": "code",
            "execution_count": null,
            "metadata": {},
            "outputs": [],
            "source": [
                "# END"
            ]
        }
    ],
    "metadata": {
        "kernelspec": {
            "display_name": "Python 3 (ipykernel)",
            "language": "python",
            "name": "python3"
        },
        "language_info": {
            "codemirror_mode": {
                "name": "ipython",
                "version": 3
            },
            "file_extension": ".py",
            "mimetype": "text/x-python",
            "name": "python",
            "nbconvert_exporter": "python",
            "pygments_lexer": "ipython3",
            "version": "3.9.19"
        },
        "toc": {
            "base_numbering": 1,
            "nav_menu": {},
            "number_sections": true,
            "sideBar": true,
            "skip_h1_title": false,
            "title_cell": "Table of Contents",
            "title_sidebar": "Contents",
            "toc_cell": false,
            "toc_position": {},
            "toc_section_display": true,
            "toc_window_display": false
        }
    },
    "nbformat": 4,
    "nbformat_minor": 2
}
