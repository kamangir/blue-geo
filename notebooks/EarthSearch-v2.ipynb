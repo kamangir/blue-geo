{
    "cells": [
        {
            "attachments": {},
            "cell_type": "markdown",
            "metadata": {},
            "source": [
                "# EarthSearch: query and ingest\n",
                "\n",
                "https://stacindex.org/catalogs/earth-search#/\n",
                "\n",
                "https://registry.opendata.aws/sentinel-2/\n",
                "\n",
                "https://viewer.aws.element84.com/"
            ]
        },
        {
            "cell_type": "code",
            "execution_count": 1,
            "metadata": {},
            "outputs": [],
            "source": [
                "import os\n",
                "os.environ[\"abcli_path_bash\"] = \"{}/git/awesome-bash-cli/bash\".format(os.getenv(\"HOME\"))"
            ]
        },
        {
            "cell_type": "code",
            "execution_count": 2,
            "metadata": {},
            "outputs": [
                {
                    "name": "stderr",
                    "output_type": "stream",
                    "text": [
                        "🌐  blue_geo-4.402.1.abcli-9.267.1, built on 02 September 2024, 20:27:02\n"
                    ]
                }
            ],
            "source": [
                "from abcli import fullname\n",
                "from abcli import string\n",
                "from abcli.plugins.metadata import get_from_object\n",
                "from abcli.modules import objects\n",
                "from blue_geo.catalog import get_datacube\n",
                "from blue_geo.catalog.EarthSearch import EarthSearchCatalog, EarthSearchSentinel2L1CDatacube\n",
                "from blue_geo import NAME, VERSION\n",
                "from blue_geo.logger import logger\n",
                "\n",
                "logger.info(f\"{NAME}-{VERSION}.{fullname()}, built on {string.pretty_date()}\")"
            ]
        },
        {
            "cell_type": "code",
            "execution_count": 3,
            "metadata": {},
            "outputs": [
                {
                    "data": {
                        "text/plain": [
                            "['cop-dem-glo-30',\n",
                            " 'cop-dem-glo-90',\n",
                            " 'landsat-c2-l2',\n",
                            " 'naip',\n",
                            " 'sentinel-1-grd',\n",
                            " 'sentinel-2-c1-l2a',\n",
                            " 'sentinel-2-l1c',\n",
                            " 'sentinel-2-l2a',\n",
                            " 'sentinel-2-pre-c1-l2a']"
                        ]
                    },
                    "execution_count": 3,
                    "metadata": {},
                    "output_type": "execute_result"
                }
            ],
            "source": [
                "catalog = EarthSearchCatalog()\n",
                "catalog.get_list_of_collections()"
            ]
        },
        {
            "cell_type": "markdown",
            "metadata": {},
            "source": [
                "---"
            ]
        },
        {
            "cell_type": "markdown",
            "metadata": {},
            "source": [
                "## query"
            ]
        },
        {
            "cell_type": "code",
            "execution_count": 4,
            "metadata": {},
            "outputs": [
                {
                    "name": "stderr",
                    "output_type": "stream",
                    "text": [
                        "🌐  📂 query-2024-09-02-20-27-03-64374\n"
                    ]
                }
            ],
            "source": [
                "object_name = f\"query-{string.timestamp()}\"\n",
                "object_path = objects.object_path(object_name)\n",
                "\n",
                "logger.info(f\"📂 {object_name}\")"
            ]
        },
        {
            "cell_type": "code",
            "execution_count": 5,
            "metadata": {},
            "outputs": [
                {
                    "name": "stderr",
                    "output_type": "stream",
                    "text": [
                        "🌐  🔎 EarthSearchSentinel2L1CDatacube.query -> query-2024-09-02-20-27-03-64374\n",
                        "🌐  🔎 collections: ['sentinel-2-l1c']\n",
                        "🌐  🔎 bbox: [-122.88, 51.73, -122.68, 51.93]\n",
                        "🌐  🔎 datetime: 2024-07-30/2024-08-09\n",
                        "🌐  8 datacubes(s) found.\n",
                        "🌐  🧊 01: datacube-EarthSearch-sentinel_2_l1c-S2A_10UDC_20240731_0_L1C\n",
                        "🌐  🧊 02: datacube-EarthSearch-sentinel_2_l1c-S2A_10UDC_20240807_0_L1C\n",
                        "🌐  🧊 03: datacube-EarthSearch-sentinel_2_l1c-S2A_10UEC_20240731_0_L1C\n",
                        "🌐  🧊 04: datacube-EarthSearch-sentinel_2_l1c-S2A_10UEC_20240807_0_L1C\n",
                        "🌐  🧊 05: datacube-EarthSearch-sentinel_2_l1c-S2B_10UDC_20240802_0_L1C\n",
                        "🌐  🧊 06: datacube-EarthSearch-sentinel_2_l1c-S2B_10UDC_20240805_0_L1C\n",
                        "🌐  🧊 07: datacube-EarthSearch-sentinel_2_l1c-S2B_10UEC_20240802_0_L1C\n",
                        "🌐  🧊 08: datacube-EarthSearch-sentinel_2_l1c-S2B_10UEC_20240805_0_L1C\n",
                        ":: abcli.plugins.metadata.post[/Users/kamangir/storage/abcli/query-2024-09-02-20-27-03-64374/metadata.yaml]: datacube_id\n",
                        ":: save_yaml: datacube_id -> /Users/kamangir/storage/abcli/query-2024-09-02-20-27-03-64374/metadata.yaml.\n"
                    ]
                }
            ],
            "source": [
                "assert EarthSearchSentinel2L1CDatacube.query(\n",
                "    object_name=object_name,\n",
                "    bbox=[-122.78 - 0.1, 51.83 - 0.1, -122.78 + 0.1, 51.83 + 0.1],\n",
                "    datetime=\"2024-07-30/2024-08-09\",\n",
                "    count=-1,\n",
                ")"
            ]
        },
        {
            "cell_type": "code",
            "execution_count": 6,
            "metadata": {},
            "outputs": [
                {
                    "name": "stderr",
                    "output_type": "stream",
                    "text": [
                        "🌐  🧊 datacube-EarthSearch-sentinel_2_l1c-S2A_10UDC_20240731_0_L1C\n"
                    ]
                }
            ],
            "source": [
                "datacube_id = get_from_object(object_name, \"datacube_id\")[0]\n",
                "logger.info(f\"🧊 {datacube_id}\")"
            ]
        },
        {
            "cell_type": "markdown",
            "metadata": {},
            "source": [
                "## ingest"
            ]
        },
        {
            "cell_type": "code",
            "execution_count": 7,
            "metadata": {},
            "outputs": [],
            "source": [
                "datacube = get_datacube(datacube_id)"
            ]
        },
        {
            "cell_type": "code",
            "execution_count": 8,
            "metadata": {},
            "outputs": [
                {
                    "name": "stderr",
                    "output_type": "stream",
                    "text": [
                        "🌐  1 file(s)\n",
                        "🌐  #000 - Ellipsis\n"
                    ]
                }
            ],
            "source": [
                "list_of_files =datacube.list_of_files()\n",
                "\n",
                "logger.info(\"{} file(s)\".format(len(list_of_files)))\n",
                "for index, filename in enumerate(list_of_files):\n",
                "    logger.info(f\"#{index:03d} - {filename}\")\n"
            ]
        },
        {
            "cell_type": "code",
            "execution_count": 9,
            "metadata": {},
            "outputs": [
                {
                    "name": "stderr",
                    "output_type": "stream",
                    "text": [
                        "🌐  blue_geo.catalog.generic.generic.EarthSearchSentinel2L1CDatacube.ingest(): metadata @ datacube-EarthSearch-sentinel_2_l1c-S2A_10UDC_20240731_0_L1C\n",
                        "🌐  ingesting 1 file(s)...\n",
                        "100%|██████████| 1/1 [00:00<00:00, 7695.97it/s]\n"
                    ]
                }
            ],
            "source": [
                "success, _ = datacube.ingest()\n",
                "assert success"
            ]
        },
        {
            "attachments": {},
            "cell_type": "markdown",
            "metadata": {},
            "source": [
                "---"
            ]
        },
        {
            "cell_type": "code",
            "execution_count": 10,
            "metadata": {},
            "outputs": [],
            "source": [
                "# END"
            ]
        }
    ],
    "metadata": {
        "kernelspec": {
            "display_name": "Python 3 (ipykernel)",
            "language": "python",
            "name": "python3"
        },
        "language_info": {
            "codemirror_mode": {
                "name": "ipython",
                "version": 3
            },
            "file_extension": ".py",
            "mimetype": "text/x-python",
            "name": "python",
            "nbconvert_exporter": "python",
            "pygments_lexer": "ipython3",
            "version": "3.9.19"
        },
        "toc": {
            "base_numbering": 1,
            "nav_menu": {},
            "number_sections": true,
            "sideBar": true,
            "skip_h1_title": false,
            "title_cell": "Table of Contents",
            "title_sidebar": "Contents",
            "toc_cell": false,
            "toc_position": {},
            "toc_section_display": true,
            "toc_window_display": false
        }
    },
    "nbformat": 4,
    "nbformat_minor": 2
}
