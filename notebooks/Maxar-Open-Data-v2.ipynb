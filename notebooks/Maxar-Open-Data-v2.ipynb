{
 "cells": [
  {
   "attachments": {},
   "cell_type": "markdown",
   "metadata": {},
   "source": [
    "# Maxar Open Data: query and ingest\n",
    "\n",
    "https://www.maxar.com/open-data/\n",
    "\n",
    "[10300100EB15FF00_collection.json](https://radiantearth.github.io/stac-browser/?source=post_page-----fbbd512aeca0--------------------------------#/external/maxar-opendata.s3.amazonaws.com/events/Maui-Hawaii-fires-Aug-23/ard/acquisition_collections/10300100EB15FF00_collection.json)"
   ]
  },
  {
   "cell_type": "code",
   "execution_count": 1,
   "metadata": {},
   "outputs": [],
   "source": [
    "verbose = False"
   ]
  },
  {
   "cell_type": "code",
   "execution_count": 2,
   "metadata": {},
   "outputs": [
    {
     "name": "stderr",
     "output_type": "stream",
     "text": [
      "🌐  blue_geo-4.894.1.blueflow-4.835.1.abcli-9.464.1.blue_objects-5.227.1.blue_options-4.189.1.torch-2.5.1.Python 3.9.6.Darwin 23.6.0..Jupyter-Notebook,\n",
      "built on 15 January 2025, 10:13:54\n"
     ]
    }
   ],
   "source": [
    "from blueflow import notebooks\n",
    "\n",
    "import datetime\n",
    "\n",
    "from blue_options import string\n",
    "\n",
    "from blue_geo.catalog.maxar_open_data.client import MaxarOpenDataClient\n",
    "from blue_geo.host import signature\n",
    "from blue_geo.logger import logger\n",
    "\n",
    "logger.info(f\"{'.'.join(signature())},\\nbuilt on {string.pretty_date()}\")"
   ]
  },
  {
   "cell_type": "code",
   "execution_count": 3,
   "metadata": {},
   "outputs": [],
   "source": [
    "collection_id = \"WildFires-LosAngeles-Jan-2025\""
   ]
  },
  {
   "cell_type": "code",
   "execution_count": 4,
   "metadata": {},
   "outputs": [],
   "source": [
    "client = MaxarOpenDataClient(verbose=verbose)"
   ]
  },
  {
   "cell_type": "code",
   "execution_count": 5,
   "metadata": {},
   "outputs": [
    {
     "name": "stderr",
     "output_type": "stream",
     "text": [
      "🌐  45 collection(s): BayofBengal-Cyclone-Mocha-May-23, Belize-Wildfires-June24, Brazil-Flooding-May24, Cyclone-Chido-Dec15, Emilia-Romagna-Italy-flooding-may23, Floods-Spain-Oct24, Gambia-flooding-8-11-2022, Hurricane-Fiona-9-19-2022, Hurricane-Ian-9-26-2022, Hurricane-Idalia-Florida-Aug23, HurricaneHelene-Oct24, HurricaneMilton-Oct24, Iceland-Volcano_Eruption-Dec-2023, India-Floods-Oct-2023, Indonesia-Earthquake22, Japan-Earthquake-Jan-2024, Kahramanmaras-turkey-earthquake-23, Kalehe-DRC-Flooding-5-8-23, Kenya-Flooding-May24, Libya-Floods-Sept-2023, Marshall-Fire-21-Update, Maui-Hawaii-fires-Aug-23, McDougallCreekWildfire-BC-Canada-Aug-23, Morocco-Earthquake-Sept-2023, NWT-Canada-Aug-23, Nepal-Earthquake-Apr-2015, Nepal-Earthquake-Nov-2023, Nepal-Floods-Sept-2024, New-Zealand-Flooding23, Nigeria-Floods-Sept-2024, PNG-Landslide-June24, SmokeHouseCreek-Wildfires-Texas-Mar24, Sudan-flooding-8-22-2022, Vanuatu-Earthquake-Dec17, WildFires-LosAngeles-Jan-2025, afghanistan-earthquake22, cyclone-emnati22, ghana-explosion22, kentucky-flooding-7-29-2022, pakistan-flooding22, shovi-georgia-landslide-8Aug23, southafrica-flooding22, tonga-volcano21, volcano-indonesia21, yellowstone-flooding22\n"
     ]
    },
    {
     "data": {
      "text/plain": [
       "['BayofBengal-Cyclone-Mocha-May-23',\n",
       " 'Belize-Wildfires-June24',\n",
       " 'Brazil-Flooding-May24',\n",
       " 'Cyclone-Chido-Dec15',\n",
       " 'Emilia-Romagna-Italy-flooding-may23',\n",
       " 'Floods-Spain-Oct24',\n",
       " 'Gambia-flooding-8-11-2022',\n",
       " 'Hurricane-Fiona-9-19-2022',\n",
       " 'Hurricane-Ian-9-26-2022',\n",
       " 'Hurricane-Idalia-Florida-Aug23',\n",
       " 'HurricaneHelene-Oct24',\n",
       " 'HurricaneMilton-Oct24',\n",
       " 'Iceland-Volcano_Eruption-Dec-2023',\n",
       " 'India-Floods-Oct-2023',\n",
       " 'Indonesia-Earthquake22',\n",
       " 'Japan-Earthquake-Jan-2024',\n",
       " 'Kahramanmaras-turkey-earthquake-23',\n",
       " 'Kalehe-DRC-Flooding-5-8-23',\n",
       " 'Kenya-Flooding-May24',\n",
       " 'Libya-Floods-Sept-2023',\n",
       " 'Marshall-Fire-21-Update',\n",
       " 'Maui-Hawaii-fires-Aug-23',\n",
       " 'McDougallCreekWildfire-BC-Canada-Aug-23',\n",
       " 'Morocco-Earthquake-Sept-2023',\n",
       " 'NWT-Canada-Aug-23',\n",
       " 'Nepal-Earthquake-Apr-2015',\n",
       " 'Nepal-Earthquake-Nov-2023',\n",
       " 'Nepal-Floods-Sept-2024',\n",
       " 'New-Zealand-Flooding23',\n",
       " 'Nigeria-Floods-Sept-2024',\n",
       " 'PNG-Landslide-June24',\n",
       " 'SmokeHouseCreek-Wildfires-Texas-Mar24',\n",
       " 'Sudan-flooding-8-22-2022',\n",
       " 'Vanuatu-Earthquake-Dec17',\n",
       " 'WildFires-LosAngeles-Jan-2025',\n",
       " 'afghanistan-earthquake22',\n",
       " 'cyclone-emnati22',\n",
       " 'ghana-explosion22',\n",
       " 'kentucky-flooding-7-29-2022',\n",
       " 'pakistan-flooding22',\n",
       " 'shovi-georgia-landslide-8Aug23',\n",
       " 'southafrica-flooding22',\n",
       " 'tonga-volcano21',\n",
       " 'volcano-indonesia21',\n",
       " 'yellowstone-flooding22']"
      ]
     },
     "execution_count": 5,
     "metadata": {},
     "output_type": "execute_result"
    }
   ],
   "source": [
    "client.get_list_of_collections(log=True)"
   ]
  },
  {
   "cell_type": "markdown",
   "metadata": {},
   "source": [
    "---"
   ]
  },
  {
   "cell_type": "markdown",
   "metadata": {},
   "source": [
    "## query"
   ]
  },
  {
   "cell_type": "code",
   "execution_count": 6,
   "metadata": {},
   "outputs": [
    {
     "name": "stderr",
     "output_type": "stream",
     "text": [
      "🌐  <Collection id=WildFires-LosAngeles-Jan-2025>\n"
     ]
    }
   ],
   "source": [
    "collection = client.get_collection(collection_id)\n",
    "logger.info(collection)"
   ]
  },
  {
   "cell_type": "code",
   "execution_count": 7,
   "metadata": {},
   "outputs": [
    {
     "name": "stderr",
     "output_type": "stream",
     "text": [
      "22it [00:36,  1.41s/it]🌐  11/031311103030/1050010040277300 - 2025-01-10 18:35:09\n",
      "🌐  11/031311103031/1050010040277300 - 2025-01-10 18:35:09\n",
      "🌐  11/031311103032/1050010040277300 - 2025-01-10 18:35:08\n",
      "22it [00:36,  1.68s/it]\n",
      "🌐  3 item(s).\n"
     ]
    }
   ],
   "source": [
    "list_of_items = client.query(\n",
    "    collection_id=collection_id,\n",
    "    start_date = datetime.datetime(2025, 1, 10),\n",
    "    end_date = datetime.datetime(2025, 1, 13),\n",
    "    count=3,\n",
    "    log=True,\n",
    ")"
   ]
  },
  {
   "cell_type": "code",
   "execution_count": 8,
   "metadata": {},
   "outputs": [
    {
     "name": "stderr",
     "output_type": "stream",
     "text": [
      "🌐  item: 11/031311103031/1050010040277300\n",
      "🌐  {'type': 'Feature', 'stac_version': '1.0.0', 'id': '11/031311103031/1050010040277300', 'properties': {'datetime': '2025-01-10T18:35:09Z', 'platform': 'GE01', 'gsd': 0.42, 'ard_metadata_version': '0.0.1', 'catalog_id': '1050010040277300', 'utm_zone': 11, 'quadkey': '031311103031', 'view:off_nadir': 6.9, 'view:azimuth': 65.2, 'view:incidence_angle': 82.3, 'view:sun_azimuth': 157.0, 'view:sun_elevation': 30.6, 'proj:epsg': 32611, 'proj:geometry': {'type': 'Polygon', 'coordinates': [[[400156.25, 3784843.75], [394843.75, 3784843.75], [394843.75, 3787667.9750098228], [400156.25, 3787619.8776729535], [400156.25, 3784843.75]]]}, 'grid:code': 'MXRA-Z11-031311103031', 'proj:bbox': [394843.75, 3784843.75, 400156.25, 3787667.9750098228], 'tile:data_area': 14.8, 'tile:clouds_area': 1.8, 'tile:clouds_percent': 12}, 'geometry': {'type': 'Polygon', 'coordinates': [[[-118.08369073584, 34.1998290174671], [-118.1413420952911, 34.19930614945414], [-118.14168494511233, 34.22472169682812], [-118.08401092312516, 34.224827198405265], [-118.08369073584, 34.1998290174671]]]}, 'links': [{'rel': 'collection', 'href': '../../../acquisition_collections/1050010040277300_collection.json', 'type': 'application/json'}, {'rel': 'root', 'href': '../../../../../catalog.json', 'type': 'application/json'}, {'rel': 'self', 'href': 'https://maxar-opendata.s3.amazonaws.com/events/WildFires-LosAngeles-Jan-2025/ard/11/031311103031/2025-01-10/1050010040277300.json', 'type': 'application/json'}, {'rel': 'parent', 'href': '../../../acquisition_collections/1050010040277300_collection.json', 'type': 'application/json'}], 'assets': {'data-mask': {'href': './1050010040277300-data-mask.gpkg', 'type': 'application/geopackage+sqlite3', 'title': 'Data Mask', 'roles': ['data-mask']}, 'ms_analytic': {'href': './1050010040277300-ms.tif', 'type': 'image/tiff; application=geotiff; profile=cloud-optimized', 'title': 'Multispectral Image', 'proj:bbox': [394843.75, 3784843.75, 400156.25, 3790156.25], 'proj:shape': [3222, 3222], 'proj:transform': [1.648820608317815, 0.0, 394843.75, 0.0, -1.648820608317815, 3790156.25, 0.0, 0.0, 1.0], 'eo:bands': [{'name': 'BAND_B', 'common_name': 'blue', 'description': 'Blue'}, {'name': 'BAND_G', 'common_name': 'green', 'description': 'Green'}, {'name': 'BAND_R', 'common_name': 'red', 'description': 'Red'}, {'name': 'BAND_N', 'common_name': 'nir08', 'description': 'Near Infrared 1'}], 'roles': ['data']}, 'pan_analytic': {'href': './1050010040277300-pan.tif', 'type': 'image/tiff; application=geotiff; profile=cloud-optimized', 'title': 'Panchromatic Image', 'proj:bbox': [394843.75, 3784843.75, 400156.25, 3790156.25], 'proj:shape': [12888, 12888], 'proj:transform': [0.41220515207945374, 0.0, 394843.75, 0.0, -0.41220515207945374, 3790156.25, 0.0, 0.0, 1.0], 'eo:bands': [{'name': 'BAND_P', 'description': 'Pan'}], 'roles': ['data']}, 'visual': {'href': './1050010040277300-visual.tif', 'type': 'image/tiff; application=geotiff; profile=cloud-optimized', 'title': 'Visual Image', 'proj:bbox': [394843.75, 3784843.75, 400156.25, 3790156.25], 'proj:shape': [17408, 17408], 'proj:transform': [0.30517578125, 0.0, 394843.75, 0.0, -0.30517578125, 3790156.25, 0.0, 0.0, 1.0], 'eo:bands': [{'name': 'BAND_R', 'common_name': 'red', 'description': 'Red'}, {'name': 'BAND_G', 'common_name': 'green', 'description': 'Green'}, {'name': 'BAND_B', 'common_name': 'blue', 'description': 'Blue'}], 'roles': ['visual']}}, 'bbox': [-118.14168494511233, 34.19930614945414, -118.08369073584, 34.224827198405265], 'stac_extensions': ['https://stac-extensions.github.io/view/v1.0.0/schema.json', 'https://stac-extensions.github.io/projection/v1.1.0/schema.json', 'https://stac-extensions.github.io/eo/v1.1.0/schema.json', 'https://stac-extensions.github.io/raster/v1.1.0/schema.json', 'https://stac-extensions.github.io/grid/v1.1.0/schema.json'], 'collection': '1050010040277300'}\n",
      "🌐  data-mask: ./1050010040277300-data-mask.gpkg\n",
      "🌐  ms_analytic: ./1050010040277300-ms.tif\n",
      "🌐  pan_analytic: ./1050010040277300-pan.tif\n",
      "🌐  visual: ./1050010040277300-visual.tif\n",
      "🌐  🧊 datacube-id: datacube-maxar_open_data-WildFires-LosAngeles-Jan-2025-11-031311103031-1050010040277300\n"
     ]
    }
   ],
   "source": [
    "datacube_id = client.get_datacube_id(\n",
    "    item=list_of_items[1],\n",
    "    collection_id=collection_id,\n",
    "    log=True\n",
    "    )"
   ]
  },
  {
   "cell_type": "markdown",
   "metadata": {},
   "source": [
    "## ingest"
   ]
  },
  {
   "cell_type": "code",
   "execution_count": 9,
   "metadata": {},
   "outputs": [
    {
     "name": "stderr",
     "output_type": "stream",
     "text": [
      "🌐  45 collection(s): BayofBengal-Cyclone-Mocha-May-23, Belize-Wildfires-June24, Brazil-Flooding-May24, Cyclone-Chido-Dec15, Emilia-Romagna-Italy-flooding-may23, Floods-Spain-Oct24, Gambia-flooding-8-11-2022, Hurricane-Fiona-9-19-2022, Hurricane-Ian-9-26-2022, Hurricane-Idalia-Florida-Aug23, HurricaneHelene-Oct24, HurricaneMilton-Oct24, Iceland-Volcano_Eruption-Dec-2023, India-Floods-Oct-2023, Indonesia-Earthquake22, Japan-Earthquake-Jan-2024, Kahramanmaras-turkey-earthquake-23, Kalehe-DRC-Flooding-5-8-23, Kenya-Flooding-May24, Libya-Floods-Sept-2023, Marshall-Fire-21-Update, Maui-Hawaii-fires-Aug-23, McDougallCreekWildfire-BC-Canada-Aug-23, Morocco-Earthquake-Sept-2023, NWT-Canada-Aug-23, Nepal-Earthquake-Apr-2015, Nepal-Earthquake-Nov-2023, Nepal-Floods-Sept-2024, New-Zealand-Flooding23, Nigeria-Floods-Sept-2024, PNG-Landslide-June24, SmokeHouseCreek-Wildfires-Texas-Mar24, Sudan-flooding-8-22-2022, Vanuatu-Earthquake-Dec17, WildFires-LosAngeles-Jan-2025, afghanistan-earthquake22, cyclone-emnati22, ghana-explosion22, kentucky-flooding-7-29-2022, pakistan-flooding22, shovi-georgia-landslide-8Aug23, southafrica-flooding22, tonga-volcano21, volcano-indonesia21, yellowstone-flooding22\n",
      "🌐  collection_id: WildFires-LosAngeles-Jan-2025\n",
      "🌐  item_id: 11/031311103031/1050010040277300\n",
      "🌐  <Collection id=WildFires-LosAngeles-Jan-2025>\n",
      "🌐  [<Collection id=103001010A705C00>, <Collection id=103001010B9A1B00>, <Collection id=103001010C360000>, <Collection id=103001010C7D2D00>, <Collection id=104001009C64B300>, <Collection id=104001009F2ED400>, <Collection id=104001009F982A00>, <Collection id=10400100A069A700>, <Collection id=10400100A06B8000>, <Collection id=10400100A07CE400>, <Collection id=10400100A0AEFE00>, <Collection id=10400100A0BAD600>, <Collection id=10400100A0BD9A00>, <Collection id=10400100A1028F00>, <Collection id=10400100A1349500>, <Collection id=10400100A17B5900>, <Collection id=10400100A17E8600>, <Collection id=10400100A1989500>, <Collection id=10400100A1AFE700>, <Collection id=10400100A20D9300>, <Collection id=10400100A24E1900>, <Collection id=105001003FC45900>, <Collection id=1050010040277300>, <Collection id=1050010040277400>, <Collection id=1050010040277500>]\n",
      "🌐  103001010A705C00\n",
      "🌐      11/031311102001/103001010A705C00: 2024-12-14 18:53:50Z\n",
      "🌐      11/031311102003/103001010A705C00: 2024-12-14 18:53:50Z\n",
      "🌐      11/031311102010/103001010A705C00: 2024-12-14 18:53:50Z\n",
      "🌐      11/031311102011/103001010A705C00: 2024-12-14 18:53:50Z\n",
      "🌐      11/031311102012/103001010A705C00: 2024-12-14 18:53:50Z\n",
      "🌐      11/031311102013/103001010A705C00: 2024-12-14 18:53:50Z\n",
      "🌐      11/031311102021/103001010A705C00: 2024-12-14 18:53:51Z\n",
      "🌐      11/031311102030/103001010A705C00: 2024-12-14 18:53:51Z\n",
      "🌐      11/031311102031/103001010A705C00: 2024-12-14 18:53:51Z\n",
      "🌐      11/031311102100/103001010A705C00: 2024-12-14 18:53:50Z\n",
      "🌐      11/031311102102/103001010A705C00: 2024-12-14 18:53:50Z\n",
      "🌐      11/031311102120/103001010A705C00: 2024-12-14 18:53:51Z\n",
      "🌐  103001010B9A1B00\n",
      "🌐      11/031311100221/103001010B9A1B00: 2025-01-13 19:06:52Z\n",
      "🌐      11/031311100223/103001010B9A1B00: 2025-01-13 19:06:52Z\n",
      "🌐      11/031311100230/103001010B9A1B00: 2025-01-13 19:06:52Z\n",
      "🌐      11/031311100231/103001010B9A1B00: 2025-01-13 19:06:52Z\n",
      "🌐      11/031311100232/103001010B9A1B00: 2025-01-13 19:06:53Z\n",
      "🌐      11/031311100233/103001010B9A1B00: 2025-01-13 19:06:53Z\n",
      "🌐      11/031311100320/103001010B9A1B00: 2025-01-13 19:06:52Z\n",
      "🌐      11/031311100322/103001010B9A1B00: 2025-01-13 19:06:53Z\n",
      "🌐      11/031311102001/103001010B9A1B00: 2025-01-13 19:06:53Z\n",
      "🌐      11/031311102003/103001010B9A1B00: 2025-01-13 19:06:53Z\n",
      "🌐      11/031311102010/103001010B9A1B00: 2025-01-13 19:06:53Z\n",
      "🌐      11/031311102011/103001010B9A1B00: 2025-01-13 19:06:53Z\n",
      "🌐      11/031311102012/103001010B9A1B00: 2025-01-13 19:06:53Z\n",
      "🌐      11/031311102013/103001010B9A1B00: 2025-01-13 19:06:53Z\n",
      "🌐      11/031311102021/103001010B9A1B00: 2025-01-13 19:06:54Z\n",
      "🌐      11/031311102023/103001010B9A1B00: 2025-01-13 19:06:54Z\n",
      "🌐      11/031311102030/103001010B9A1B00: 2025-01-13 19:06:54Z\n",
      "🌐      11/031311102031/103001010B9A1B00: 2025-01-13 19:06:54Z\n",
      "🌐      11/031311102032/103001010B9A1B00: 2025-01-13 19:06:54Z\n",
      "🌐      11/031311102033/103001010B9A1B00: 2025-01-13 19:06:54Z\n",
      "🌐      11/031311102100/103001010B9A1B00: 2025-01-13 19:06:53Z\n",
      "🌐      11/031311102102/103001010B9A1B00: 2025-01-13 19:06:53Z\n",
      "🌐      11/031311102120/103001010B9A1B00: 2025-01-13 19:06:54Z\n",
      "🌐      11/031311102122/103001010B9A1B00: 2025-01-13 19:06:54Z\n",
      "🌐      11/031311102201/103001010B9A1B00: 2025-01-13 19:06:54Z\n",
      "🌐      11/031311102203/103001010B9A1B00: 2025-01-13 19:06:55Z\n",
      "🌐      11/031311102210/103001010B9A1B00: 2025-01-13 19:06:54Z\n",
      "🌐      11/031311102211/103001010B9A1B00: 2025-01-13 19:06:55Z\n",
      "🌐      11/031311102212/103001010B9A1B00: 2025-01-13 19:06:55Z\n",
      "🌐      11/031311102213/103001010B9A1B00: 2025-01-13 19:06:55Z\n",
      "🌐      11/031311102221/103001010B9A1B00: 2025-01-13 19:06:55Z\n",
      "🌐      11/031311102230/103001010B9A1B00: 2025-01-13 19:06:55Z\n",
      "🌐      11/031311102231/103001010B9A1B00: 2025-01-13 19:06:55Z\n",
      "🌐      11/031311102232/103001010B9A1B00: 2025-01-13 19:06:56Z\n",
      "🌐      11/031311102233/103001010B9A1B00: 2025-01-13 19:06:56Z\n",
      "🌐      11/031311102300/103001010B9A1B00: 2025-01-13 19:06:55Z\n",
      "🌐      11/031311102302/103001010B9A1B00: 2025-01-13 19:06:55Z\n",
      "🌐      11/031311102320/103001010B9A1B00: 2025-01-13 19:06:55Z\n",
      "🌐      11/031311102322/103001010B9A1B00: 2025-01-13 19:06:56Z\n",
      "🌐  103001010C360000\n",
      "🌐      11/031311103030/103001010C360000: 2025-01-14 18:30:38Z\n",
      "🌐      11/031311103031/103001010C360000: 2025-01-14 18:30:38Z\n",
      "🌐      11/031311103032/103001010C360000: 2025-01-14 18:30:37Z\n",
      "🌐      11/031311103033/103001010C360000: 2025-01-14 18:30:37Z\n",
      "🌐      11/031311103120/103001010C360000: 2025-01-14 18:30:38Z\n",
      "🌐      11/031311103122/103001010C360000: 2025-01-14 18:30:37Z\n",
      "🌐      11/031311103210/103001010C360000: 2025-01-14 18:30:37Z\n",
      "🌐      11/031311103211/103001010C360000: 2025-01-14 18:30:37Z\n",
      "🌐      11/031311103300/103001010C360000: 2025-01-14 18:30:37Z\n",
      "🌐  103001010C7D2D00\n",
      "🌐      11/031311102023/103001010C7D2D00: 2025-01-14 18:30:58Z\n",
      "🌐      11/031311102032/103001010C7D2D00: 2025-01-14 18:30:58Z\n",
      "🌐      11/031311102033/103001010C7D2D00: 2025-01-14 18:30:58Z\n",
      "🌐      11/031311102122/103001010C7D2D00: 2025-01-14 18:30:58Z\n",
      "🌐      11/031311102201/103001010C7D2D00: 2025-01-14 18:30:58Z\n",
      "🌐      11/031311102203/103001010C7D2D00: 2025-01-14 18:30:58Z\n",
      "🌐      11/031311102210/103001010C7D2D00: 2025-01-14 18:30:58Z\n",
      "🌐      11/031311102211/103001010C7D2D00: 2025-01-14 18:30:58Z\n",
      "🌐      11/031311102212/103001010C7D2D00: 2025-01-14 18:30:58Z\n",
      "🌐      11/031311102213/103001010C7D2D00: 2025-01-14 18:30:58Z\n",
      "🌐      11/031311102221/103001010C7D2D00: 2025-01-14 18:30:57Z\n",
      "🌐      11/031311102230/103001010C7D2D00: 2025-01-14 18:30:57Z\n",
      "🌐      11/031311102231/103001010C7D2D00: 2025-01-14 18:30:58Z\n",
      "🌐      11/031311102232/103001010C7D2D00: 2025-01-14 18:30:57Z\n",
      "🌐      11/031311102233/103001010C7D2D00: 2025-01-14 18:30:57Z\n",
      "🌐      11/031311102300/103001010C7D2D00: 2025-01-14 18:30:58Z\n",
      "🌐      11/031311102302/103001010C7D2D00: 2025-01-14 18:30:58Z\n",
      "🌐      11/031311102320/103001010C7D2D00: 2025-01-14 18:30:58Z\n",
      "🌐      11/031311102322/103001010C7D2D00: 2025-01-14 18:30:57Z\n",
      "🌐  104001009C64B300\n",
      "🌐      11/031311103031/104001009C64B300: 2025-01-08 18:41:38Z\n",
      "🌐      11/031311103120/104001009C64B300: 2025-01-08 18:41:38Z\n",
      "🌐      11/031311103300/104001009C64B300: 2025-01-08 18:41:37Z\n",
      "🌐  104001009F2ED400\n",
      "🌐      11/031311100221/104001009F2ED400: 2025-01-09 18:56:06Z\n",
      "🌐      11/031311100230/104001009F2ED400: 2025-01-09 18:56:06Z\n",
      "🌐  104001009F982A00\n",
      "🌐      11/031311100233/104001009F982A00: 2024-12-14 18:39:04Z\n",
      "🌐      11/031311102011/104001009F982A00: 2024-12-14 18:39:05Z\n",
      "🌐      11/031311102013/104001009F982A00: 2024-12-14 18:39:05Z\n",
      "🌐      11/031311102100/104001009F982A00: 2024-12-14 18:39:05Z\n",
      "🌐      11/031311102101/104001009F982A00: 2024-12-14 18:39:05Z\n",
      "🌐      11/031311102102/104001009F982A00: 2024-12-14 18:39:06Z\n",
      "🌐      11/031311102103/104001009F982A00: 2024-12-14 18:39:06Z\n",
      "🌐  10400100A069A700\n",
      "🌐      11/031311100221/10400100A069A700: 2025-01-09 18:56:25Z\n",
      "🌐      11/031311100223/10400100A069A700: 2025-01-09 18:56:26Z\n",
      "🌐      11/031311100230/10400100A069A700: 2025-01-09 18:56:25Z\n",
      "🌐      11/031311100231/10400100A069A700: 2025-01-09 18:56:25Z\n",
      "🌐      11/031311100232/10400100A069A700: 2025-01-09 18:56:26Z\n",
      "🌐      11/031311100233/10400100A069A700: 2025-01-09 18:56:26Z\n",
      "🌐      11/031311102001/10400100A069A700: 2025-01-09 18:56:27Z\n",
      "🌐      11/031311102003/10400100A069A700: 2025-01-09 18:56:27Z\n",
      "🌐      11/031311102010/10400100A069A700: 2025-01-09 18:56:27Z\n",
      "🌐      11/031311102011/10400100A069A700: 2025-01-09 18:56:27Z\n",
      "🌐      11/031311102012/10400100A069A700: 2025-01-09 18:56:27Z\n",
      "🌐      11/031311102013/10400100A069A700: 2025-01-09 18:56:27Z\n",
      "🌐      11/031311102021/10400100A069A700: 2025-01-09 18:56:28Z\n",
      "🌐      11/031311102023/10400100A069A700: 2025-01-09 18:56:29Z\n",
      "🌐      11/031311102030/10400100A069A700: 2025-01-09 18:56:28Z\n",
      "🌐      11/031311102031/10400100A069A700: 2025-01-09 18:56:28Z\n",
      "🌐      11/031311102032/10400100A069A700: 2025-01-09 18:56:29Z\n",
      "🌐      11/031311102033/10400100A069A700: 2025-01-09 18:56:29Z\n",
      "🌐      11/031311102201/10400100A069A700: 2025-01-09 18:56:29Z\n",
      "🌐      11/031311102203/10400100A069A700: 2025-01-09 18:56:30Z\n",
      "🌐      11/031311102210/10400100A069A700: 2025-01-09 18:56:29Z\n",
      "🌐      11/031311102211/10400100A069A700: 2025-01-09 18:56:29Z\n",
      "🌐  10400100A06B8000\n",
      "🌐      11/031311102032/10400100A06B8000: 2025-01-14 18:36:39Z\n",
      "🌐      11/031311102033/10400100A06B8000: 2025-01-14 18:36:39Z\n",
      "🌐      11/031311102122/10400100A06B8000: 2025-01-14 18:36:39Z\n",
      "🌐      11/031311102201/10400100A06B8000: 2025-01-14 18:36:39Z\n",
      "🌐      11/031311102203/10400100A06B8000: 2025-01-14 18:36:39Z\n",
      "🌐      11/031311102210/10400100A06B8000: 2025-01-14 18:36:39Z\n",
      "🌐      11/031311102211/10400100A06B8000: 2025-01-14 18:36:39Z\n",
      "🌐      11/031311102212/10400100A06B8000: 2025-01-14 18:36:40Z\n",
      "🌐      11/031311102213/10400100A06B8000: 2025-01-14 18:36:40Z\n",
      "🌐      11/031311102221/10400100A06B8000: 2025-01-14 18:36:40Z\n",
      "🌐      11/031311102230/10400100A06B8000: 2025-01-14 18:36:40Z\n",
      "🌐      11/031311102231/10400100A06B8000: 2025-01-14 18:36:40Z\n",
      "🌐      11/031311102232/10400100A06B8000: 2025-01-14 18:36:41Z\n",
      "🌐      11/031311102233/10400100A06B8000: 2025-01-14 18:36:41Z\n",
      "🌐      11/031311102300/10400100A06B8000: 2025-01-14 18:36:39Z\n",
      "🌐      11/031311102302/10400100A06B8000: 2025-01-14 18:36:40Z\n",
      "🌐      11/031311102320/10400100A06B8000: 2025-01-14 18:36:40Z\n",
      "🌐      11/031311102322/10400100A06B8000: 2025-01-14 18:36:41Z\n",
      "🌐  10400100A07CE400\n",
      "🌐      11/031311103030/10400100A07CE400: 2025-01-14 18:37:03Z\n",
      "🌐      11/031311103031/10400100A07CE400: 2025-01-14 18:37:03Z\n",
      "🌐      11/031311103032/10400100A07CE400: 2025-01-14 18:37:03Z\n",
      "🌐      11/031311103033/10400100A07CE400: 2025-01-14 18:37:03Z\n",
      "🌐      11/031311103120/10400100A07CE400: 2025-01-14 18:37:03Z\n",
      "🌐      11/031311103122/10400100A07CE400: 2025-01-14 18:37:03Z\n",
      "🌐      11/031311103210/10400100A07CE400: 2025-01-14 18:37:04Z\n",
      "🌐      11/031311103211/10400100A07CE400: 2025-01-14 18:37:04Z\n",
      "🌐      11/031311103300/10400100A07CE400: 2025-01-14 18:37:04Z\n",
      "🌐  10400100A0AEFE00\n",
      "🌐      11/031311100221/10400100A0AEFE00: 2024-12-14 18:39:29Z\n",
      "🌐      11/031311100223/10400100A0AEFE00: 2024-12-14 18:39:30Z\n",
      "🌐      11/031311102001/10400100A0AEFE00: 2024-12-14 18:39:31Z\n",
      "🌐      11/031311102003/10400100A0AEFE00: 2024-12-14 18:39:32Z\n",
      "🌐  10400100A0BAD600\n",
      "🌐      11/031311100320/10400100A0BAD600: 2025-01-14 18:37:32Z\n",
      "🌐      11/031311100322/10400100A0BAD600: 2025-01-14 18:37:32Z\n",
      "🌐      11/031311100323/10400100A0BAD600: 2025-01-14 18:37:32Z\n",
      "🌐      11/031311100332/10400100A0BAD600: 2025-01-14 18:37:32Z\n",
      "🌐      11/031311102100/10400100A0BAD600: 2025-01-14 18:37:33Z\n",
      "🌐      11/031311102101/10400100A0BAD600: 2025-01-14 18:37:33Z\n",
      "🌐      11/031311102102/10400100A0BAD600: 2025-01-14 18:37:33Z\n",
      "🌐      11/031311102103/10400100A0BAD600: 2025-01-14 18:37:33Z\n",
      "🌐      11/031311102110/10400100A0BAD600: 2025-01-14 18:37:33Z\n",
      "🌐      11/031311102112/10400100A0BAD600: 2025-01-14 18:37:33Z\n",
      "🌐      11/031311102120/10400100A0BAD600: 2025-01-14 18:37:34Z\n",
      "🌐      11/031311102121/10400100A0BAD600: 2025-01-14 18:37:34Z\n",
      "🌐      11/031311102122/10400100A0BAD600: 2025-01-14 18:37:35Z\n",
      "🌐      11/031311102123/10400100A0BAD600: 2025-01-14 18:37:35Z\n",
      "🌐      11/031311102130/10400100A0BAD600: 2025-01-14 18:37:34Z\n",
      "🌐      11/031311102300/10400100A0BAD600: 2025-01-14 18:37:36Z\n",
      "🌐      11/031311102301/10400100A0BAD600: 2025-01-14 18:37:36Z\n",
      "🌐      11/031311102302/10400100A0BAD600: 2025-01-14 18:37:36Z\n",
      "🌐      11/031311102303/10400100A0BAD600: 2025-01-14 18:37:36Z\n",
      "🌐      11/031311102320/10400100A0BAD600: 2025-01-14 18:37:37Z\n",
      "🌐      11/031311102321/10400100A0BAD600: 2025-01-14 18:37:37Z\n",
      "🌐      11/031311102322/10400100A0BAD600: 2025-01-14 18:37:38Z\n",
      "🌐      11/031311102323/10400100A0BAD600: 2025-01-14 18:37:38Z\n",
      "🌐      11/031311120101/10400100A0BAD600: 2025-01-14 18:37:39Z\n",
      "🌐  10400100A0BD9A00\n",
      "🌐      11/031311100332/10400100A0BD9A00: 2024-12-21 18:52:32Z\n",
      "🌐      11/031311102110/10400100A0BD9A00: 2024-12-21 18:52:32Z\n",
      "🌐  10400100A1028F00\n",
      "🌐      11/031311103120/10400100A1028F00: 2024-12-26 18:33:49Z\n",
      "🌐      11/031311103122/10400100A1028F00: 2024-12-26 18:33:49Z\n",
      "🌐      11/031311103300/10400100A1028F00: 2024-12-26 18:33:50Z\n",
      "🌐  10400100A1349500\n",
      "🌐      11/031311103031/10400100A1349500: 2025-01-08 18:40:42Z\n",
      "🌐      11/031311103120/10400100A1349500: 2025-01-08 18:40:42Z\n",
      "🌐  10400100A17B5900\n",
      "🌐      11/031311102001/10400100A17B5900: 2024-12-21 18:51:48Z\n",
      "🌐      11/031311102003/10400100A17B5900: 2024-12-21 18:51:48Z\n",
      "🌐      11/031311102010/10400100A17B5900: 2024-12-21 18:51:48Z\n",
      "🌐      11/031311102012/10400100A17B5900: 2024-12-21 18:51:48Z\n",
      "🌐      11/031311102013/10400100A17B5900: 2024-12-21 18:51:48Z\n",
      "🌐      11/031311102021/10400100A17B5900: 2024-12-21 18:51:49Z\n",
      "🌐      11/031311102023/10400100A17B5900: 2024-12-21 18:51:50Z\n",
      "🌐      11/031311102030/10400100A17B5900: 2024-12-21 18:51:49Z\n",
      "🌐      11/031311102031/10400100A17B5900: 2024-12-21 18:51:49Z\n",
      "🌐      11/031311102032/10400100A17B5900: 2024-12-21 18:51:50Z\n",
      "🌐      11/031311102033/10400100A17B5900: 2024-12-21 18:51:50Z\n",
      "🌐      11/031311102201/10400100A17B5900: 2024-12-21 18:51:51Z\n",
      "🌐      11/031311102203/10400100A17B5900: 2024-12-21 18:51:51Z\n",
      "🌐      11/031311102210/10400100A17B5900: 2024-12-21 18:51:51Z\n",
      "🌐      11/031311102211/10400100A17B5900: 2024-12-21 18:51:50Z\n",
      "🌐      11/031311102212/10400100A17B5900: 2024-12-21 18:51:51Z\n",
      "🌐      11/031311102213/10400100A17B5900: 2024-12-21 18:51:51Z\n",
      "🌐  10400100A17E8600\n",
      "🌐      11/031311103030/10400100A17E8600: 2025-01-01 18:29:58Z\n",
      "🌐      11/031311103031/10400100A17E8600: 2025-01-01 18:29:58Z\n",
      "🌐      11/031311103032/10400100A17E8600: 2025-01-01 18:29:58Z\n",
      "🌐      11/031311103033/10400100A17E8600: 2025-01-01 18:29:58Z\n",
      "🌐      11/031311103120/10400100A17E8600: 2025-01-01 18:29:57Z\n",
      "🌐      11/031311103122/10400100A17E8600: 2025-01-01 18:29:58Z\n",
      "🌐      11/031311103210/10400100A17E8600: 2025-01-01 18:29:59Z\n",
      "🌐      11/031311103211/10400100A17E8600: 2025-01-01 18:29:59Z\n",
      "🌐      11/031311103300/10400100A17E8600: 2025-01-01 18:29:59Z\n",
      "🌐  10400100A1989500\n",
      "🌐      11/031311100230/10400100A1989500: 2024-12-14 18:39:16Z\n",
      "🌐      11/031311100231/10400100A1989500: 2024-12-14 18:39:16Z\n",
      "🌐      11/031311100232/10400100A1989500: 2024-12-14 18:39:16Z\n",
      "🌐      11/031311100233/10400100A1989500: 2024-12-14 18:39:15Z\n",
      "🌐      11/031311102010/10400100A1989500: 2024-12-14 18:39:15Z\n",
      "🌐      11/031311102011/10400100A1989500: 2024-12-14 18:39:15Z\n",
      "🌐      11/031311102012/10400100A1989500: 2024-12-14 18:39:14Z\n",
      "🌐      11/031311102013/10400100A1989500: 2024-12-14 18:39:14Z\n",
      "🌐  10400100A1AFE700\n",
      "🌐      11/031311100230/10400100A1AFE700: 2025-01-14 18:37:53Z\n",
      "🌐      11/031311100231/10400100A1AFE700: 2025-01-14 18:37:53Z\n",
      "🌐      11/031311100232/10400100A1AFE700: 2025-01-14 18:37:53Z\n",
      "🌐      11/031311100233/10400100A1AFE700: 2025-01-14 18:37:53Z\n",
      "🌐      11/031311100320/10400100A1AFE700: 2025-01-14 18:37:53Z\n",
      "🌐      11/031311100322/10400100A1AFE700: 2025-01-14 18:37:53Z\n",
      "🌐      11/031311102010/10400100A1AFE700: 2025-01-14 18:37:52Z\n",
      "🌐      11/031311102011/10400100A1AFE700: 2025-01-14 18:37:52Z\n",
      "🌐      11/031311102012/10400100A1AFE700: 2025-01-14 18:37:51Z\n",
      "🌐      11/031311102013/10400100A1AFE700: 2025-01-14 18:37:51Z\n",
      "🌐      11/031311102030/10400100A1AFE700: 2025-01-14 18:37:51Z\n",
      "🌐      11/031311102031/10400100A1AFE700: 2025-01-14 18:37:51Z\n",
      "🌐      11/031311102032/10400100A1AFE700: 2025-01-14 18:37:50Z\n",
      "🌐      11/031311102033/10400100A1AFE700: 2025-01-14 18:37:50Z\n",
      "🌐      11/031311102100/10400100A1AFE700: 2025-01-14 18:37:52Z\n",
      "🌐      11/031311102102/10400100A1AFE700: 2025-01-14 18:37:51Z\n",
      "🌐      11/031311102120/10400100A1AFE700: 2025-01-14 18:37:51Z\n",
      "🌐      11/031311102122/10400100A1AFE700: 2025-01-14 18:37:50Z\n",
      "🌐      11/031311102210/10400100A1AFE700: 2025-01-14 18:37:49Z\n",
      "🌐      11/031311102211/10400100A1AFE700: 2025-01-14 18:37:49Z\n",
      "🌐      11/031311102212/10400100A1AFE700: 2025-01-14 18:37:49Z\n",
      "🌐      11/031311102213/10400100A1AFE700: 2025-01-14 18:37:49Z\n",
      "🌐      11/031311102230/10400100A1AFE700: 2025-01-14 18:37:48Z\n",
      "🌐      11/031311102231/10400100A1AFE700: 2025-01-14 18:37:48Z\n",
      "🌐      11/031311102232/10400100A1AFE700: 2025-01-14 18:37:47Z\n",
      "🌐      11/031311102233/10400100A1AFE700: 2025-01-14 18:37:47Z\n",
      "🌐      11/031311102300/10400100A1AFE700: 2025-01-14 18:37:49Z\n",
      "🌐      11/031311102302/10400100A1AFE700: 2025-01-14 18:37:49Z\n",
      "🌐      11/031311102320/10400100A1AFE700: 2025-01-14 18:37:48Z\n",
      "🌐      11/031311102322/10400100A1AFE700: 2025-01-14 18:37:47Z\n",
      "🌐  10400100A20D9300\n",
      "🌐      11/031311100320/10400100A20D9300: 2025-01-09 18:56:49Z\n",
      "🌐      11/031311100322/10400100A20D9300: 2025-01-09 18:56:49Z\n",
      "🌐      11/031311100323/10400100A20D9300: 2025-01-09 18:56:49Z\n",
      "🌐      11/031311102100/10400100A20D9300: 2025-01-09 18:56:48Z\n",
      "🌐      11/031311102101/10400100A20D9300: 2025-01-09 18:56:48Z\n",
      "🌐      11/031311102102/10400100A20D9300: 2025-01-09 18:56:47Z\n",
      "🌐      11/031311102103/10400100A20D9300: 2025-01-09 18:56:47Z\n",
      "🌐      11/031311102120/10400100A20D9300: 2025-01-09 18:56:46Z\n",
      "🌐      11/031311102121/10400100A20D9300: 2025-01-09 18:56:46Z\n",
      "🌐      11/031311102122/10400100A20D9300: 2025-01-09 18:56:46Z\n",
      "🌐      11/031311102123/10400100A20D9300: 2025-01-09 18:56:46Z\n",
      "🌐      11/031311102300/10400100A20D9300: 2025-01-09 18:56:45Z\n",
      "🌐      11/031311102301/10400100A20D9300: 2025-01-09 18:56:45Z\n",
      "🌐      11/031311102302/10400100A20D9300: 2025-01-09 18:56:44Z\n",
      "🌐      11/031311102303/10400100A20D9300: 2025-01-09 18:56:44Z\n",
      "🌐      11/031311102320/10400100A20D9300: 2025-01-09 18:56:44Z\n",
      "🌐      11/031311102321/10400100A20D9300: 2025-01-09 18:56:44Z\n",
      "🌐      11/031311102322/10400100A20D9300: 2025-01-09 18:56:43Z\n",
      "🌐      11/031311102323/10400100A20D9300: 2025-01-09 18:56:43Z\n",
      "🌐      11/031311120101/10400100A20D9300: 2025-01-09 18:56:42Z\n",
      "🌐  10400100A24E1900\n",
      "🌐      11/031311103120/10400100A24E1900: 2025-01-08 18:41:49Z\n",
      "🌐      11/031311103300/10400100A24E1900: 2025-01-08 18:41:51Z\n",
      "🌐  105001003FC45900\n",
      "🌐      11/031311103033/105001003FC45900: 2024-12-25 18:50:39Z\n",
      "🌐      11/031311103122/105001003FC45900: 2024-12-25 18:50:39Z\n",
      "🌐      11/031311103210/105001003FC45900: 2024-12-25 18:50:39Z\n",
      "🌐      11/031311103211/105001003FC45900: 2024-12-25 18:50:39Z\n",
      "🌐      11/031311103300/105001003FC45900: 2024-12-25 18:50:39Z\n",
      "🌐  1050010040277300\n",
      "🌐      11/031311103030/1050010040277300: 2025-01-10 18:35:09Z\n",
      "🌐      11/031311103031/1050010040277300: 2025-01-10T18:35:09Z\n",
      "🌐      11/031311103032/1050010040277300: 2025-01-10 18:35:08Z\n",
      "🌐      11/031311103033/1050010040277300: 2025-01-10 18:35:08Z\n",
      "🌐      11/031311103120/1050010040277300: 2025-01-10 18:35:09Z\n",
      "🌐      11/031311103122/1050010040277300: 2025-01-10 18:35:08Z\n",
      "🌐      11/031311103210/1050010040277300: 2025-01-10 18:35:07Z\n",
      "🌐      11/031311103211/1050010040277300: 2025-01-10 18:35:07Z\n",
      "🌐      11/031311103300/1050010040277300: 2025-01-10 18:35:07Z\n",
      "🌐  1050010040277400\n",
      "🌐      11/031311100223/1050010040277400: 2025-01-10 18:35:41Z\n",
      "🌐      11/031311102001/1050010040277400: 2025-01-10 18:35:39Z\n",
      "🌐  1050010040277500\n",
      "🌐      11/031311102212/1050010040277500: 2025-01-10 18:36:03Z\n",
      "🌐      11/031311102213/1050010040277500: 2025-01-10 18:36:03Z\n",
      "🌐      11/031311102230/1050010040277500: 2025-01-10 18:36:02Z\n",
      "🌐      11/031311102231/1050010040277500: 2025-01-10 18:36:02Z\n",
      "🌐      11/031311102302/1050010040277500: 2025-01-10 18:36:03Z\n",
      "🌐      11/031311102320/1050010040277500: 2025-01-10 18:36:02Z\n",
      "🌐      11/031311102322/1050010040277500: 2025-01-10 18:36:01Z\n",
      "🌐  item: <Item id=11/031311103031/1050010040277300>.\n",
      "🌐  asset_relative_href= ./1050010040277300-visual.tif\n",
      "🌐  root href: https://maxar-opendata.s3.amazonaws.com/events/WildFires-LosAngeles-Jan-2025/ard/11/031311103031/2025-01-10\n",
      "🌐  asset_href: https://maxar-opendata.s3.amazonaws.com/events/WildFires-LosAngeles-Jan-2025/ard/11/031311103031/2025-01-10/./1050010040277300-visual.tif\n",
      "🌐  filename: /Users/kamangir/storage/abcli/datacube-maxar_open_data-WildFires-LosAngeles-Jan-2025-11-031311103031-1050010040277300/1050010040277300-visual.tif\n",
      "🌀  ✅ /Users/kamangir/storage/abcli/datacube-maxar_open_data-WildFires-LosAngeles-Jan-2025-11-031311103031-1050010040277300/1050010040277300-visual.tif\n",
      "🌀  loaded 3x17408x17408:uint8 @ (0.30517578125, 0.30517578125) m : EPSG:32611 from /Users/kamangir/storage/abcli/datacube-maxar_open_data-WildFires-LosAngeles-Jan-2025-11-031311103031-1050010040277300/./1050010040277300-visual.tif\n",
      "🌀  blue_objects.logger.matrix.log_matrix(17408x17408x3:uint8)\n",
      "🌀  scale: 0.13786764705882354\n",
      "🌀  blue_objects.file.save.save_image: 2798x2400x3:uint8 -> /Users/kamangir/storage/abcli/datacube-maxar_open_data-WildFires-LosAngeles-Jan-2025-11-031311103031-1050010040277300/./1050010040277300-visual.png\n"
     ]
    }
   ],
   "source": [
    "assert client.ingest(\n",
    "    datacube_id=datacube_id)"
   ]
  },
  {
   "attachments": {},
   "cell_type": "markdown",
   "metadata": {},
   "source": [
    "---"
   ]
  },
  {
   "cell_type": "code",
   "execution_count": 10,
   "metadata": {},
   "outputs": [
    {
     "name": "stdout",
     "output_type": "stream",
     "text": [
      "upload: ../../../storage/abcli/datacube-maxar_open_data-WildFires-LosAngeles-Jan-2025-11-031311103031-1050010040277300/1050010040277300-visual.png to s3://kamangir/bolt/datacube-maxar_open_data-WildFires-LosAngeles-Jan-2025-11-031311103031-1050010040277300/1050010040277300-visual.png\n"
     ]
    },
    {
     "name": "stderr",
     "output_type": "stream",
     "text": [
      "🌀  ⏺️  datacube-maxar_open_data-WildFires-LosAngeles-Jan-2025-11-031311103031-1050010040277300 | 00004\n",
      "🌀  ⬆️  /Users/kamangir/storage/abcli/datacube-maxar_open_data-WildFires-LosAngeles-Jan-2025-11-031311103031-1050010040277300/1050010040277300-visual.png\n"
     ]
    },
    {
     "name": "stdout",
     "output_type": "stream",
     "text": [
      "🏃 View run datacube-maxar_open_data-WildFires-LosAngeles-Jan-2025-11-031311103031-1050010040277300-00004 at: https://dbc-3ac1d106-bf0c.cloud.databricks.com/ml/experiments/3846774623941654/runs/3d694f5eae4c4b02a79af2d0f52cd8c4\n",
      "🧪 View experiment at: https://dbc-3ac1d106-bf0c.cloud.databricks.com/ml/experiments/3846774623941654\n"
     ]
    },
    {
     "name": "stderr",
     "output_type": "stream",
     "text": [
      "🌀  ⏹️  datacube-maxar_open_data-WildFires-LosAngeles-Jan-2025-11-031311103031-1050010040277300\n"
     ]
    }
   ],
   "source": [
    "assert notebooks.upload(datacube_id)"
   ]
  },
  {
   "cell_type": "code",
   "execution_count": 11,
   "metadata": {},
   "outputs": [],
   "source": [
    "# END"
   ]
  }
 ],
 "metadata": {
  "kernelspec": {
   "display_name": ".venv",
   "language": "python",
   "name": "python3"
  },
  "language_info": {
   "codemirror_mode": {
    "name": "ipython",
    "version": 3
   },
   "file_extension": ".py",
   "mimetype": "text/x-python",
   "name": "python",
   "nbconvert_exporter": "python",
   "pygments_lexer": "ipython3",
   "version": "3.9.6"
  },
  "toc": {
   "base_numbering": 1,
   "nav_menu": {},
   "number_sections": true,
   "sideBar": true,
   "skip_h1_title": false,
   "title_cell": "Table of Contents",
   "title_sidebar": "Contents",
   "toc_cell": false,
   "toc_position": {},
   "toc_section_display": true,
   "toc_window_display": false
  }
 },
 "nbformat": 4,
 "nbformat_minor": 2
}
