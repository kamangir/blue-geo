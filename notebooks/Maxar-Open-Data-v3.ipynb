{
 "cells": [
  {
   "attachments": {},
   "cell_type": "markdown",
   "metadata": {},
   "source": [
    "# Maxar Open Data: query and ingest\n",
    "\n",
    "https://www.maxar.com/open-data/\n",
    "\n",
    "[10300100EB15FF00_collection.json](https://radiantearth.github.io/stac-browser/?source=post_page-----fbbd512aeca0--------------------------------#/external/maxar-opendata.s3.amazonaws.com/events/Maui-Hawaii-fires-Aug-23/ard/acquisition_collections/10300100EB15FF00_collection.json)"
   ]
  },
  {
   "cell_type": "code",
   "execution_count": 1,
   "metadata": {},
   "outputs": [],
   "source": [
    "verbose = False"
   ]
  },
  {
   "cell_type": "code",
   "execution_count": 2,
   "metadata": {},
   "outputs": [
    {
     "name": "stderr",
     "output_type": "stream",
     "text": [
      "🌐  blue_geo-4.881.1.blueflow-4.835.1.abcli-9.464.1.blue_objects-5.227.1.blue_options-4.189.1.torch-2.5.1.Python 3.9.6.Darwin 23.6.0..Jupyter-Notebook,\n",
      "built on 14 January 2025, 21:46:27\n"
     ]
    }
   ],
   "source": [
    "from blueflow import notebooks\n",
    "\n",
    "import datetime\n",
    "\n",
    "from blue_options import string\n",
    "from blue_objects import objects\n",
    "from blue_objects import metadata\n",
    "\n",
    "from blue_geo.catalog.maxar_open_data import MaxarOpenDataCatalog, MaxarOpenDataDatacube\n",
    "from blue_geo.catalog import get_datacube\n",
    "from blue_geo.host import signature\n",
    "from blue_geo.logger import logger\n",
    "\n",
    "logger.info(f\"{'.'.join(signature())},\\nbuilt on {string.pretty_date()}\")"
   ]
  },
  {
   "cell_type": "code",
   "execution_count": 3,
   "metadata": {},
   "outputs": [
    {
     "data": {
      "text/plain": [
       "['BayofBengal-Cyclone-Mocha-May-23',\n",
       " 'Belize-Wildfires-June24',\n",
       " 'Brazil-Flooding-May24',\n",
       " 'Cyclone-Chido-Dec15',\n",
       " 'Emilia-Romagna-Italy-flooding-may23',\n",
       " 'Floods-Spain-Oct24',\n",
       " 'Gambia-flooding-8-11-2022',\n",
       " 'Hurricane-Fiona-9-19-2022',\n",
       " 'Hurricane-Ian-9-26-2022',\n",
       " 'Hurricane-Idalia-Florida-Aug23',\n",
       " 'HurricaneHelene-Oct24',\n",
       " 'HurricaneMilton-Oct24',\n",
       " 'Iceland-Volcano_Eruption-Dec-2023',\n",
       " 'India-Floods-Oct-2023',\n",
       " 'Indonesia-Earthquake22',\n",
       " 'Japan-Earthquake-Jan-2024',\n",
       " 'Kahramanmaras-turkey-earthquake-23',\n",
       " 'Kalehe-DRC-Flooding-5-8-23',\n",
       " 'Kenya-Flooding-May24',\n",
       " 'Libya-Floods-Sept-2023',\n",
       " 'Marshall-Fire-21-Update',\n",
       " 'Maui-Hawaii-fires-Aug-23',\n",
       " 'McDougallCreekWildfire-BC-Canada-Aug-23',\n",
       " 'Morocco-Earthquake-Sept-2023',\n",
       " 'NWT-Canada-Aug-23',\n",
       " 'Nepal-Earthquake-Apr-2015',\n",
       " 'Nepal-Earthquake-Nov-2023',\n",
       " 'Nepal-Floods-Sept-2024',\n",
       " 'New-Zealand-Flooding23',\n",
       " 'Nigeria-Floods-Sept-2024',\n",
       " 'PNG-Landslide-June24',\n",
       " 'SmokeHouseCreek-Wildfires-Texas-Mar24',\n",
       " 'Sudan-flooding-8-22-2022',\n",
       " 'Vanuatu-Earthquake-Dec17',\n",
       " 'WildFires-LosAngeles-Jan-2025',\n",
       " 'afghanistan-earthquake22',\n",
       " 'cyclone-emnati22',\n",
       " 'ghana-explosion22',\n",
       " 'kentucky-flooding-7-29-2022',\n",
       " 'pakistan-flooding22',\n",
       " 'shovi-georgia-landslide-8Aug23',\n",
       " 'southafrica-flooding22',\n",
       " 'tonga-volcano21',\n",
       " 'volcano-indonesia21',\n",
       " 'yellowstone-flooding22']"
      ]
     },
     "execution_count": 3,
     "metadata": {},
     "output_type": "execute_result"
    }
   ],
   "source": [
    "catalog = MaxarOpenDataCatalog()\n",
    "catalog.get_list_of_collections()"
   ]
  },
  {
   "cell_type": "markdown",
   "metadata": {},
   "source": [
    "---"
   ]
  },
  {
   "cell_type": "markdown",
   "metadata": {},
   "source": [
    "## query"
   ]
  },
  {
   "cell_type": "code",
   "execution_count": 4,
   "metadata": {},
   "outputs": [
    {
     "name": "stderr",
     "output_type": "stream",
     "text": [
      "🌀  📂 query-2025-01-14-21-46-32-4jbsz2\n"
     ]
    }
   ],
   "source": [
    "object_name = objects.unique_object(\"query\")"
   ]
  },
  {
   "cell_type": "code",
   "execution_count": 5,
   "metadata": {},
   "outputs": [
    {
     "name": "stderr",
     "output_type": "stream",
     "text": [
      "🌐  🔎 MaxarOpenDataDatacube.query -> query-2025-01-14-21-46-32-4jbsz2\n",
      "22it [00:29,  1.14s/it]🌐  11/031311103030/1050010040277300 - 2025-01-10 18:35:09\n",
      "🌐  11/031311103031/1050010040277300 - 2025-01-10 18:35:09\n",
      "🌐  11/031311103032/1050010040277300 - 2025-01-10 18:35:08\n",
      "🌐  11/031311103033/1050010040277300 - 2025-01-10 18:35:08\n",
      "🌐  11/031311103120/1050010040277300 - 2025-01-10 18:35:09\n",
      "🌐  11/031311103122/1050010040277300 - 2025-01-10 18:35:08\n",
      "🌐  11/031311103210/1050010040277300 - 2025-01-10 18:35:07\n",
      "🌐  11/031311103211/1050010040277300 - 2025-01-10 18:35:07\n",
      "🌐  11/031311103300/1050010040277300 - 2025-01-10 18:35:07\n",
      "23it [00:30,  1.11s/it]🌐  11/031311100223/1050010040277400 - 2025-01-10 18:35:41\n",
      "🌐  11/031311102001/1050010040277400 - 2025-01-10 18:35:39\n",
      "24it [00:30,  1.16it/s]🌐  11/031311102212/1050010040277500 - 2025-01-10 18:36:03\n",
      "🌐  11/031311102213/1050010040277500 - 2025-01-10 18:36:03\n",
      "🌐  11/031311102230/1050010040277500 - 2025-01-10 18:36:02\n",
      "🌐  11/031311102231/1050010040277500 - 2025-01-10 18:36:02\n",
      "🌐  11/031311102302/1050010040277500 - 2025-01-10 18:36:03\n",
      "🌐  11/031311102320/1050010040277500 - 2025-01-10 18:36:02\n",
      "🌐  11/031311102322/1050010040277500 - 2025-01-10 18:36:01\n",
      "25it [00:31,  1.25s/it]\n",
      "🌐  18 item(s).\n",
      "🌐  18 datacubes(s) found.\n",
      "🌐  🧊 01: datacube-maxar_open_data-WildFires-LosAngeles-Jan-2025-11-031311103030-1050010040277300\n",
      "🌐  🧊 02: datacube-maxar_open_data-WildFires-LosAngeles-Jan-2025-11-031311103031-1050010040277300\n",
      "🌐  🧊 03: datacube-maxar_open_data-WildFires-LosAngeles-Jan-2025-11-031311103032-1050010040277300\n",
      "🌐  🧊 04: datacube-maxar_open_data-WildFires-LosAngeles-Jan-2025-11-031311103033-1050010040277300\n",
      "🌐  🧊 05: datacube-maxar_open_data-WildFires-LosAngeles-Jan-2025-11-031311103120-1050010040277300\n",
      "🌐  🧊 06: datacube-maxar_open_data-WildFires-LosAngeles-Jan-2025-11-031311103122-1050010040277300\n",
      "🌐  🧊 07: datacube-maxar_open_data-WildFires-LosAngeles-Jan-2025-11-031311103210-1050010040277300\n",
      "🌐  🧊 08: datacube-maxar_open_data-WildFires-LosAngeles-Jan-2025-11-031311103211-1050010040277300\n",
      "🌐  🧊 09: datacube-maxar_open_data-WildFires-LosAngeles-Jan-2025-11-031311103300-1050010040277300\n",
      "🌐  🧊 10: datacube-maxar_open_data-WildFires-LosAngeles-Jan-2025-11-031311100223-1050010040277400\n",
      "🌐  🧊 11: datacube-maxar_open_data-WildFires-LosAngeles-Jan-2025-11-031311102001-1050010040277400\n",
      "🌐  🧊 12: datacube-maxar_open_data-WildFires-LosAngeles-Jan-2025-11-031311102212-1050010040277500\n",
      "🌐  🧊 13: datacube-maxar_open_data-WildFires-LosAngeles-Jan-2025-11-031311102213-1050010040277500\n",
      "🌐  🧊 14: datacube-maxar_open_data-WildFires-LosAngeles-Jan-2025-11-031311102230-1050010040277500\n",
      "🌐  🧊 15: datacube-maxar_open_data-WildFires-LosAngeles-Jan-2025-11-031311102231-1050010040277500\n",
      "🌐  🧊 16: datacube-maxar_open_data-WildFires-LosAngeles-Jan-2025-11-031311102302-1050010040277500\n",
      "🌐  🧊 17: datacube-maxar_open_data-WildFires-LosAngeles-Jan-2025-11-031311102320-1050010040277500\n",
      "🌐  🧊 18: datacube-maxar_open_data-WildFires-LosAngeles-Jan-2025-11-031311102322-1050010040277500\n",
      "🌀  blue_objects.metadata.post.post[/Users/kamangir/storage/abcli/query-2025-01-14-21-46-32-4jbsz2/metadata.yaml]: datacube_id\n",
      "🌀  blue_objects.file.save.save_yaml: datacube_id -> /Users/kamangir/storage/abcli/query-2025-01-14-21-46-32-4jbsz2/metadata.yaml.\n"
     ]
    }
   ],
   "source": [
    "assert MaxarOpenDataDatacube.query(\n",
    "        object_name=object_name,\n",
    "        collection_id=\"WildFires-LosAngeles-Jan-2025\",\n",
    "        start_date=\"2025-01-10\",\n",
    "        end_date=\"2025-01-13\",\n",
    ")"
   ]
  },
  {
   "cell_type": "code",
   "execution_count": 6,
   "metadata": {},
   "outputs": [
    {
     "name": "stderr",
     "output_type": "stream",
     "text": [
      "🌐  🧊 datacube-maxar_open_data-WildFires-LosAngeles-Jan-2025-11-031311103030-1050010040277300\n"
     ]
    }
   ],
   "source": [
    "datacube_id = metadata.get_from_object(object_name, \"datacube_id\")[0]\n",
    "logger.info(f\"🧊 {datacube_id}\")"
   ]
  },
  {
   "cell_type": "markdown",
   "metadata": {},
   "source": [
    "## ingest"
   ]
  },
  {
   "cell_type": "code",
   "execution_count": 7,
   "metadata": {},
   "outputs": [],
   "source": [
    "datacube = get_datacube(datacube_id)\n",
    "assert isinstance(datacube, MaxarOpenDataDatacube)"
   ]
  },
  {
   "cell_type": "code",
   "execution_count": 8,
   "metadata": {},
   "outputs": [
    {
     "name": "stderr",
     "output_type": "stream",
     "text": [
      "🌐  blue_geo.catalog.generic.generic.classes.MaxarOpenDataDatacube.ingest(): metadata @ datacube-maxar_open_data-WildFires-LosAngeles-Jan-2025-11-031311103030-1050010040277300\n",
      "🌐  item: <Item id=11/031311103030/1050010040277300>.\n",
      "🌐  asset_relative_href= ./1050010040277300-visual.tif\n",
      "🌐  root href: https://maxar-opendata.s3.amazonaws.com/events/WildFires-LosAngeles-Jan-2025/ard/11/031311103030/2025-01-10\n",
      "🌐  asset_href: https://maxar-opendata.s3.amazonaws.com/events/WildFires-LosAngeles-Jan-2025/ard/11/031311103030/2025-01-10/./1050010040277300-visual.tif\n",
      "🌐  filename: /Users/kamangir/storage/abcli/datacube-maxar_open_data-WildFires-LosAngeles-Jan-2025-11-031311103030-1050010040277300/1050010040277300-visual.tif\n",
      "🌀  ✅ /Users/kamangir/storage/abcli/datacube-maxar_open_data-WildFires-LosAngeles-Jan-2025-11-031311103030-1050010040277300/1050010040277300-visual.tif\n",
      "🌀  loaded 3x17408x17408:uint8 @ (0.30517578125, 0.30517578125) m : EPSG:32611 from /Users/kamangir/storage/abcli/datacube-maxar_open_data-WildFires-LosAngeles-Jan-2025-11-031311103030-1050010040277300/./1050010040277300-visual.tif\n",
      "🌀  blue_objects.logger.matrix.log_matrix(17408x17408x3:uint8)\n",
      "🌀  scale: 0.13786764705882354\n",
      "🌀  blue_objects.file.save.save_image: 2798x2400x3:uint8 -> /Users/kamangir/storage/abcli/datacube-maxar_open_data-WildFires-LosAngeles-Jan-2025-11-031311103030-1050010040277300/./1050010040277300-visual.png\n"
     ]
    }
   ],
   "source": [
    "success, _ = datacube.ingest()\n",
    "assert success"
   ]
  },
  {
   "attachments": {},
   "cell_type": "markdown",
   "metadata": {},
   "source": [
    "---"
   ]
  },
  {
   "cell_type": "code",
   "execution_count": 9,
   "metadata": {},
   "outputs": [
    {
     "name": "stdout",
     "output_type": "stream",
     "text": [
      "upload: ../../../storage/abcli/datacube-maxar_open_data-WildFires-LosAngeles-Jan-2025-11-031311103030-1050010040277300/datacube-maxar_open_data-WildFires-LosAngeles-Jan-2025-11-031311103030-1050010040277300 to s3://kamangir/bolt/datacube-maxar_open_data-WildFires-LosAngeles-Jan-2025-11-031311103030-1050010040277300/datacube-maxar_open_data-WildFires-LosAngeles-Jan-2025-11-031311103030-1050010040277300\n",
      "upload: ../../../storage/abcli/datacube-maxar_open_data-WildFires-LosAngeles-Jan-2025-11-031311103030-1050010040277300/1050010040277300-visual.png to s3://kamangir/bolt/datacube-maxar_open_data-WildFires-LosAngeles-Jan-2025-11-031311103030-1050010040277300/1050010040277300-visual.png\n"
     ]
    },
    {
     "name": "stderr",
     "output_type": "stream",
     "text": [
      "🌀  ⏺️  datacube-maxar_open_data-WildFires-LosAngeles-Jan-2025-11-031311103030-1050010040277300 | 00008\n",
      "🌀  ⬆️  /Users/kamangir/storage/abcli/datacube-maxar_open_data-WildFires-LosAngeles-Jan-2025-11-031311103030-1050010040277300/1050010040277300-visual.png\n",
      "🌀  ⬆️  /Users/kamangir/storage/abcli/datacube-maxar_open_data-WildFires-LosAngeles-Jan-2025-11-031311103030-1050010040277300/1050010040277300-visual.png.aux.xml\n"
     ]
    },
    {
     "name": "stdout",
     "output_type": "stream",
     "text": [
      "🏃 View run datacube-maxar_open_data-WildFires-LosAngeles-Jan-2025-11-031311103030-1050010040277300-00008 at: https://dbc-3ac1d106-bf0c.cloud.databricks.com/ml/experiments/3846774623941650/runs/8c46b4fea45741fc92bf5db765eb6932\n",
      "🧪 View experiment at: https://dbc-3ac1d106-bf0c.cloud.databricks.com/ml/experiments/3846774623941650\n"
     ]
    },
    {
     "name": "stderr",
     "output_type": "stream",
     "text": [
      "🌀  ⏹️  datacube-maxar_open_data-WildFires-LosAngeles-Jan-2025-11-031311103030-1050010040277300\n"
     ]
    }
   ],
   "source": [
    "assert notebooks.upload(datacube_id)"
   ]
  },
  {
   "cell_type": "code",
   "execution_count": 10,
   "metadata": {},
   "outputs": [],
   "source": [
    "# END"
   ]
  }
 ],
 "metadata": {
  "kernelspec": {
   "display_name": ".venv",
   "language": "python",
   "name": "python3"
  },
  "language_info": {
   "codemirror_mode": {
    "name": "ipython",
    "version": 3
   },
   "file_extension": ".py",
   "mimetype": "text/x-python",
   "name": "python",
   "nbconvert_exporter": "python",
   "pygments_lexer": "ipython3",
   "version": "3.9.6"
  },
  "toc": {
   "base_numbering": 1,
   "nav_menu": {},
   "number_sections": true,
   "sideBar": true,
   "skip_h1_title": false,
   "title_cell": "Table of Contents",
   "title_sidebar": "Contents",
   "toc_cell": false,
   "toc_position": {},
   "toc_section_display": true,
   "toc_window_display": false
  }
 },
 "nbformat": 4,
 "nbformat_minor": 2
}
