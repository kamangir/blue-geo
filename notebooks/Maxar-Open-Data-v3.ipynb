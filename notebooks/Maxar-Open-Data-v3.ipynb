{
 "cells": [
  {
   "attachments": {},
   "cell_type": "markdown",
   "metadata": {},
   "source": [
    "# Maxar Open Data: query and ingest\n",
    "\n",
    "https://www.maxar.com/open-data/\n",
    "\n",
    "[10300100EB15FF00_collection.json](https://radiantearth.github.io/stac-browser/?source=post_page-----fbbd512aeca0--------------------------------#/external/maxar-opendata.s3.amazonaws.com/events/Maui-Hawaii-fires-Aug-23/ard/acquisition_collections/10300100EB15FF00_collection.json)"
   ]
  },
  {
   "cell_type": "code",
   "execution_count": 1,
   "metadata": {},
   "outputs": [],
   "source": [
    "verbose = False"
   ]
  },
  {
   "cell_type": "code",
   "execution_count": 4,
   "metadata": {},
   "outputs": [
    {
     "name": "stderr",
     "output_type": "stream",
     "text": [
      "🌐  blue_geo-4.878.1.blueflow-4.835.1.abcli-9.464.1.blue_objects-5.227.1.blue_options-4.189.1.torch-2.5.1.Python 3.9.6.Darwin 23.6.0..Jupyter-Notebook,\n",
      "built on 14 January 2025, 19:59:14\n"
     ]
    }
   ],
   "source": [
    "from blueflow import notebooks\n",
    "\n",
    "import datetime\n",
    "\n",
    "from blue_options import string\n",
    "from blue_objects import objects\n",
    "\n",
    "from blue_geo.catalog.maxar_open_data import MaxarOpenDataCatalog, MaxarOpenDataDatacube\n",
    "from blue_geo.host import signature\n",
    "from blue_geo.logger import logger\n",
    "\n",
    "logger.info(f\"{'.'.join(signature())},\\nbuilt on {string.pretty_date()}\")"
   ]
  },
  {
   "cell_type": "code",
   "execution_count": 3,
   "metadata": {},
   "outputs": [
    {
     "data": {
      "text/plain": [
       "['BayofBengal-Cyclone-Mocha-May-23',\n",
       " 'Belize-Wildfires-June24',\n",
       " 'Brazil-Flooding-May24',\n",
       " 'Cyclone-Chido-Dec15',\n",
       " 'Emilia-Romagna-Italy-flooding-may23',\n",
       " 'Floods-Spain-Oct24',\n",
       " 'Gambia-flooding-8-11-2022',\n",
       " 'Hurricane-Fiona-9-19-2022',\n",
       " 'Hurricane-Ian-9-26-2022',\n",
       " 'Hurricane-Idalia-Florida-Aug23',\n",
       " 'HurricaneHelene-Oct24',\n",
       " 'HurricaneMilton-Oct24',\n",
       " 'Iceland-Volcano_Eruption-Dec-2023',\n",
       " 'India-Floods-Oct-2023',\n",
       " 'Indonesia-Earthquake22',\n",
       " 'Japan-Earthquake-Jan-2024',\n",
       " 'Kahramanmaras-turkey-earthquake-23',\n",
       " 'Kalehe-DRC-Flooding-5-8-23',\n",
       " 'Kenya-Flooding-May24',\n",
       " 'Libya-Floods-Sept-2023',\n",
       " 'Marshall-Fire-21-Update',\n",
       " 'Maui-Hawaii-fires-Aug-23',\n",
       " 'McDougallCreekWildfire-BC-Canada-Aug-23',\n",
       " 'Morocco-Earthquake-Sept-2023',\n",
       " 'NWT-Canada-Aug-23',\n",
       " 'Nepal-Earthquake-Apr-2015',\n",
       " 'Nepal-Earthquake-Nov-2023',\n",
       " 'Nepal-Floods-Sept-2024',\n",
       " 'New-Zealand-Flooding23',\n",
       " 'Nigeria-Floods-Sept-2024',\n",
       " 'PNG-Landslide-June24',\n",
       " 'SmokeHouseCreek-Wildfires-Texas-Mar24',\n",
       " 'Sudan-flooding-8-22-2022',\n",
       " 'Vanuatu-Earthquake-Dec17',\n",
       " 'WildFires-LosAngeles-Jan-2025',\n",
       " 'afghanistan-earthquake22',\n",
       " 'cyclone-emnati22',\n",
       " 'ghana-explosion22',\n",
       " 'kentucky-flooding-7-29-2022',\n",
       " 'pakistan-flooding22',\n",
       " 'shovi-georgia-landslide-8Aug23',\n",
       " 'southafrica-flooding22',\n",
       " 'tonga-volcano21',\n",
       " 'volcano-indonesia21',\n",
       " 'yellowstone-flooding22']"
      ]
     },
     "execution_count": 3,
     "metadata": {},
     "output_type": "execute_result"
    }
   ],
   "source": [
    "catalog = MaxarOpenDataCatalog()\n",
    "catalog.get_list_of_collections()"
   ]
  },
  {
   "cell_type": "markdown",
   "metadata": {},
   "source": [
    "🔥"
   ]
  },
  {
   "cell_type": "code",
   "execution_count": null,
   "metadata": {},
   "outputs": [],
   "source": [
    "collection_id = \"WildFires-LosAngeles-Jan-2025\""
   ]
  },
  {
   "cell_type": "markdown",
   "metadata": {},
   "source": [
    "---"
   ]
  },
  {
   "cell_type": "markdown",
   "metadata": {},
   "source": [
    "## query"
   ]
  },
  {
   "cell_type": "code",
   "execution_count": null,
   "metadata": {},
   "outputs": [],
   "source": [
    "object_name = objects.unique_object(\"query\")\n",
    "logger.info(f\"📂 {object_name}\")"
   ]
  },
  {
   "cell_type": "code",
   "execution_count": null,
   "metadata": {},
   "outputs": [],
   "source": [
    "assert MaxarOpenDataDatacube.query(\n",
    "    object_name=object_name,\n",
    ")"
   ]
  },
  {
   "cell_type": "code",
   "execution_count": null,
   "metadata": {},
   "outputs": [],
   "source": [
    "collection = client.get_collection(collection_id)\n",
    "logger.info(collection)"
   ]
  },
  {
   "cell_type": "code",
   "execution_count": null,
   "metadata": {},
   "outputs": [],
   "source": [
    "list_of_items = client.query(\n",
    "    collection_id=collection_id,\n",
    "    start_date = datetime.datetime(2025, 1, 10),\n",
    "    end_date = datetime.datetime(2025, 1, 13),\n",
    "    log=True,\n",
    ")"
   ]
  },
  {
   "cell_type": "code",
   "execution_count": null,
   "metadata": {},
   "outputs": [],
   "source": [
    "datacube_id = client.get_datacube_id(\n",
    "    item=list_of_items[1],\n",
    "    collection_id=collection_id,\n",
    "    log=True\n",
    "    )"
   ]
  },
  {
   "cell_type": "markdown",
   "metadata": {},
   "source": [
    "## ingest"
   ]
  },
  {
   "cell_type": "code",
   "execution_count": null,
   "metadata": {},
   "outputs": [],
   "source": [
    "assert client.ingest(datacube_id=datacube_id)"
   ]
  },
  {
   "attachments": {},
   "cell_type": "markdown",
   "metadata": {},
   "source": [
    "---"
   ]
  },
  {
   "cell_type": "code",
   "execution_count": null,
   "metadata": {},
   "outputs": [],
   "source": [
    "assert notebooks.upload(datacube_id)"
   ]
  },
  {
   "cell_type": "code",
   "execution_count": null,
   "metadata": {},
   "outputs": [],
   "source": [
    "# END"
   ]
  }
 ],
 "metadata": {
  "kernelspec": {
   "display_name": ".venv",
   "language": "python",
   "name": "python3"
  },
  "language_info": {
   "codemirror_mode": {
    "name": "ipython",
    "version": 3
   },
   "file_extension": ".py",
   "mimetype": "text/x-python",
   "name": "python",
   "nbconvert_exporter": "python",
   "pygments_lexer": "ipython3",
   "version": "3.9.6"
  },
  "toc": {
   "base_numbering": 1,
   "nav_menu": {},
   "number_sections": true,
   "sideBar": true,
   "skip_h1_title": false,
   "title_cell": "Table of Contents",
   "title_sidebar": "Contents",
   "toc_cell": false,
   "toc_position": {},
   "toc_section_display": true,
   "toc_window_display": false
  }
 },
 "nbformat": 4,
 "nbformat_minor": 2
}
