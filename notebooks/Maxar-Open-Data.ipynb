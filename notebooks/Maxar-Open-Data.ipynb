{
 "cells": [
  {
   "attachments": {},
   "cell_type": "markdown",
   "metadata": {},
   "source": [
    "# Maxar Open Data: query and ingest\n",
    "\n",
    "https://www.maxar.com/open-data/\n",
    "\n",
    "[10300100EB15FF00_collection.json](https://radiantearth.github.io/stac-browser/?source=post_page-----fbbd512aeca0--------------------------------#/external/maxar-opendata.s3.amazonaws.com/events/Maui-Hawaii-fires-Aug-23/ard/acquisition_collections/10300100EB15FF00_collection.json)"
   ]
  },
  {
   "cell_type": "code",
   "execution_count": 1,
   "metadata": {},
   "outputs": [],
   "source": [
    "verbose = True"
   ]
  },
  {
   "cell_type": "code",
   "execution_count": 2,
   "metadata": {},
   "outputs": [
    {
     "name": "stderr",
     "output_type": "stream",
     "text": [
      "🌐  blue_geo-4.866.1.blueflow-4.835.1.abcli-9.464.1.blue_objects-5.225.1.blue_options-4.187.1.torch-2.5.1.Python 3.9.6.Darwin 23.6.0..Jupyter-Notebook,\n",
      "built on 14 January 2025, 13:38:19\n"
     ]
    }
   ],
   "source": [
    "from blueflow import notebooks\n",
    "\n",
    "import pystac\n",
    "import datetime\n",
    "\n",
    "from blue_options import string\n",
    "from blue_objects import objects\n",
    "\n",
    "from blue_geo.host import signature\n",
    "from blue_geo.logger import logger\n",
    "\n",
    "logger.info(f\"{'.'.join(signature())},\\nbuilt on {string.pretty_date()}\")"
   ]
  },
  {
   "cell_type": "code",
   "execution_count": 3,
   "metadata": {},
   "outputs": [
    {
     "name": "stderr",
     "output_type": "stream",
     "text": [
      "🌐  <Catalog id=maxar-opendata>\n"
     ]
    }
   ],
   "source": [
    "URL = \"https://maxar-opendata.s3.amazonaws.com/events/catalog.json\"\n",
    "collection_id = \"WildFires-LosAngeles-Jan-2025\"\n",
    "\n",
    "catalog = pystac.Catalog.from_file(URL)\n",
    "if verbose:\n",
    "    logger.info(catalog)"
   ]
  },
  {
   "cell_type": "code",
   "execution_count": 4,
   "metadata": {},
   "outputs": [
    {
     "name": "stderr",
     "output_type": "stream",
     "text": [
      "🌐  45 collection(s): BayofBengal-Cyclone-Mocha-May-23, Belize-Wildfires-June24, Brazil-Flooding-May24, Cyclone-Chido-Dec15, Emilia-Romagna-Italy-flooding-may23, Floods-Spain-Oct24, Gambia-flooding-8-11-2022, Hurricane-Fiona-9-19-2022, Hurricane-Ian-9-26-2022, Hurricane-Idalia-Florida-Aug23, HurricaneHelene-Oct24, HurricaneMilton-Oct24, Iceland-Volcano_Eruption-Dec-2023, India-Floods-Oct-2023, Indonesia-Earthquake22, Japan-Earthquake-Jan-2024, Kahramanmaras-turkey-earthquake-23, Kalehe-DRC-Flooding-5-8-23, Kenya-Flooding-May24, Libya-Floods-Sept-2023, Marshall-Fire-21-Update, Maui-Hawaii-fires-Aug-23, McDougallCreekWildfire-BC-Canada-Aug-23, Morocco-Earthquake-Sept-2023, NWT-Canada-Aug-23, Nepal-Earthquake-Apr-2015, Nepal-Earthquake-Nov-2023, Nepal-Floods-Sept-2024, New-Zealand-Flooding23, Nigeria-Floods-Sept-2024, PNG-Landslide-June24, SmokeHouseCreek-Wildfires-Texas-Mar24, Sudan-flooding-8-22-2022, Vanuatu-Earthquake-Dec17, WildFires-LosAngeles-Jan-2025, afghanistan-earthquake22, cyclone-emnati22, ghana-explosion22, kentucky-flooding-7-29-2022, pakistan-flooding22, shovi-georgia-landslide-8Aug23, southafrica-flooding22, tonga-volcano21, volcano-indonesia21, yellowstone-flooding22\n"
     ]
    }
   ],
   "source": [
    "list_of_collections = [collection.id for collection in catalog.get_children()]\n",
    "\n",
    "logger.info(\"{} collection(s): {}\".format(\n",
    "    len(list_of_collections),\n",
    "    \", \".join(list_of_collections),\n",
    "    ))"
   ]
  },
  {
   "cell_type": "code",
   "execution_count": 5,
   "metadata": {},
   "outputs": [
    {
     "name": "stderr",
     "output_type": "stream",
     "text": [
      "🌐  <Collection id=WildFires-LosAngeles-Jan-2025>\n",
      "🌐  [<Collection id=103001010A705C00>, <Collection id=103001010B9A1B00>, <Collection id=104001009C64B300>, <Collection id=104001009F2ED400>, <Collection id=104001009F982A00>, <Collection id=10400100A069A700>, <Collection id=10400100A0AEFE00>, <Collection id=10400100A0BD9A00>, <Collection id=10400100A1028F00>, <Collection id=10400100A1349500>, <Collection id=10400100A17B5900>, <Collection id=10400100A17E8600>, <Collection id=10400100A1989500>, <Collection id=10400100A20D9300>, <Collection id=10400100A24E1900>, <Collection id=105001003FC45900>, <Collection id=1050010040277300>, <Collection id=1050010040277400>, <Collection id=1050010040277500>]\n",
      "🌐  -> 103001010A705C00\n",
      "🌐  11/031311102001/103001010A705C00: 2024-12-14 18:53:50Z\n",
      "🌐  11/031311102003/103001010A705C00: 2024-12-14 18:53:50Z\n",
      "🌐  11/031311102010/103001010A705C00: 2024-12-14 18:53:50Z\n",
      "🌐  11/031311102011/103001010A705C00: 2024-12-14 18:53:50Z\n",
      "🌐  11/031311102012/103001010A705C00: 2024-12-14 18:53:50Z\n",
      "🌐  11/031311102013/103001010A705C00: 2024-12-14 18:53:50Z\n",
      "🌐  11/031311102021/103001010A705C00: 2024-12-14 18:53:51Z\n",
      "🌐  11/031311102030/103001010A705C00: 2024-12-14 18:53:51Z\n",
      "🌐  11/031311102031/103001010A705C00: 2024-12-14 18:53:51Z\n",
      "🌐  11/031311102100/103001010A705C00: 2024-12-14 18:53:50Z\n",
      "🌐  11/031311102102/103001010A705C00: 2024-12-14 18:53:50Z\n",
      "🌐  11/031311102120/103001010A705C00: 2024-12-14 18:53:51Z\n",
      "🌐  -> 103001010B9A1B00\n",
      "🌐  11/031311100221/103001010B9A1B00: 2025-01-13 19:06:52Z\n",
      "🌐  11/031311100223/103001010B9A1B00: 2025-01-13 19:06:52Z\n",
      "🌐  11/031311100230/103001010B9A1B00: 2025-01-13 19:06:52Z\n",
      "🌐  11/031311100231/103001010B9A1B00: 2025-01-13 19:06:52Z\n",
      "🌐  11/031311100232/103001010B9A1B00: 2025-01-13 19:06:53Z\n",
      "🌐  11/031311100233/103001010B9A1B00: 2025-01-13 19:06:53Z\n",
      "🌐  11/031311100320/103001010B9A1B00: 2025-01-13 19:06:52Z\n",
      "🌐  11/031311100322/103001010B9A1B00: 2025-01-13 19:06:53Z\n",
      "🌐  11/031311102001/103001010B9A1B00: 2025-01-13 19:06:53Z\n",
      "🌐  11/031311102003/103001010B9A1B00: 2025-01-13 19:06:53Z\n",
      "🌐  11/031311102010/103001010B9A1B00: 2025-01-13 19:06:53Z\n",
      "🌐  11/031311102011/103001010B9A1B00: 2025-01-13 19:06:53Z\n",
      "🌐  11/031311102012/103001010B9A1B00: 2025-01-13 19:06:53Z\n",
      "🌐  11/031311102013/103001010B9A1B00: 2025-01-13 19:06:53Z\n",
      "🌐  11/031311102021/103001010B9A1B00: 2025-01-13 19:06:54Z\n",
      "🌐  11/031311102023/103001010B9A1B00: 2025-01-13 19:06:54Z\n",
      "🌐  11/031311102030/103001010B9A1B00: 2025-01-13 19:06:54Z\n",
      "🌐  11/031311102031/103001010B9A1B00: 2025-01-13 19:06:54Z\n",
      "🌐  11/031311102032/103001010B9A1B00: 2025-01-13 19:06:54Z\n",
      "🌐  11/031311102033/103001010B9A1B00: 2025-01-13 19:06:54Z\n",
      "🌐  11/031311102100/103001010B9A1B00: 2025-01-13 19:06:53Z\n",
      "🌐  11/031311102102/103001010B9A1B00: 2025-01-13 19:06:53Z\n",
      "🌐  11/031311102120/103001010B9A1B00: 2025-01-13 19:06:54Z\n",
      "🌐  11/031311102122/103001010B9A1B00: 2025-01-13 19:06:54Z\n",
      "🌐  11/031311102201/103001010B9A1B00: 2025-01-13 19:06:54Z\n",
      "🌐  11/031311102203/103001010B9A1B00: 2025-01-13 19:06:55Z\n",
      "🌐  11/031311102210/103001010B9A1B00: 2025-01-13 19:06:54Z\n",
      "🌐  11/031311102211/103001010B9A1B00: 2025-01-13 19:06:55Z\n",
      "🌐  11/031311102212/103001010B9A1B00: 2025-01-13 19:06:55Z\n",
      "🌐  11/031311102213/103001010B9A1B00: 2025-01-13 19:06:55Z\n",
      "🌐  11/031311102221/103001010B9A1B00: 2025-01-13 19:06:55Z\n",
      "🌐  11/031311102230/103001010B9A1B00: 2025-01-13 19:06:55Z\n",
      "🌐  11/031311102231/103001010B9A1B00: 2025-01-13 19:06:55Z\n",
      "🌐  11/031311102232/103001010B9A1B00: 2025-01-13 19:06:56Z\n",
      "🌐  11/031311102233/103001010B9A1B00: 2025-01-13 19:06:56Z\n",
      "🌐  11/031311102300/103001010B9A1B00: 2025-01-13 19:06:55Z\n",
      "🌐  11/031311102302/103001010B9A1B00: 2025-01-13 19:06:55Z\n",
      "🌐  11/031311102320/103001010B9A1B00: 2025-01-13 19:06:55Z\n",
      "🌐  11/031311102322/103001010B9A1B00: 2025-01-13 19:06:56Z\n",
      "🌐  -> 104001009C64B300\n",
      "🌐  11/031311103031/104001009C64B300: 2025-01-08 18:41:38Z\n",
      "🌐  11/031311103120/104001009C64B300: 2025-01-08 18:41:38Z\n",
      "🌐  11/031311103300/104001009C64B300: 2025-01-08 18:41:37Z\n",
      "🌐  -> 104001009F2ED400\n",
      "🌐  11/031311100221/104001009F2ED400: 2025-01-09 18:56:06Z\n",
      "🌐  11/031311100230/104001009F2ED400: 2025-01-09 18:56:06Z\n",
      "🌐  -> 104001009F982A00\n",
      "🌐  11/031311100233/104001009F982A00: 2024-12-14 18:39:04Z\n",
      "🌐  11/031311102011/104001009F982A00: 2024-12-14 18:39:05Z\n",
      "🌐  11/031311102013/104001009F982A00: 2024-12-14 18:39:05Z\n",
      "🌐  11/031311102100/104001009F982A00: 2024-12-14 18:39:05Z\n",
      "🌐  11/031311102101/104001009F982A00: 2024-12-14 18:39:05Z\n",
      "🌐  11/031311102102/104001009F982A00: 2024-12-14 18:39:06Z\n",
      "🌐  11/031311102103/104001009F982A00: 2024-12-14 18:39:06Z\n",
      "🌐  -> 10400100A069A700\n",
      "🌐  11/031311100221/10400100A069A700: 2025-01-09 18:56:25Z\n",
      "🌐  11/031311100223/10400100A069A700: 2025-01-09 18:56:26Z\n",
      "🌐  11/031311100230/10400100A069A700: 2025-01-09 18:56:25Z\n",
      "🌐  11/031311100231/10400100A069A700: 2025-01-09 18:56:25Z\n",
      "🌐  11/031311100232/10400100A069A700: 2025-01-09 18:56:26Z\n",
      "🌐  11/031311100233/10400100A069A700: 2025-01-09 18:56:26Z\n",
      "🌐  11/031311102001/10400100A069A700: 2025-01-09 18:56:27Z\n",
      "🌐  11/031311102003/10400100A069A700: 2025-01-09 18:56:27Z\n",
      "🌐  11/031311102010/10400100A069A700: 2025-01-09 18:56:27Z\n",
      "🌐  11/031311102011/10400100A069A700: 2025-01-09 18:56:27Z\n",
      "🌐  11/031311102012/10400100A069A700: 2025-01-09 18:56:27Z\n",
      "🌐  11/031311102013/10400100A069A700: 2025-01-09 18:56:27Z\n",
      "🌐  11/031311102021/10400100A069A700: 2025-01-09 18:56:28Z\n",
      "🌐  11/031311102023/10400100A069A700: 2025-01-09 18:56:29Z\n",
      "🌐  11/031311102030/10400100A069A700: 2025-01-09 18:56:28Z\n",
      "🌐  11/031311102031/10400100A069A700: 2025-01-09 18:56:28Z\n",
      "🌐  11/031311102032/10400100A069A700: 2025-01-09 18:56:29Z\n",
      "🌐  11/031311102033/10400100A069A700: 2025-01-09 18:56:29Z\n",
      "🌐  11/031311102201/10400100A069A700: 2025-01-09 18:56:29Z\n",
      "🌐  11/031311102203/10400100A069A700: 2025-01-09 18:56:30Z\n",
      "🌐  11/031311102210/10400100A069A700: 2025-01-09 18:56:29Z\n",
      "🌐  11/031311102211/10400100A069A700: 2025-01-09 18:56:29Z\n",
      "🌐  -> 10400100A0AEFE00\n",
      "🌐  11/031311100221/10400100A0AEFE00: 2024-12-14 18:39:29Z\n",
      "🌐  11/031311100223/10400100A0AEFE00: 2024-12-14 18:39:30Z\n",
      "🌐  11/031311102001/10400100A0AEFE00: 2024-12-14 18:39:31Z\n",
      "🌐  11/031311102003/10400100A0AEFE00: 2024-12-14 18:39:32Z\n",
      "🌐  -> 10400100A0BD9A00\n",
      "🌐  11/031311100332/10400100A0BD9A00: 2024-12-21 18:52:32Z\n",
      "🌐  11/031311102110/10400100A0BD9A00: 2024-12-21 18:52:32Z\n",
      "🌐  -> 10400100A1028F00\n",
      "🌐  11/031311103120/10400100A1028F00: 2024-12-26 18:33:49Z\n",
      "🌐  11/031311103122/10400100A1028F00: 2024-12-26 18:33:49Z\n",
      "🌐  11/031311103300/10400100A1028F00: 2024-12-26 18:33:50Z\n",
      "🌐  -> 10400100A1349500\n",
      "🌐  11/031311103031/10400100A1349500: 2025-01-08 18:40:42Z\n",
      "🌐  11/031311103120/10400100A1349500: 2025-01-08 18:40:42Z\n",
      "🌐  -> 10400100A17B5900\n",
      "🌐  11/031311102001/10400100A17B5900: 2024-12-21 18:51:48Z\n",
      "🌐  11/031311102003/10400100A17B5900: 2024-12-21 18:51:48Z\n",
      "🌐  11/031311102010/10400100A17B5900: 2024-12-21 18:51:48Z\n",
      "🌐  11/031311102012/10400100A17B5900: 2024-12-21 18:51:48Z\n",
      "🌐  11/031311102013/10400100A17B5900: 2024-12-21 18:51:48Z\n",
      "🌐  11/031311102021/10400100A17B5900: 2024-12-21 18:51:49Z\n",
      "🌐  11/031311102023/10400100A17B5900: 2024-12-21 18:51:50Z\n",
      "🌐  11/031311102030/10400100A17B5900: 2024-12-21 18:51:49Z\n",
      "🌐  11/031311102031/10400100A17B5900: 2024-12-21 18:51:49Z\n",
      "🌐  11/031311102032/10400100A17B5900: 2024-12-21 18:51:50Z\n",
      "🌐  11/031311102033/10400100A17B5900: 2024-12-21 18:51:50Z\n",
      "🌐  11/031311102201/10400100A17B5900: 2024-12-21 18:51:51Z\n",
      "🌐  11/031311102203/10400100A17B5900: 2024-12-21 18:51:51Z\n",
      "🌐  11/031311102210/10400100A17B5900: 2024-12-21 18:51:51Z\n",
      "🌐  11/031311102211/10400100A17B5900: 2024-12-21 18:51:50Z\n",
      "🌐  11/031311102212/10400100A17B5900: 2024-12-21 18:51:51Z\n",
      "🌐  11/031311102213/10400100A17B5900: 2024-12-21 18:51:51Z\n",
      "🌐  -> 10400100A17E8600\n",
      "🌐  11/031311103030/10400100A17E8600: 2025-01-01 18:29:58Z\n",
      "🌐  11/031311103031/10400100A17E8600: 2025-01-01 18:29:58Z\n",
      "🌐  11/031311103032/10400100A17E8600: 2025-01-01 18:29:58Z\n",
      "🌐  11/031311103033/10400100A17E8600: 2025-01-01 18:29:58Z\n",
      "🌐  11/031311103120/10400100A17E8600: 2025-01-01 18:29:57Z\n",
      "🌐  11/031311103122/10400100A17E8600: 2025-01-01 18:29:58Z\n",
      "🌐  11/031311103210/10400100A17E8600: 2025-01-01 18:29:59Z\n",
      "🌐  11/031311103211/10400100A17E8600: 2025-01-01 18:29:59Z\n",
      "🌐  11/031311103300/10400100A17E8600: 2025-01-01 18:29:59Z\n",
      "🌐  -> 10400100A1989500\n",
      "🌐  11/031311100230/10400100A1989500: 2024-12-14 18:39:16Z\n",
      "🌐  11/031311100231/10400100A1989500: 2024-12-14 18:39:16Z\n",
      "🌐  11/031311100232/10400100A1989500: 2024-12-14 18:39:16Z\n",
      "🌐  11/031311100233/10400100A1989500: 2024-12-14 18:39:15Z\n",
      "🌐  11/031311102010/10400100A1989500: 2024-12-14 18:39:15Z\n",
      "🌐  11/031311102011/10400100A1989500: 2024-12-14 18:39:15Z\n",
      "🌐  11/031311102012/10400100A1989500: 2024-12-14 18:39:14Z\n",
      "🌐  11/031311102013/10400100A1989500: 2024-12-14 18:39:14Z\n",
      "🌐  -> 10400100A20D9300\n",
      "🌐  11/031311100320/10400100A20D9300: 2025-01-09 18:56:49Z\n",
      "🌐  11/031311100322/10400100A20D9300: 2025-01-09 18:56:49Z\n",
      "🌐  11/031311100323/10400100A20D9300: 2025-01-09 18:56:49Z\n",
      "🌐  11/031311102100/10400100A20D9300: 2025-01-09 18:56:48Z\n",
      "🌐  11/031311102101/10400100A20D9300: 2025-01-09 18:56:48Z\n",
      "🌐  11/031311102102/10400100A20D9300: 2025-01-09 18:56:47Z\n",
      "🌐  11/031311102103/10400100A20D9300: 2025-01-09 18:56:47Z\n",
      "🌐  11/031311102120/10400100A20D9300: 2025-01-09 18:56:46Z\n",
      "🌐  11/031311102121/10400100A20D9300: 2025-01-09 18:56:46Z\n",
      "🌐  11/031311102122/10400100A20D9300: 2025-01-09 18:56:46Z\n",
      "🌐  11/031311102123/10400100A20D9300: 2025-01-09 18:56:46Z\n",
      "🌐  11/031311102300/10400100A20D9300: 2025-01-09 18:56:45Z\n",
      "🌐  11/031311102301/10400100A20D9300: 2025-01-09 18:56:45Z\n",
      "🌐  11/031311102302/10400100A20D9300: 2025-01-09 18:56:44Z\n",
      "🌐  11/031311102303/10400100A20D9300: 2025-01-09 18:56:44Z\n",
      "🌐  11/031311102320/10400100A20D9300: 2025-01-09 18:56:44Z\n",
      "🌐  11/031311102321/10400100A20D9300: 2025-01-09 18:56:44Z\n",
      "🌐  11/031311102322/10400100A20D9300: 2025-01-09 18:56:43Z\n",
      "🌐  11/031311102323/10400100A20D9300: 2025-01-09 18:56:43Z\n",
      "🌐  11/031311120101/10400100A20D9300: 2025-01-09 18:56:42Z\n",
      "🌐  -> 10400100A24E1900\n",
      "🌐  11/031311103120/10400100A24E1900: 2025-01-08 18:41:49Z\n",
      "🌐  11/031311103300/10400100A24E1900: 2025-01-08 18:41:51Z\n",
      "🌐  -> 105001003FC45900\n",
      "🌐  11/031311103033/105001003FC45900: 2024-12-25 18:50:39Z\n",
      "🌐  11/031311103122/105001003FC45900: 2024-12-25 18:50:39Z\n",
      "🌐  11/031311103210/105001003FC45900: 2024-12-25 18:50:39Z\n",
      "🌐  11/031311103211/105001003FC45900: 2024-12-25 18:50:39Z\n",
      "🌐  11/031311103300/105001003FC45900: 2024-12-25 18:50:39Z\n",
      "🌐  -> 1050010040277300\n",
      "🌐  11/031311103030/1050010040277300: 2025-01-10 18:35:09Z\n",
      "🌐  11/031311103031/1050010040277300: 2025-01-10 18:35:09Z\n",
      "🌐  11/031311103032/1050010040277300: 2025-01-10 18:35:08Z\n",
      "🌐  11/031311103033/1050010040277300: 2025-01-10 18:35:08Z\n",
      "🌐  11/031311103120/1050010040277300: 2025-01-10 18:35:09Z\n",
      "🌐  11/031311103122/1050010040277300: 2025-01-10 18:35:08Z\n",
      "🌐  11/031311103210/1050010040277300: 2025-01-10 18:35:07Z\n",
      "🌐  11/031311103211/1050010040277300: 2025-01-10 18:35:07Z\n",
      "🌐  11/031311103300/1050010040277300: 2025-01-10 18:35:07Z\n",
      "🌐  -> 1050010040277400\n",
      "🌐  11/031311100223/1050010040277400: 2025-01-10 18:35:41Z\n",
      "🌐  11/031311102001/1050010040277400: 2025-01-10 18:35:39Z\n",
      "🌐  -> 1050010040277500\n",
      "🌐  11/031311102212/1050010040277500: 2025-01-10 18:36:03Z\n",
      "🌐  11/031311102213/1050010040277500: 2025-01-10 18:36:03Z\n",
      "🌐  11/031311102230/1050010040277500: 2025-01-10 18:36:02Z\n",
      "🌐  11/031311102231/1050010040277500: 2025-01-10 18:36:02Z\n",
      "🌐  11/031311102302/1050010040277500: 2025-01-10 18:36:03Z\n",
      "🌐  11/031311102320/1050010040277500: 2025-01-10 18:36:02Z\n",
      "🌐  11/031311102322/1050010040277500: 2025-01-10 18:36:01Z\n"
     ]
    }
   ],
   "source": [
    "collection = catalog.get_child(collection_id)\n",
    "logger.info(collection)\n",
    "\n",
    "logger.info(list(collection.get_children()))\n",
    "\n",
    "for child in collection.get_children():\n",
    "    logger.info(f\"-> {child.id}\")\n",
    "    for item in child.get_items():\n",
    "        logger.info(\"{}: {}\".format(item.id,item.properties['datetime']))"
   ]
  },
  {
   "cell_type": "markdown",
   "metadata": {},
   "source": [
    "---"
   ]
  },
  {
   "cell_type": "markdown",
   "metadata": {},
   "source": [
    "## query"
   ]
  },
  {
   "cell_type": "code",
   "execution_count": 6,
   "metadata": {},
   "outputs": [
    {
     "name": "stderr",
     "output_type": "stream",
     "text": [
      "🌀  📂 query-2025-01-14-13-38-56-5z2hh3\n"
     ]
    }
   ],
   "source": [
    "object_name = objects.unique_object(\"query\")\n",
    "object_path = objects.object_path(object_name)"
   ]
  },
  {
   "cell_type": "code",
   "execution_count": 7,
   "metadata": {},
   "outputs": [
    {
     "name": "stderr",
     "output_type": "stream",
     "text": [
      "🌐  11/031311103030/1050010040277300 - 2025-01-10 18:35:09\n",
      "🌐  11/031311103031/1050010040277300 - 2025-01-10 18:35:09\n",
      "🌐  11/031311103032/1050010040277300 - 2025-01-10 18:35:08\n",
      "🌐  11/031311103033/1050010040277300 - 2025-01-10 18:35:08\n",
      "🌐  11/031311103120/1050010040277300 - 2025-01-10 18:35:09\n",
      "🌐  11/031311103122/1050010040277300 - 2025-01-10 18:35:08\n",
      "🌐  11/031311103210/1050010040277300 - 2025-01-10 18:35:07\n",
      "🌐  11/031311103211/1050010040277300 - 2025-01-10 18:35:07\n",
      "🌐  11/031311103300/1050010040277300 - 2025-01-10 18:35:07\n",
      "🌐  11/031311100223/1050010040277400 - 2025-01-10 18:35:41\n",
      "🌐  11/031311102001/1050010040277400 - 2025-01-10 18:35:39\n",
      "🌐  11/031311102212/1050010040277500 - 2025-01-10 18:36:03\n",
      "🌐  11/031311102213/1050010040277500 - 2025-01-10 18:36:03\n",
      "🌐  11/031311102230/1050010040277500 - 2025-01-10 18:36:02\n",
      "🌐  11/031311102231/1050010040277500 - 2025-01-10 18:36:02\n",
      "🌐  11/031311102302/1050010040277500 - 2025-01-10 18:36:03\n",
      "🌐  11/031311102320/1050010040277500 - 2025-01-10 18:36:02\n",
      "🌐  11/031311102322/1050010040277500 - 2025-01-10 18:36:01\n",
      "🌐  18 item(s).\n"
     ]
    }
   ],
   "source": [
    "start_date = datetime.datetime(2025, 1, 10)\n",
    "end_date = datetime.datetime(2025, 1, 13)\n",
    "\n",
    "list_of_items = []\n",
    "\n",
    "for child in collection.get_children():\n",
    "    for item in child.get_items():\n",
    "        item_date = datetime.datetime.strptime(item.properties['datetime'], '%Y-%m-%d %H:%M:%SZ')\n",
    "        if start_date <= item_date <= end_date:\n",
    "            logger.info(f\"{item.id} - {item_date}\")\n",
    "\n",
    "            list_of_items += [item]\n",
    "\n",
    "logger.info(f\"{len(list_of_items):,} item(s).\")"
   ]
  },
  {
   "cell_type": "code",
   "execution_count": 8,
   "metadata": {},
   "outputs": [
    {
     "name": "stderr",
     "output_type": "stream",
     "text": [
      "🌐  item: 11/031311103030/1050010040277300\n",
      "🌐  {'type': 'Feature', 'stac_version': '1.0.0', 'id': '11/031311103030/1050010040277300', 'properties': {'datetime': '2025-01-10T18:35:09Z', 'platform': 'GE01', 'gsd': 0.42, 'ard_metadata_version': '0.0.1', 'catalog_id': '1050010040277300', 'utm_zone': 11, 'quadkey': '031311103030', 'view:off_nadir': 7.2, 'view:azimuth': 66.3, 'view:incidence_angle': 82.0, 'view:sun_azimuth': 157.0, 'view:sun_elevation': 30.6, 'proj:epsg': 32611, 'proj:geometry': {'type': 'Polygon', 'coordinates': [[[395156.25, 3784843.75], [391732.177734375, 3784843.75], [391770.01953125, 3786197.509765625], [391763.61083984375, 3786718.4448242188], [391788.9404296875, 3787438.0493164062], [391812.1337890625, 3787689.208984375], [391811.93888453743, 3787695.423864513], [395156.25, 3787665.1457547126], [395156.25, 3784843.75]]]}, 'grid:code': 'MXRA-Z11-031311103030', 'proj:bbox': [391732.177734375, 3784843.75, 395156.25, 3787695.423864513], 'tile:data_area': 9.6, 'tile:clouds_area': 0.0, 'tile:clouds_percent': 0}, 'geometry': {'type': 'Polygon', 'coordinates': [[[-118.1379508802999, 34.19933765614516], [-118.17510823864198, 34.198987324253416], [-118.17486695590246, 34.21119772621854], [-118.17500171507615, 34.21589417711066], [-118.17481686533333, 34.222385266110585], [-118.1745965464066, 34.22465230681568], [-118.17459702089629, 34.22466149163031], [-118.13829237108956, 34.22472790277488], [-118.1379508802999, 34.19933765614516]]]}, 'links': [{'rel': 'collection', 'href': '../../../acquisition_collections/1050010040277300_collection.json', 'type': 'application/json'}, {'rel': 'root', 'href': '../../../../../catalog.json', 'type': 'application/json'}, {'rel': 'self', 'href': 'https://maxar-opendata.s3.amazonaws.com/events/WildFires-LosAngeles-Jan-2025/ard/11/031311103030/2025-01-10/1050010040277300.json', 'type': 'application/json'}, {'rel': 'parent', 'href': '../../../acquisition_collections/1050010040277300_collection.json', 'type': 'application/json'}], 'assets': {'data-mask': {'href': './1050010040277300-data-mask.gpkg', 'type': 'application/geopackage+sqlite3', 'title': 'Data Mask', 'roles': ['data-mask']}, 'ms_analytic': {'href': './1050010040277300-ms.tif', 'type': 'image/tiff; application=geotiff; profile=cloud-optimized', 'title': 'Multispectral Image', 'proj:bbox': [389843.75, 3784843.75, 395156.25, 3790156.25], 'proj:shape': [3209, 3209], 'proj:transform': [1.6555001558117795, 0.0, 389843.75, 0.0, -1.6555001558117795, 3790156.25, 0.0, 0.0, 1.0], 'eo:bands': [{'name': 'BAND_B', 'common_name': 'blue', 'description': 'Blue'}, {'name': 'BAND_G', 'common_name': 'green', 'description': 'Green'}, {'name': 'BAND_R', 'common_name': 'red', 'description': 'Red'}, {'name': 'BAND_N', 'common_name': 'nir08', 'description': 'Near Infrared 1'}], 'roles': ['data']}, 'pan_analytic': {'href': './1050010040277300-pan.tif', 'type': 'image/tiff; application=geotiff; profile=cloud-optimized', 'title': 'Panchromatic Image', 'proj:bbox': [389843.75, 3784843.75, 395156.25, 3790156.25], 'proj:shape': [12836, 12836], 'proj:transform': [0.41387503895294486, 0.0, 389843.75, 0.0, -0.41387503895294486, 3790156.25, 0.0, 0.0, 1.0], 'eo:bands': [{'name': 'BAND_P', 'description': 'Pan'}], 'roles': ['data']}, 'visual': {'href': './1050010040277300-visual.tif', 'type': 'image/tiff; application=geotiff; profile=cloud-optimized', 'title': 'Visual Image', 'proj:bbox': [389843.75, 3784843.75, 395156.25, 3790156.25], 'proj:shape': [17408, 17408], 'proj:transform': [0.30517578125, 0.0, 389843.75, 0.0, -0.30517578125, 3790156.25, 0.0, 0.0, 1.0], 'eo:bands': [{'name': 'BAND_R', 'common_name': 'red', 'description': 'Red'}, {'name': 'BAND_G', 'common_name': 'green', 'description': 'Green'}, {'name': 'BAND_B', 'common_name': 'blue', 'description': 'Blue'}], 'roles': ['visual']}}, 'bbox': [-118.17510823864198, 34.198987324253416, -118.1379508802999, 34.22472790277488], 'stac_extensions': ['https://stac-extensions.github.io/view/v1.0.0/schema.json', 'https://stac-extensions.github.io/projection/v1.1.0/schema.json', 'https://stac-extensions.github.io/eo/v1.1.0/schema.json', 'https://stac-extensions.github.io/raster/v1.1.0/schema.json', 'https://stac-extensions.github.io/grid/v1.1.0/schema.json'], 'collection': '1050010040277300'}\n",
      "🌐  data-mask: ./1050010040277300-data-mask.gpkg\n",
      "🌐  ms_analytic: ./1050010040277300-ms.tif\n",
      "🌐  pan_analytic: ./1050010040277300-pan.tif\n",
      "🌐  visual: ./1050010040277300-visual.tif\n"
     ]
    }
   ],
   "source": [
    "item = list_of_items[0]\n",
    "logger.info(f\"item: {item.id}\")\n",
    "\n",
    "if verbose:\n",
    "    logger.info(item.to_dict())\n",
    "\n",
    "for asset in item.assets:\n",
    "    logger.info(\"{}: {}\".format(asset, item.assets[asset].href))"
   ]
  },
  {
   "cell_type": "code",
   "execution_count": 9,
   "metadata": {},
   "outputs": [
    {
     "name": "stderr",
     "output_type": "stream",
     "text": [
      "🌐  root href: https://maxar-opendata.s3.amazonaws.com/events/WildFires-LosAngeles-Jan-2025/ard/11/031311103030/2025-01-10/1050010040277300.json\n"
     ]
    },
    {
     "name": "stdout",
     "output_type": "stream",
     "text": [
      "collection: ../../../acquisition_collections/1050010040277300_collection.json\n",
      "root: ../../../../../catalog.json\n",
      "self: https://maxar-opendata.s3.amazonaws.com/events/WildFires-LosAngeles-Jan-2025/ard/11/031311103030/2025-01-10/1050010040277300.json\n",
      "parent: ../../../acquisition_collections/1050010040277300_collection.json\n"
     ]
    }
   ],
   "source": [
    "if verbose:\n",
    "    for link in item.links:\n",
    "        print(\"{}: {}\".format(link.rel, link.href))\n",
    "\n",
    "root_href_candidates = [link.href for link in item.links if link.rel == \"self\"]\n",
    "if not root_href_candidates:\n",
    "    logger.error(\"cannot find \\\"self\\\" in {}.\".format(\", \".join([link.rel for link in item.links])))\n",
    "    assert False\n",
    "\n",
    "root_href = root_href_candidates[0]\n",
    "logger.info(\"root href: {}\".format(root_href))"
   ]
  },
  {
   "cell_type": "code",
   "execution_count": 10,
   "metadata": {},
   "outputs": [
    {
     "data": {
      "text/plain": [
       "'11/031311103030/1050010040277300'"
      ]
     },
     "execution_count": 10,
     "metadata": {},
     "output_type": "execute_result"
    }
   ],
   "source": [
    "item.id"
   ]
  },
  {
   "cell_type": "code",
   "execution_count": 11,
   "metadata": {},
   "outputs": [
    {
     "name": "stderr",
     "output_type": "stream",
     "text": [
      "🌐  🧊 datacube-Maxar-Open-Data-WildFires-LosAngeles-Jan-2025-11-031311103030-1050010040277300\n"
     ]
    }
   ],
   "source": [
    "datacube_id = f\"datacube-Maxar-Open-Data-{collection_id}-{item.id.replace('/','-')}\"\n",
    "logger.info(f\"🧊 {datacube_id}\")"
   ]
  },
  {
   "cell_type": "markdown",
   "metadata": {},
   "source": [
    "## ingest"
   ]
  },
  {
   "cell_type": "code",
   "execution_count": 12,
   "metadata": {},
   "outputs": [
    {
     "name": "stderr",
     "output_type": "stream",
     "text": [
      "🌐  🔥\n"
     ]
    }
   ],
   "source": [
    "logger.info(\"🔥\")"
   ]
  },
  {
   "cell_type": "code",
   "execution_count": null,
   "metadata": {},
   "outputs": [],
   "source": [
    "search_parameters = {\n",
    "    \"ids\": [datacube_id]\n",
    "}"
   ]
  },
  {
   "cell_type": "code",
   "execution_count": null,
   "metadata": {},
   "outputs": [],
   "source": [
    "search = client.search(**search_parameters)\n",
    "\n",
    "items = list(search.item_collection())\n",
    "\n",
    "logger.info(f\"{len(items)} item(s) found.\")\n",
    "\n",
    "for item in items:\n",
    "    logger.info(\"🧊 {}: {} @ {}\".format(item.id, item.datetime, \", \".join(list(item.assets.keys()))))\n",
    "\n",
    "item = items[0]"
   ]
  },
  {
   "cell_type": "code",
   "execution_count": null,
   "metadata": {},
   "outputs": [],
   "source": [
    "item.assets"
   ]
  },
  {
   "attachments": {},
   "cell_type": "markdown",
   "metadata": {},
   "source": [
    "---"
   ]
  },
  {
   "cell_type": "code",
   "execution_count": null,
   "metadata": {},
   "outputs": [],
   "source": [
    "# END"
   ]
  }
 ],
 "metadata": {
  "kernelspec": {
   "display_name": ".venv",
   "language": "python",
   "name": "python3"
  },
  "language_info": {
   "codemirror_mode": {
    "name": "ipython",
    "version": 3
   },
   "file_extension": ".py",
   "mimetype": "text/x-python",
   "name": "python",
   "nbconvert_exporter": "python",
   "pygments_lexer": "ipython3",
   "version": "3.9.6"
  },
  "toc": {
   "base_numbering": 1,
   "nav_menu": {},
   "number_sections": true,
   "sideBar": true,
   "skip_h1_title": false,
   "title_cell": "Table of Contents",
   "title_sidebar": "Contents",
   "toc_cell": false,
   "toc_position": {},
   "toc_section_display": true,
   "toc_window_display": false
  }
 },
 "nbformat": 4,
 "nbformat_minor": 2
}
