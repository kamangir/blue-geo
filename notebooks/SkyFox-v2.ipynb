{
    "cells": [
        {
            "attachments": {},
            "cell_type": "markdown",
            "metadata": {},
            "source": [
                "# SkyFox: query and ingest\n",
                "\n",
                "https://earthdaily.github.io/EDA-Documentation/API/APIUsage/Python/\n",
                "\n",
                "https://github.com/earthdaily/EDA-Documentation/blob/gh-pages/API/APIUsage/earthplatform_stac_api_examples.py"
            ]
        },
        {
            "cell_type": "code",
            "execution_count": 1,
            "metadata": {},
            "outputs": [],
            "source": [
                "import os\n",
                "os.environ[\"abcli_path_bash\"] = \"{}/git/awesome-bash-cli/bash\".format(os.getenv(\"HOME\"))"
            ]
        },
        {
            "cell_type": "code",
            "execution_count": 2,
            "metadata": {},
            "outputs": [
                {
                    "name": "stderr",
                    "output_type": "stream",
                    "text": [
                        "🌐  blue_geo-4.500.1.blue_options-4.76.1, built on 26 September 2024, 18:38:40\n"
                    ]
                }
            ],
            "source": [
                "from blue_options import fullname, string\n",
                "from blue_objects import metadata\n",
                "\n",
                "from blue_geo import NAME, VERSION\n",
                "from blue_geo.catalog.SkyFox import SkyFoxCatalog, SkyFoxVenusDatacube\n",
                "from blue_geo.catalog import get_datacube\n",
                "from blue_geo.logger import logger\n",
                "\n",
                "logger.info(f\"{NAME}-{VERSION}.{fullname()}, built on {string.pretty_date()}\")"
            ]
        },
        {
            "cell_type": "markdown",
            "metadata": {},
            "source": [
                "# catalog"
            ]
        },
        {
            "cell_type": "code",
            "execution_count": 3,
            "metadata": {},
            "outputs": [
                {
                    "name": "stderr",
                    "output_type": "stream",
                    "text": [
                        "/Users/kamangir/miniconda3/envs/abcli/lib/python3.9/site-packages/urllib3/connectionpool.py:1063: InsecureRequestWarning: Unverified HTTPS request is being made to host 'abadpour-earthdaily.auth.us-east-1.amazoncognito.com'. Adding certificate verification is strongly advised. See: https://urllib3.readthedocs.io/en/1.26.x/advanced-usage.html#ssl-warnings\n",
                        "  warnings.warn(\n"
                    ]
                },
                {
                    "data": {
                        "text/plain": [
                            "['ai-ready-mosaics',\n",
                            " 'ai-ready-mosaics-preview',\n",
                            " 'ai-ready-mosaics-sample',\n",
                            " 'cropland-data-layer-us',\n",
                            " 'earthdaily-simulated-cloudless-l2a-cog-edagro',\n",
                            " 'landsat-c2l1',\n",
                            " 'landsat-c2l2-sr',\n",
                            " 'landsat-c2l2-st',\n",
                            " 'sentinel-1-grd',\n",
                            " 'sentinel-1-rtc',\n",
                            " 'sentinel-2-c1-l2a',\n",
                            " 'sentinel-2-l1c',\n",
                            " 'sentinel-2-l2a',\n",
                            " 'venus-l2a']"
                        ]
                    },
                    "execution_count": 3,
                    "metadata": {},
                    "output_type": "execute_result"
                }
            ],
            "source": [
                "catalog = SkyFoxCatalog()\n",
                "catalog.get_list_of_collections()"
            ]
        },
        {
            "cell_type": "markdown",
            "metadata": {},
            "source": [
                "---"
            ]
        },
        {
            "cell_type": "markdown",
            "metadata": {},
            "source": [
                "## query"
            ]
        },
        {
            "cell_type": "code",
            "execution_count": 4,
            "metadata": {},
            "outputs": [
                {
                    "name": "stderr",
                    "output_type": "stream",
                    "text": [
                        "🌐  📂 query-2024-09-26-18-38-42-20251\n"
                    ]
                }
            ],
            "source": [
                "object_name = f\"query-{string.timestamp()}\"\n",
                "logger.info(f\"📂 {object_name}\")"
            ]
        },
        {
            "cell_type": "code",
            "execution_count": 5,
            "metadata": {},
            "outputs": [
                {
                    "name": "stderr",
                    "output_type": "stream",
                    "text": [
                        "🌐  🔎 SkyFoxVenusDatacube.query -> query-2024-09-26-18-38-42-20251\n",
                        "/Users/kamangir/miniconda3/envs/abcli/lib/python3.9/site-packages/urllib3/connectionpool.py:1063: InsecureRequestWarning: Unverified HTTPS request is being made to host 'abadpour-earthdaily.auth.us-east-1.amazoncognito.com'. Adding certificate verification is strongly advised. See: https://urllib3.readthedocs.io/en/1.26.x/advanced-usage.html#ssl-warnings\n",
                        "  warnings.warn(\n",
                        "🌐  🔎 collections: ['venus-l2a']\n",
                        "🌐  🔎 bbox: [12.1389, 41.7003, 12.338899999999999, 41.9003]\n",
                        "🌐  🔎 datetime: 2019-12-13/2020-10-28\n",
                        "🌐  101 datacubes(s) found.\n",
                        "🌐  🧊 01: datacube-SkyFox-Venus-VENUS-XS_20191215-101001-000_L2A_MACCANW2_D\n",
                        "🌐  🧊 02: datacube-SkyFox-Venus-VENUS-XS_20191217-101000-000_L2A_MACCANW2_D\n",
                        "🌐  🧊 03: datacube-SkyFox-Venus-VENUS-XS_20191223-100956-000_L2A_MACCANW2_D\n",
                        "🌐  🧊 04: datacube-SkyFox-Venus-VENUS-XS_20191227-100954-000_L2A_MACCANW2_D\n",
                        "🌐  🧊 05: datacube-SkyFox-Venus-VENUS-XS_20191229-100953-000_L2A_MACCANW2_D\n",
                        "🌐  🧊 06: datacube-SkyFox-Venus-VENUS-XS_20191231-100951-000_L2A_MACCANW2_D\n",
                        "🌐  🧊 07: datacube-SkyFox-Venus-VENUS-XS_20200102-100950-000_L2A_MACCANW2_D\n",
                        "🌐  🧊 08: datacube-SkyFox-Venus-VENUS-XS_20200104-100948-000_L2A_MACCANW2_D\n",
                        "🌐  🧊 09: datacube-SkyFox-Venus-VENUS-XS_20200106-100947-000_L2A_MACCANW2_D\n",
                        "🌐  🧊 10: datacube-SkyFox-Venus-VENUS-XS_20200209-100741-000_L2A_MACCANW2_D\n",
                        "🌐  🧊 11: datacube-SkyFox-Venus-VENUS-XS_20200211-100744-000_L2A_MACCANW2_D\n",
                        "🌐  🧊 12: datacube-SkyFox-Venus-VENUS-XS_20200215-100749-000_L2A_MACCANW2_D\n",
                        "🌐  🧊 13: datacube-SkyFox-Venus-VENUS-XS_20200217-100752-000_L2A_MACCANW2_D\n",
                        "🌐  🧊 14: datacube-SkyFox-Venus-VENUS-XS_20200221-100757-000_L2A_MACCANW2_D\n",
                        "🌐  🧊 15: datacube-SkyFox-Venus-VENUS-XS_20200223-100800-000_L2A_MACCANW2_D\n",
                        "🌐  🧊 16: datacube-SkyFox-Venus-VENUS-XS_20200304-100810-000_L2A_MACCANW2_D\n",
                        "🌐  🧊 17: datacube-SkyFox-Venus-VENUS-XS_20200306-100811-000_L2A_MACCANW2_D\n",
                        "🌐  🧊 18: datacube-SkyFox-Venus-VENUS-XS_20200308-100811-000_L2A_MACCANW2_D\n",
                        "🌐  🧊 19: datacube-SkyFox-Venus-VENUS-XS_20200310-100811-000_L2A_MACCANW2_D\n",
                        "🌐  🧊 20: datacube-SkyFox-Venus-VENUS-XS_20200312-100812-000_L2A_MACCANW2_D\n",
                        "🌐  🧊 21: datacube-SkyFox-Venus-VENUS-XS_20200316-100812-000_L2A_MACCANW2_D\n",
                        "🌐  🧊 22: datacube-SkyFox-Venus-VENUS-XS_20200318-100812-000_L2A_MACCANW2_D\n",
                        "🌐  🧊 23: datacube-SkyFox-Venus-VENUS-XS_20200320-100813-000_L2A_MACCANW2_D\n",
                        "🌐  🧊 24: datacube-SkyFox-Venus-VENUS-XS_20200324-100809-000_L2A_MACCANW2_D\n",
                        "🌐  🧊 25: datacube-SkyFox-Venus-VENUS-XS_20200330-100758-000_L2A_MACCANW2_D\n",
                        "🌐  🧊 26: datacube-SkyFox-Venus-VENUS-XS_20200401-100755-000_L2A_MACCANW2_D\n",
                        "🌐  🧊 27: datacube-SkyFox-Venus-VENUS-XS_20200403-100751-000_L2A_MACCANW2_D\n",
                        "🌐  🧊 28: datacube-SkyFox-Venus-VENUS-XS_20200405-100748-000_L2A_MACCANW2_D\n",
                        "🌐  🧊 29: datacube-SkyFox-Venus-VENUS-XS_20200407-100744-000_L2A_MACCANW2_D\n",
                        "🌐  🧊 30: datacube-SkyFox-Venus-VENUS-XS_20200409-100741-000_L2A_MACCANW2_D\n",
                        "🌐  🧊 31: datacube-SkyFox-Venus-VENUS-XS_20200411-100737-000_L2A_MACCANW2_D\n",
                        "🌐  🧊 32: datacube-SkyFox-Venus-VENUS-XS_20200415-100730-000_L2A_MACCANW2_D\n",
                        "🌐  🧊 33: datacube-SkyFox-Venus-VENUS-XS_20200417-100726-000_L2A_MACCANW2_D\n",
                        "🌐  🧊 34: datacube-SkyFox-Venus-VENUS-XS_20200419-100722-000_L2A_MACCANW2_D\n",
                        "🌐  🧊 35: datacube-SkyFox-Venus-VENUS-XS_20200423-100709-000_L2A_MACCANW2_D\n",
                        "🌐  🧊 36: datacube-SkyFox-Venus-VENUS-XS_20200425-100701-000_L2A_MACCANW2_D\n",
                        "🌐  🧊 37: datacube-SkyFox-Venus-VENUS-XS_20200503-100632-000_L2A_MACCANW2_D\n",
                        "🌐  🧊 38: datacube-SkyFox-Venus-VENUS-XS_20200505-100624-000_L2A_MACCANW2_D\n",
                        "🌐  🧊 39: datacube-SkyFox-Venus-VENUS-XS_20200507-100617-000_L2A_MACCANW2_D\n",
                        "🌐  🧊 40: datacube-SkyFox-Venus-VENUS-XS_20200509-100609-000_L2A_MACCANW2_D\n",
                        "🌐  🧊 41: datacube-SkyFox-Venus-VENUS-XS_20200511-100602-000_L2A_MACCANW2_D\n",
                        "🌐  🧊 42: datacube-SkyFox-Venus-VENUS-XS_20200515-100546-000_L2A_MACCANW2_D\n",
                        "🌐  🧊 43: datacube-SkyFox-Venus-VENUS-XS_20200517-100539-000_L2A_MACCANW2_D\n",
                        "🌐  🧊 44: datacube-SkyFox-Venus-VENUS-XS_20200521-100535-000_L2A_MACCANW2_D\n",
                        "🌐  🧊 45: datacube-SkyFox-Venus-VENUS-XS_20200523-100536-000_L2A_MACCANW2_D\n",
                        "🌐  🧊 46: datacube-SkyFox-Venus-VENUS-XS_20200525-100538-000_L2A_MACCANW2_D\n",
                        "🌐  🧊 47: datacube-SkyFox-Venus-VENUS-XS_20200527-100540-000_L2A_MACCANW2_D\n",
                        "🌐  🧊 48: datacube-SkyFox-Venus-VENUS-XS_20200531-100543-000_L2A_MACCANW2_D\n",
                        "🌐  🧊 49: datacube-SkyFox-Venus-VENUS-XS_20200604-100545-000_L2A_MACCANW2_D\n",
                        "🌐  🧊 50: datacube-SkyFox-Venus-VENUS-XS_20200606-100547-000_L2A_MACCANW2_D\n",
                        "🌐  🧊 51: datacube-SkyFox-Venus-VENUS-XS_20200612-100551-000_L2A_MACCANW2_D\n",
                        "🌐  🧊 52: datacube-SkyFox-Venus-VENUS-XS_20200616-100553-000_L2A_MACCANW2_D\n",
                        "🌐  🧊 53: datacube-SkyFox-Venus-VENUS-XS_20200618-100554-000_L2A_MACCANW2_D\n",
                        "🌐  🧊 54: datacube-SkyFox-Venus-VENUS-XS_20200624-100548-000_L2A_MACCANW2_D\n",
                        "🌐  🧊 55: datacube-SkyFox-Venus-VENUS-XS_20200626-100546-000_L2A_MACCANW2_D\n",
                        "🌐  🧊 56: datacube-SkyFox-Venus-VENUS-XS_20200628-100544-000_L2A_MACCANW2_D\n",
                        "🌐  🧊 57: datacube-SkyFox-Venus-VENUS-XS_20200704-100514-000_L2A_MACCANW2_D\n",
                        "🌐  🧊 58: datacube-SkyFox-Venus-VENUS-XS_20200706-100459-000_L2A_MACCANW2_D\n",
                        "🌐  🧊 59: datacube-SkyFox-Venus-VENUS-XS_20200708-100444-000_L2A_MACCANW2_D\n",
                        "🌐  🧊 60: datacube-SkyFox-Venus-VENUS-XS_20200710-100429-000_L2A_MACCANW2_D\n",
                        "🌐  🧊 61: datacube-SkyFox-Venus-VENUS-XS_20200712-100415-000_L2A_MACCANW2_D\n",
                        "🌐  🧊 62: datacube-SkyFox-Venus-VENUS-XS_20200716-100406-000_L2A_MACCANW2_D\n",
                        "🌐  🧊 63: datacube-SkyFox-Venus-VENUS-XS_20200718-100410-000_L2A_MACCANW2_D\n",
                        "🌐  🧊 64: datacube-SkyFox-Venus-VENUS-XS_20200720-100415-000_L2A_MACCANW2_D\n",
                        "🌐  🧊 65: datacube-SkyFox-Venus-VENUS-XS_20200722-100419-000_L2A_MACCANW2_D\n",
                        "🌐  🧊 66: datacube-SkyFox-Venus-VENUS-XS_20200726-100428-000_L2A_MACCANW2_D\n",
                        "🌐  🧊 67: datacube-SkyFox-Venus-VENUS-XS_20200730-100436-000_L2A_MACCANW2_D\n",
                        "🌐  🧊 68: datacube-SkyFox-Venus-VENUS-XS_20200801-100440-000_L2A_MACCANW2_D\n",
                        "🌐  🧊 69: datacube-SkyFox-Venus-VENUS-XS_20200803-100444-000_L2A_MACCANW2_D\n",
                        "🌐  🧊 70: datacube-SkyFox-Venus-VENUS-XS_20200805-100448-000_L2A_MACCANW2_D\n",
                        "🌐  🧊 71: datacube-SkyFox-Venus-VENUS-XS_20200807-100452-000_L2A_MACCANW2_D\n",
                        "🌐  🧊 72: datacube-SkyFox-Venus-VENUS-XS_20200809-100456-000_L2A_MACCANW2_D\n",
                        "🌐  🧊 73: datacube-SkyFox-Venus-VENUS-XS_20200813-100504-000_L2A_MACCANW2_D\n",
                        "🌐  🧊 74: datacube-SkyFox-Venus-VENUS-XS_20200815-100459-000_L2A_MACCANW2_D\n",
                        "🌐  🧊 75: datacube-SkyFox-Venus-VENUS-XS_20200817-100455-000_L2A_MACCANW2_D\n",
                        "🌐  🧊 76: datacube-SkyFox-Venus-VENUS-XS_20200819-100450-000_L2A_MACCANW2_D\n",
                        "🌐  🧊 77: datacube-SkyFox-Venus-VENUS-XS_20200821-100445-000_L2A_MACCANW2_D\n",
                        "🌐  🧊 78: datacube-SkyFox-Venus-VENUS-XS_20200823-100440-000_L2A_MACCANW2_D\n",
                        "🌐  🧊 79: datacube-SkyFox-Venus-VENUS-XS_20200825-100435-000_L2A_MACCANW2_D\n",
                        "🌐  🧊 80: datacube-SkyFox-Venus-VENUS-XS_20200827-100430-000_L2A_MACCANW2_D\n",
                        "🌐  🧊 81: datacube-SkyFox-Venus-VENUS-XS_20200829-100424-000_L2A_MACCANW2_D\n",
                        "🌐  🧊 82: datacube-SkyFox-Venus-VENUS-XS_20200904-100409-000_L2A_MACCANW2_D\n",
                        "🌐  🧊 83: datacube-SkyFox-Venus-VENUS-XS_20200906-100404-000_L2A_MACCANW2_D\n",
                        "🌐  🧊 84: datacube-SkyFox-Venus-VENUS-XS_20200908-100358-000_L2A_MACCANW2_D\n",
                        "🌐  🧊 85: datacube-SkyFox-Venus-VENUS-XS_20200910-100353-000_L2A_MACCANW2_D\n",
                        "🌐  🧊 86: datacube-SkyFox-Venus-VENUS-XS_20200912-100348-000_L2A_MACCANW2_D\n",
                        "🌐  🧊 87: datacube-SkyFox-Venus-VENUS-XS_20200914-100342-000_L2A_MACCANW2_D\n",
                        "🌐  🧊 88: datacube-SkyFox-Venus-VENUS-XS_20200916-100337-000_L2A_MACCANW2_D\n",
                        "🌐  🧊 89: datacube-SkyFox-Venus-VENUS-XS_20200918-100332-000_L2A_MACCANW2_D\n",
                        "🌐  🧊 90: datacube-SkyFox-Venus-VENUS-XS_20200920-100326-000_L2A_MACCANW2_D\n",
                        "🌐  🧊 91: datacube-SkyFox-Venus-VENUS-XS_20200922-100321-000_L2A_MACCANW2_D\n",
                        "🌐  🧊 92: datacube-SkyFox-Venus-VENUS-XS_20200930-100258-000_L2A_MACCANW2_D\n",
                        "🌐  🧊 93: datacube-SkyFox-Venus-VENUS-XS_20201004-100247-000_L2A_MACCANW2_D\n",
                        "🌐  🧊 94: datacube-SkyFox-Venus-VENUS-XS_20201006-100241-000_L2A_MACCANW2_D\n",
                        "🌐  🧊 95: datacube-SkyFox-Venus-VENUS-XS_20201008-100235-000_L2A_MACCANW2_D\n",
                        "🌐  🧊 96: datacube-SkyFox-Venus-VENUS-XS_20201010-100230-000_L2A_MACCANW2_D\n",
                        "🌐  🧊 97: datacube-SkyFox-Venus-VENUS-XS_20201014-100218-000_L2A_MACCANW2_D\n",
                        "🌐  🧊 98: datacube-SkyFox-Venus-VENUS-XS_20201018-100213-000_L2A_MACCANW2_D\n",
                        "🌐  🧊 99: datacube-SkyFox-Venus-VENUS-XS_20201020-100211-000_L2A_MACCANW2_D\n",
                        "🌐  🧊 100: datacube-SkyFox-Venus-VENUS-XS_20201022-100209-000_L2A_MACCANW2_D\n",
                        "🌐  🧊 101: datacube-SkyFox-Venus-VENUS-XS_20201028-100204-000_L2A_MACCANW2_D\n",
                        "🌀  blue_objects.metadata.post.post[/Users/kamangir/storage/abcli/query-2024-09-26-18-38-42-20251/metadata.yaml]: datacube_id\n",
                        "🌀  blue_objects.file.save.save_yaml: datacube_id -> /Users/kamangir/storage/abcli/query-2024-09-26-18-38-42-20251/metadata.yaml.\n"
                    ]
                }
            ],
            "source": [
                "assert SkyFoxVenusDatacube.query(\n",
                "    object_name=object_name,\n",
                "    bbox=[12.2389 - 0.1, 41.8003 - 0.1, 12.2389 + 0.1, 41.8003 + 0.1],\n",
                "    datetime=\"2019-12-13/2020-10-28\",\n",
                "    count=-1,\n",
                ")"
            ]
        },
        {
            "cell_type": "code",
            "execution_count": 6,
            "metadata": {},
            "outputs": [
                {
                    "name": "stderr",
                    "output_type": "stream",
                    "text": [
                        "🌐  🧊 datacube-SkyFox-Venus-VENUS-XS_20191215-101001-000_L2A_MACCANW2_D\n"
                    ]
                }
            ],
            "source": [
                "datacube_id = metadata.get_from_object(object_name, \"datacube_id\")[0]\n",
                "logger.info(f\"🧊 {datacube_id}\")"
            ]
        },
        {
            "cell_type": "markdown",
            "metadata": {},
            "source": [
                "## ingest"
            ]
        },
        {
            "cell_type": "code",
            "execution_count": 11,
            "metadata": {},
            "outputs": [
                {
                    "name": "stdout",
                    "output_type": "stream",
                    "text": [
                        "<class 'blue_geo.catalog.generic.generic.classes.VoidDatacube'>\n"
                    ]
                }
            ],
            "source": [
                "datacube = get_datacube(datacube_id)\n",
                "#assert isinstance(datacube, SkyFoxVenusDatacube)\n",
                "print(type(datacube))"
            ]
        },
        {
            "attachments": {},
            "cell_type": "markdown",
            "metadata": {},
            "source": [
                "---"
            ]
        },
        {
            "cell_type": "code",
            "execution_count": 8,
            "metadata": {},
            "outputs": [],
            "source": [
                "# END"
            ]
        }
    ],
    "metadata": {
        "kernelspec": {
            "display_name": "Python 3 (ipykernel)",
            "language": "python",
            "name": "python3"
        },
        "language_info": {
            "codemirror_mode": {
                "name": "ipython",
                "version": 3
            },
            "file_extension": ".py",
            "mimetype": "text/x-python",
            "name": "python",
            "nbconvert_exporter": "python",
            "pygments_lexer": "ipython3",
            "version": "3.9.19"
        },
        "toc": {
            "base_numbering": 1,
            "nav_menu": {},
            "number_sections": true,
            "sideBar": true,
            "skip_h1_title": false,
            "title_cell": "Table of Contents",
            "title_sidebar": "Contents",
            "toc_cell": false,
            "toc_position": {},
            "toc_section_display": true,
            "toc_window_display": false
        }
    },
    "nbformat": 4,
    "nbformat_minor": 2
}
