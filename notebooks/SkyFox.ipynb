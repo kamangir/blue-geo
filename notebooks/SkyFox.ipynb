{
    "cells": [
        {
            "attachments": {},
            "cell_type": "markdown",
            "metadata": {},
            "source": [
                "# SkyFox: query and ingest\n",
                "\n",
                "https://earthdaily.github.io/EDA-Documentation/API/APIUsage/Python/\n",
                "\n",
                "https://github.com/earthdaily/EDA-Documentation/blob/gh-pages/API/APIUsage/earthplatform_stac_api_examples.py"
            ]
        },
        {
            "cell_type": "code",
            "execution_count": 1,
            "metadata": {},
            "outputs": [],
            "source": [
                "import os\n",
                "os.environ[\"abcli_path_bash\"] = \"{}/git/awesome-bash-cli/bash\".format(os.getenv(\"HOME\"))"
            ]
        },
        {
            "cell_type": "code",
            "execution_count": 2,
            "metadata": {},
            "outputs": [
                {
                    "name": "stderr",
                    "output_type": "stream",
                    "text": [
                        "🌐  blue_geo-4.503.1.blue_options-4.76.1, built on 27 September 2024, 17:43:39\n"
                    ]
                }
            ],
            "source": [
                "import json\n",
                "from pystac_client import Client\n",
                "import requests\n",
                "\n",
                "from blue_options import fullname, string\n",
                "\n",
                "from blue_geo import NAME, VERSION, env\n",
                "from blue_geo.logger import logger\n",
                "\n",
                "logger.info(f\"{NAME}-{VERSION}.{fullname()}, built on {string.pretty_date()}\")"
            ]
        },
        {
            "cell_type": "code",
            "execution_count": 3,
            "metadata": {},
            "outputs": [
                {
                    "name": "stderr",
                    "output_type": "stream",
                    "text": [
                        "/Users/kamangir/miniconda3/envs/abcli/lib/python3.9/site-packages/urllib3/connectionpool.py:1063: InsecureRequestWarning: Unverified HTTPS request is being made to host 'abadpour-earthdaily.auth.us-east-1.amazoncognito.com'. Adding certificate verification is strongly advised. See: https://urllib3.readthedocs.io/en/1.26.x/advanced-usage.html#ssl-warnings\n",
                        "  warnings.warn(\n"
                    ]
                }
            ],
            "source": [
                "token_req_payload = {\"grant_type\": \"client_credentials\"}\n",
                "response = requests.post(\n",
                "    env.SKYFOX_ACCESS_TOKEN_URL,\n",
                "    data=token_req_payload,\n",
                "    verify=False,\n",
                "    allow_redirects=False,\n",
                "    auth=(env.SKYFOX_CLIENT_ID, env.SKYFOX_CLIENT_SECRET),\n",
                ")\n",
                "\n",
                "# https://chat.openai.com/c/6deb94d0-826a-48de-b5ef-f7d8da416c82\n",
                "# response.raise_for_status()\n",
                "assert response.status_code // 100 == 2\n",
                "\n",
                "tokens = json.loads(response.text)\n",
                "\n",
                "token =  tokens[\"access_token\"]"
            ]
        },
        {
            "cell_type": "code",
            "execution_count": 4,
            "metadata": {},
            "outputs": [
                {
                    "name": "stdout",
                    "output_type": "stream",
                    "text": [
                        "<CollectionClient id=ai-ready-mosaics>\n",
                        "<CollectionClient id=ai-ready-mosaics-preview>\n",
                        "<CollectionClient id=ai-ready-mosaics-sample>\n",
                        "<CollectionClient id=cropland-data-layer-us>\n",
                        "<CollectionClient id=earthdaily-simulated-cloudless-l2a-cog-edagro>\n",
                        "<CollectionClient id=landsat-c2l1>\n",
                        "<CollectionClient id=landsat-c2l2-sr>\n",
                        "<CollectionClient id=landsat-c2l2-st>\n",
                        "<CollectionClient id=sentinel-1-grd>\n",
                        "<CollectionClient id=sentinel-1-rtc>\n",
                        "<CollectionClient id=sentinel-2-c1-l2a>\n",
                        "<CollectionClient id=sentinel-2-l1c>\n",
                        "<CollectionClient id=sentinel-2-l2a>\n",
                        "<CollectionClient id=venus-l2a>\n"
                    ]
                }
            ],
            "source": [
                "api_url = \"https://api.earthdaily.com/platform/v1/stac\"\n",
                "\n",
                "\n",
                "client = Client.open(api_url, headers={\n",
                "    \"Authorization\": f\"Bearer {token}\"\n",
                "})\n",
                "\n",
                "for collection in client.get_all_collections():\n",
                "    print(collection)"
            ]
        },
        {
            "cell_type": "markdown",
            "metadata": {},
            "source": [
                "---"
            ]
        },
        {
            "cell_type": "code",
            "execution_count": 5,
            "metadata": {},
            "outputs": [],
            "source": [
                "# END"
            ]
        }
    ],
    "metadata": {
        "kernelspec": {
            "display_name": "Python 3 (ipykernel)",
            "language": "python",
            "name": "python3"
        },
        "language_info": {
            "codemirror_mode": {
                "name": "ipython",
                "version": 3
            },
            "file_extension": ".py",
            "mimetype": "text/x-python",
            "name": "python",
            "nbconvert_exporter": "python",
            "pygments_lexer": "ipython3",
            "version": "3.9.19"
        },
        "toc": {
            "base_numbering": 1,
            "nav_menu": {},
            "number_sections": true,
            "sideBar": true,
            "skip_h1_title": false,
            "title_cell": "Table of Contents",
            "title_sidebar": "Contents",
            "toc_cell": false,
            "toc_position": {},
            "toc_section_display": true,
            "toc_window_display": false
        }
    },
    "nbformat": 4,
    "nbformat_minor": 2
}
