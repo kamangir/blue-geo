{
    "cells": [
        {
            "attachments": {},
            "cell_type": "markdown",
            "metadata": {},
            "source": [
                "# TargetList"
            ]
        },
        {
            "cell_type": "code",
            "execution_count": 1,
            "metadata": {},
            "outputs": [],
            "source": [
                "import os\n",
                "os.environ[\"abcli_path_bash\"] = \"{}/git/awesome-bash-cli/bash\".format(os.getenv(\"HOME\"))"
            ]
        },
        {
            "cell_type": "code",
            "execution_count": 2,
            "metadata": {},
            "outputs": [
                {
                    "name": "stderr",
                    "output_type": "stream",
                    "text": [
                        "🌐  blue_geo-4.574.1.blue_options-4.85.1, built on 02 October 2024, 19:15:46\n"
                    ]
                }
            ],
            "source": [
                "from blue_options import fullname, string\n",
                "from blue_objects import file, objects\n",
                "\n",
                "from blue_geo import NAME, VERSION\n",
                "from blue_geo.env import BLUE_GEO_WATCH_TARGET_LIST\n",
                "from blue_geo.watch.targets.classes import TargetList\n",
                "from blue_geo.logger import logger\n",
                "\n",
                "logger.info(f\"{NAME}-{VERSION}.{fullname()}, built on {string.pretty_date()}\")"
            ]
        },
        {
            "attachments": {},
            "cell_type": "markdown",
            "metadata": {},
            "source": [
                "---"
            ]
        },
        {
            "cell_type": "code",
            "execution_count": 3,
            "metadata": {},
            "outputs": [
                {
                    "data": {
                        "text/plain": [
                            "True"
                        ]
                    },
                    "execution_count": 3,
                    "metadata": {},
                    "output_type": "execute_result"
                }
            ],
            "source": [
                "file.delete(\n",
                "    objects.path_of(\n",
                "        filename=\"metadata.yaml\",\n",
                "        object_name=BLUE_GEO_WATCH_TARGET_LIST,\n",
                "    )\n",
                ")"
            ]
        },
        {
            "cell_type": "code",
            "execution_count": 4,
            "metadata": {},
            "outputs": [
                {
                    "data": {
                        "text/plain": [
                            "{}"
                        ]
                    },
                    "execution_count": 4,
                    "metadata": {},
                    "output_type": "execute_result"
                }
            ],
            "source": [
                "TargetList().targets"
            ]
        },
        {
            "cell_type": "code",
            "execution_count": 5,
            "metadata": {},
            "outputs": [
                {
                    "name": "stdout",
                    "output_type": "stream",
                    "text": [
                        "download: s3://kamangir/bolt/blue-geo-target-list-v1/metadata.yaml to ../../../storage/abcli/blue-geo-target-list-v1/metadata.yaml\n"
                    ]
                },
                {
                    "data": {
                        "text/plain": [
                            "{'burning-man-2024': Target: burning-man-2024 | EarthSearch/sentinel_2_l1c | --datetime 2024-08-18/2024-09-15 | --lat 40.7864 | --lon -119.2065 | --radius 0.01,\n",
                            " 'chilcotin-river-landslide': Target: chilcotin-river-landslide | copernicus/sentinel_2 | --datetime 2024-07-15/2024-08-24 | --keyword L1C | --lat 51.84718 | --lon -122.790264 | --radius 0.01,\n",
                            " 'elkhema': Target: elkhema | copernicus/sentinel_2 | --datetime 2022-08-06/ | --lat 49.281209 | --lon -123.13076,\n",
                            " 'Mount-Etna': Target: Mount-Etna | EarthSearch/sentinel_2_l1c | --datetime 2024-06-15/2024-07-20 | --lat 37.751 | --lon 14.9934 | --radius 0.01,\n",
                            " 'Fagradalsfjall': Target: Fagradalsfjall | EarthSearch/sentinel_2_l1c | --count 30 | --datetime 2024-06-04/2024-09-04 | --lat 63.9 | --lon -22.2667 | --radius 0.01,\n",
                            " 'Jasper': Target: Jasper | EarthSearch/sentinel_2_l1c | --count 30 | --datetime 2024-06-22/2024-08-22 | --lat 52.8734 | --lon -118.0814 | --radius 0.01,\n",
                            " 'Leonardo': Target: Leonardo | SkyFox/Venus | --count 30 | --datetime 2019-12-13/2020-10-28 | --lat 41.81 | --lon 12.255 | --radius 0.01,\n",
                            " 'Leonardo-test': Target: Leonardo-test | SkyFox/Venus | --count 3 | --datetime 2019-12-13/2020-10-28 | --lat 41.81 | --lon 12.255 | --radius 0.01,\n",
                            " 'Hurricane-Idalia-2023': Target: Hurricane-Idalia-2023 | EarthSearch/sentinel_2_l1c | --count 30 | --datetime 2023-08-20/2023-09-10 | --lat 29.0 | --lon -83.0 | --radius 0.9,\n",
                            " 'Chilcotin-test': Target: Chilcotin-test | copernicus/sentinel_2 | --count 2 | --datetime 2024-07-30/2024-08-09 | --lat 51.84718 | --lon -122.790264 | --radius 0.01,\n",
                            " 'bellingcat-2024-09-27-nagorno-karabakh': Target: bellingcat-2024-09-27-nagorno-karabakh | EarthSearch/sentinel_2_l1c | --count 30 | --datetime 2024-05-01/2024-09-01 | --lat 39.8239 | --lon 46.7612 | --radius 0.01,\n",
                            " 'bellingcat-2024-09-27-nagorno-karabakh-test': Target: bellingcat-2024-09-27-nagorno-karabakh-test | EarthSearch/sentinel_2_l1c | --count 2 | --datetime 2024-05-01/2024-09-01 | --lat 39.8239 | --lon 46.7612 | --radius 0.01}"
                        ]
                    },
                    "execution_count": 5,
                    "metadata": {},
                    "output_type": "execute_result"
                }
            ],
            "source": [
                "TargetList(download=True).targets"
            ]
        },
        {
            "attachments": {},
            "cell_type": "markdown",
            "metadata": {},
            "source": [
                "---"
            ]
        },
        {
            "cell_type": "code",
            "execution_count": 6,
            "metadata": {},
            "outputs": [],
            "source": [
                "# END"
            ]
        }
    ],
    "metadata": {
        "kernelspec": {
            "display_name": "Python 3 (ipykernel)",
            "language": "python",
            "name": "python3"
        },
        "language_info": {
            "codemirror_mode": {
                "name": "ipython",
                "version": 3
            },
            "file_extension": ".py",
            "mimetype": "text/x-python",
            "name": "python",
            "nbconvert_exporter": "python",
            "pygments_lexer": "ipython3",
            "version": "3.9.19"
        },
        "toc": {
            "base_numbering": 1,
            "nav_menu": {},
            "number_sections": true,
            "sideBar": true,
            "skip_h1_title": false,
            "title_cell": "Table of Contents",
            "title_sidebar": "Contents",
            "toc_cell": false,
            "toc_position": {},
            "toc_section_display": true,
            "toc_window_display": false
        }
    },
    "nbformat": 4,
    "nbformat_minor": 2
}
