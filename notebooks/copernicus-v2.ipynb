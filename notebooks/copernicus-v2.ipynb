{
    "cells": [
        {
            "attachments": {},
            "cell_type": "markdown",
            "metadata": {},
            "source": [
                "# Copernicus: query and ingest\n",
                "\n",
                "https://documentation.dataspace.copernicus.eu/APIs/STAC.html\n",
                "\n",
                "https://documentation.dataspace.copernicus.eu/APIs/S3.html#example-script-to-download-product-using-boto3"
            ]
        },
        {
            "cell_type": "code",
            "execution_count": 1,
            "metadata": {},
            "outputs": [],
            "source": [
                "import os\n",
                "os.environ[\"abcli_path_bash\"] = \"{}/git/awesome-bash-cli/bash\".format(os.getenv(\"HOME\"))"
            ]
        },
        {
            "cell_type": "code",
            "execution_count": 2,
            "metadata": {},
            "outputs": [
                {
                    "name": "stderr",
                    "output_type": "stream",
                    "text": [
                        "🌐  blue_geo-4.241.1.abcli-9.244.1, built on 18 August 2024, 14:04:10\n"
                    ]
                }
            ],
            "source": [
                "import boto3\n",
                "from pystac_client import Client\n",
                "from abcli import fullname\n",
                "from abcli import file, path, string\n",
                "from abcli.modules import objects\n",
                "from abcli.plugins.metadata import get_from_object\n",
                "from blue_geo import env\n",
                "from blue_geo import NAME, VERSION\n",
                "from blue_geo.catalog.copernicus.sentinel_2.classes import CopernicusSentinel2Datacube\n",
                "from blue_geo.logger import logger\n",
                "\n",
                "logger.info(f\"{NAME}-{VERSION}.{fullname()}, built on {string.pretty_date()}\")"
            ]
        },
        {
            "cell_type": "code",
            "execution_count": 3,
            "metadata": {},
            "outputs": [],
            "source": [
                "URL = \"https://catalogue.dataspace.copernicus.eu/stac\"\n",
                "client = Client.open(URL)"
            ]
        },
        {
            "cell_type": "markdown",
            "metadata": {},
            "source": [
                "---"
            ]
        },
        {
            "cell_type": "markdown",
            "metadata": {},
            "source": [
                "## query"
            ]
        },
        {
            "cell_type": "code",
            "execution_count": 4,
            "metadata": {},
            "outputs": [
                {
                    "name": "stderr",
                    "output_type": "stream",
                    "text": [
                        "🌐  📂 query-2024-08-18-14-04-11-78174\n"
                    ]
                }
            ],
            "source": [
                "object_name = f\"query-{string.timestamp()}\"\n",
                "object_path = objects.object_path(object_name)\n",
                "\n",
                "logger.info(f\"📂 {object_name}\")"
            ]
        },
        {
            "cell_type": "code",
            "execution_count": 5,
            "metadata": {},
            "outputs": [
                {
                    "name": "stderr",
                    "output_type": "stream",
                    "text": [
                        "🌐  🔎 CopernicusSentinel2Datacube.query -> query-2024-08-18-14-04-11-78174\n",
                        "🌐  🔎 collections: ['SENTINEL-2']\n",
                        "🌐  🔎 bbox: [-122.88, 51.73, -122.68, 51.93]\n",
                        "🌐  🔎 datetime: 2024-07-30/2024-08-09\n",
                        "🌐  🔎 limit: 10\n",
                        "🌐  16 datacubes(s) found.\n",
                        "🌐  🧊 01: S2B_MSIL2A_20240805T191909_N0511_R099_T10UDC_20240805T234014-SAFE\n",
                        "🌐  🧊 02: S2A_MSIL1C_20240731T191911_N0511_R099_T10UEC_20240801T003519-SAFE\n",
                        "🌐  🧊 03: S2A_MSIL2A_20240731T191911_N0511_R099_T10UEC_20240801T023153-SAFE\n",
                        "🌐  🧊 04: S2B_MSIL2A_20240805T191909_N0511_R099_T10UEC_20240805T234014-SAFE\n",
                        "🌐  🧊 05: S2A_MSIL1C_20240731T191911_N0511_R099_T10UDC_20240801T003519-SAFE\n",
                        "🌐  🧊 06: S2B_MSIL2A_20240802T190919_N0511_R056_T10UEC_20240802T231522-SAFE\n",
                        "🌐  🧊 07: S2B_MSIL1C_20240802T190919_N0511_R056_T10UEC_20240802T224842-SAFE\n",
                        "🌐  🧊 08: S2A_MSIL1C_20240807T190911_N0511_R056_T10UEC_20240808T002811-SAFE\n",
                        "🌐  🧊 09: S2A_MSIL2A_20240807T190911_N0511_R056_T10UEC_20240808T020449-SAFE\n",
                        "🌐  🧊 10: S2B_MSIL1C_20240805T191909_N0511_R099_T10UEC_20240805T230124-SAFE\n",
                        "🌐  🧊 11: S2B_MSIL2A_20240805T191909_N0511_R099_T10UDC_20240805T234014-SAFE\n",
                        "🌐  🧊 12: S2A_MSIL1C_20240731T191911_N0511_R099_T10UEC_20240801T003519-SAFE\n",
                        "🌐  🧊 13: S2B_MSIL2A_20240802T190919_N0511_R056_T10UEC_20240802T231522-SAFE\n",
                        "🌐  🧊 14: S2B_MSIL1C_20240802T190919_N0511_R056_T10UEC_20240802T224842-SAFE\n",
                        "🌐  🧊 15: S2A_MSIL2A_20240731T191911_N0511_R099_T10UDC_20240801T023153-SAFE\n",
                        "🌐  🧊 16: S2A_MSIL1C_20240807T190911_N0511_R056_T10UEC_20240808T002811-SAFE\n",
                        ":: abcli.plugins.metadata.post[/Users/kamangir/storage/abcli/query-2024-08-18-14-04-11-78174/metadata.yaml]: datacube_id\n",
                        ":: save_yaml: datacube_id -> /Users/kamangir/storage/abcli/query-2024-08-18-14-04-11-78174/metadata.yaml.\n"
                    ]
                }
            ],
            "source": [
                "assert CopernicusSentinel2Datacube.query(\n",
                "    object_name=object_name,\n",
                "    bbox=[-122.78 - 0.1, 51.83 - 0.1, -122.78 + 0.1, 51.83 + 0.1],\n",
                "    datetime=\"2024-07-30/2024-08-09\",\n",
                "    limit=10,\n",
                ")"
            ]
        },
        {
            "cell_type": "code",
            "execution_count": 6,
            "metadata": {},
            "outputs": [
                {
                    "name": "stderr",
                    "output_type": "stream",
                    "text": [
                        "🌐  🧊 S2B_MSIL2A_20240805T191909_N0511_R099_T10UDC_20240805T234014-SAFE\n"
                    ]
                }
            ],
            "source": [
                "datacube_id = get_from_object(object_name, \"datacube_id\")[0]\n",
                "logger.info(f\"🧊 {datacube_id}\")"
            ]
        },
        {
            "cell_type": "markdown",
            "metadata": {},
            "source": [
                "## ingest"
            ]
        },
        {
            "cell_type": "code",
            "execution_count": 7,
            "metadata": {},
            "outputs": [
                {
                    "name": "stderr",
                    "output_type": "stream",
                    "text": [
                        "🌐  ids: ['S2B_MSIL2A_20240805T191909_N0511_R099_T10UDC_20240805T234014.SAFE']\n"
                    ]
                }
            ],
            "source": [
                "search_parameters = {\n",
                "    \"ids\": [datacube_id.replace(\"-SAFE\",\".SAFE\")]\n",
                "}\n",
                "\n",
                "for param in search_parameters:\n",
                "    logger.info(f\"{param}: {search_parameters[param]}\")"
            ]
        },
        {
            "cell_type": "code",
            "execution_count": 8,
            "metadata": {},
            "outputs": [
                {
                    "name": "stderr",
                    "output_type": "stream",
                    "text": [
                        "🌐  1 item(s) found.\n",
                        "🌐  🧊 S2B_MSIL2A_20240805T191909_N0511_R099_T10UDC_20240805T234014.SAFE: 2024-08-05 19:19:09.024000+00:00 @ QUICKLOOK, PRODUCT\n"
                    ]
                }
            ],
            "source": [
                "search = client.search(**search_parameters)\n",
                "\n",
                "items = list(search.item_collection())\n",
                "\n",
                "logger.info(f\"{len(items)} item(s) found.\")\n",
                "\n",
                "for item in items:\n",
                "    logger.info(\"🧊 {}: {} @ {}\".format(item.id, item.datetime, \", \".join(list(item.assets.keys()))))\n",
                "\n",
                "item = items[0]"
            ]
        },
        {
            "cell_type": "code",
            "execution_count": 9,
            "metadata": {},
            "outputs": [
                {
                    "name": "stderr",
                    "output_type": "stream",
                    "text": [
                        "🌐  href: /eodata/Sentinel-2/MSI/L2A/2024/08/05/S2B_MSIL2A_20240805T191909_N0511_R099_T10UDC_20240805T234014.SAFE\n",
                        "🌐  bucket_name: eodata\n",
                        "🌐  s3_prefix: Sentinel-2/MSI/L2A/2024/08/05/S2B_MSIL2A_20240805T191909_N0511_R099_T10UDC_20240805T234014.SAFE\n"
                    ]
                }
            ],
            "source": [
                "href = item.assets[\"PRODUCT\"].extra_fields.get(\"alternate\")[\"s3\"][\"href\"]\n",
                "bucket_name, s3_prefix = href.split(\"/\", 2)[1:3]\n",
                "\n",
                "logger.info(f\"href: {href}\")\n",
                "\n",
                "logger.info(f\"bucket_name: {bucket_name}\")\n",
                "logger.info(f\"s3_prefix: {s3_prefix}\")"
            ]
        },
        {
            "cell_type": "code",
            "execution_count": 10,
            "metadata": {},
            "outputs": [],
            "source": [
                "s3 = boto3.resource(\n",
                "    \"s3\",\n",
                "    endpoint_url='https://eodata.dataspace.copernicus.eu',\n",
                "    aws_access_key_id=env.COPERNICUS_AWS_ACCESS_KEY_ID,\n",
                "    aws_secret_access_key=env.COPERNICUS_AWS_SECRET_ACCESS_KEY,\n",
                "    region_name=\"default\"\n",
                ")\n",
                "\n",
                "bucket = s3.Bucket(bucket_name)"
            ]
        },
        {
            "cell_type": "code",
            "execution_count": 11,
            "metadata": {},
            "outputs": [
                {
                    "name": "stderr",
                    "output_type": "stream",
                    "text": [
                        "🌐  95 file(s).\n",
                        "🌐  #1: DATASTRIP/DS_2BPS_20240805T234014_S20240805T192816/MTD_DS.xml\n",
                        "🌐  #2: DATASTRIP/DS_2BPS_20240805T234014_S20240805T192816/QI_DATA/FORMAT_CORRECTNESS.xml\n",
                        "🌐  #3: DATASTRIP/DS_2BPS_20240805T234014_S20240805T192816/QI_DATA/GENERAL_QUALITY.xml\n",
                        "🌐  #4: DATASTRIP/DS_2BPS_20240805T234014_S20240805T192816/QI_DATA/GEOMETRIC_QUALITY.xml\n",
                        "🌐  #5: DATASTRIP/DS_2BPS_20240805T234014_S20240805T192816/QI_DATA/RADIOMETRIC_QUALITY.xml\n",
                        "🌐  #6: DATASTRIP/DS_2BPS_20240805T234014_S20240805T192816/QI_DATA/SENSOR_QUALITY.xml\n",
                        "🌐  #7: GRANULE/L2A_T10UDC_A038735_20240805T192816/AUX_DATA/AUX_CAMSFO\n",
                        "🌐  #8: GRANULE/L2A_T10UDC_A038735_20240805T192816/AUX_DATA/AUX_ECMWFT\n",
                        "🌐  #9: GRANULE/L2A_T10UDC_A038735_20240805T192816/IMG_DATA/R10m/T10UDC_20240805T191909_AOT_10m.jp2\n",
                        "🌐  #10: GRANULE/L2A_T10UDC_A038735_20240805T192816/IMG_DATA/R10m/T10UDC_20240805T191909_B02_10m.jp2\n",
                        "🌐  #11: GRANULE/L2A_T10UDC_A038735_20240805T192816/IMG_DATA/R10m/T10UDC_20240805T191909_B03_10m.jp2\n",
                        "🌐  #12: GRANULE/L2A_T10UDC_A038735_20240805T192816/IMG_DATA/R10m/T10UDC_20240805T191909_B04_10m.jp2\n",
                        "🌐  #13: GRANULE/L2A_T10UDC_A038735_20240805T192816/IMG_DATA/R10m/T10UDC_20240805T191909_B08_10m.jp2\n",
                        "🌐  #14: GRANULE/L2A_T10UDC_A038735_20240805T192816/IMG_DATA/R10m/T10UDC_20240805T191909_TCI_10m.jp2\n",
                        "🌐  #15: GRANULE/L2A_T10UDC_A038735_20240805T192816/IMG_DATA/R10m/T10UDC_20240805T191909_WVP_10m.jp2\n",
                        "🌐  #16: GRANULE/L2A_T10UDC_A038735_20240805T192816/IMG_DATA/R20m/T10UDC_20240805T191909_AOT_20m.jp2\n",
                        "🌐  #17: GRANULE/L2A_T10UDC_A038735_20240805T192816/IMG_DATA/R20m/T10UDC_20240805T191909_B01_20m.jp2\n",
                        "🌐  #18: GRANULE/L2A_T10UDC_A038735_20240805T192816/IMG_DATA/R20m/T10UDC_20240805T191909_B02_20m.jp2\n",
                        "🌐  #19: GRANULE/L2A_T10UDC_A038735_20240805T192816/IMG_DATA/R20m/T10UDC_20240805T191909_B03_20m.jp2\n",
                        "🌐  #20: GRANULE/L2A_T10UDC_A038735_20240805T192816/IMG_DATA/R20m/T10UDC_20240805T191909_B04_20m.jp2\n",
                        "🌐  #21: GRANULE/L2A_T10UDC_A038735_20240805T192816/IMG_DATA/R20m/T10UDC_20240805T191909_B05_20m.jp2\n",
                        "🌐  #22: GRANULE/L2A_T10UDC_A038735_20240805T192816/IMG_DATA/R20m/T10UDC_20240805T191909_B06_20m.jp2\n",
                        "🌐  #23: GRANULE/L2A_T10UDC_A038735_20240805T192816/IMG_DATA/R20m/T10UDC_20240805T191909_B07_20m.jp2\n",
                        "🌐  #24: GRANULE/L2A_T10UDC_A038735_20240805T192816/IMG_DATA/R20m/T10UDC_20240805T191909_B11_20m.jp2\n",
                        "🌐  #25: GRANULE/L2A_T10UDC_A038735_20240805T192816/IMG_DATA/R20m/T10UDC_20240805T191909_B12_20m.jp2\n",
                        "🌐  #26: GRANULE/L2A_T10UDC_A038735_20240805T192816/IMG_DATA/R20m/T10UDC_20240805T191909_B8A_20m.jp2\n",
                        "🌐  #27: GRANULE/L2A_T10UDC_A038735_20240805T192816/IMG_DATA/R20m/T10UDC_20240805T191909_SCL_20m.jp2\n",
                        "🌐  #28: GRANULE/L2A_T10UDC_A038735_20240805T192816/IMG_DATA/R20m/T10UDC_20240805T191909_TCI_20m.jp2\n",
                        "🌐  #29: GRANULE/L2A_T10UDC_A038735_20240805T192816/IMG_DATA/R20m/T10UDC_20240805T191909_WVP_20m.jp2\n",
                        "🌐  #30: GRANULE/L2A_T10UDC_A038735_20240805T192816/IMG_DATA/R60m/T10UDC_20240805T191909_AOT_60m.jp2\n",
                        "🌐  #31: GRANULE/L2A_T10UDC_A038735_20240805T192816/IMG_DATA/R60m/T10UDC_20240805T191909_B01_60m.jp2\n",
                        "🌐  #32: GRANULE/L2A_T10UDC_A038735_20240805T192816/IMG_DATA/R60m/T10UDC_20240805T191909_B02_60m.jp2\n",
                        "🌐  #33: GRANULE/L2A_T10UDC_A038735_20240805T192816/IMG_DATA/R60m/T10UDC_20240805T191909_B03_60m.jp2\n",
                        "🌐  #34: GRANULE/L2A_T10UDC_A038735_20240805T192816/IMG_DATA/R60m/T10UDC_20240805T191909_B04_60m.jp2\n",
                        "🌐  #35: GRANULE/L2A_T10UDC_A038735_20240805T192816/IMG_DATA/R60m/T10UDC_20240805T191909_B05_60m.jp2\n",
                        "🌐  #36: GRANULE/L2A_T10UDC_A038735_20240805T192816/IMG_DATA/R60m/T10UDC_20240805T191909_B06_60m.jp2\n",
                        "🌐  #37: GRANULE/L2A_T10UDC_A038735_20240805T192816/IMG_DATA/R60m/T10UDC_20240805T191909_B07_60m.jp2\n",
                        "🌐  #38: GRANULE/L2A_T10UDC_A038735_20240805T192816/IMG_DATA/R60m/T10UDC_20240805T191909_B09_60m.jp2\n",
                        "🌐  #39: GRANULE/L2A_T10UDC_A038735_20240805T192816/IMG_DATA/R60m/T10UDC_20240805T191909_B11_60m.jp2\n",
                        "🌐  #40: GRANULE/L2A_T10UDC_A038735_20240805T192816/IMG_DATA/R60m/T10UDC_20240805T191909_B12_60m.jp2\n",
                        "🌐  #41: GRANULE/L2A_T10UDC_A038735_20240805T192816/IMG_DATA/R60m/T10UDC_20240805T191909_B8A_60m.jp2\n",
                        "🌐  #42: GRANULE/L2A_T10UDC_A038735_20240805T192816/IMG_DATA/R60m/T10UDC_20240805T191909_SCL_60m.jp2\n",
                        "🌐  #43: GRANULE/L2A_T10UDC_A038735_20240805T192816/IMG_DATA/R60m/T10UDC_20240805T191909_TCI_60m.jp2\n",
                        "🌐  #44: GRANULE/L2A_T10UDC_A038735_20240805T192816/IMG_DATA/R60m/T10UDC_20240805T191909_WVP_60m.jp2\n",
                        "🌐  #45: GRANULE/L2A_T10UDC_A038735_20240805T192816/MTD_TL.xml\n",
                        "🌐  #46: GRANULE/L2A_T10UDC_A038735_20240805T192816/QI_DATA/FORMAT_CORRECTNESS.xml\n",
                        "🌐  #47: GRANULE/L2A_T10UDC_A038735_20240805T192816/QI_DATA/GENERAL_QUALITY.xml\n",
                        "🌐  #48: GRANULE/L2A_T10UDC_A038735_20240805T192816/QI_DATA/GEOMETRIC_QUALITY.xml\n",
                        "🌐  #49: GRANULE/L2A_T10UDC_A038735_20240805T192816/QI_DATA/L2A_QUALITY.xml\n",
                        "🌐  #50: GRANULE/L2A_T10UDC_A038735_20240805T192816/QI_DATA/MSK_CLASSI_B00.jp2\n",
                        "🌐  #51: GRANULE/L2A_T10UDC_A038735_20240805T192816/QI_DATA/MSK_CLDPRB_20m.jp2\n",
                        "🌐  #52: GRANULE/L2A_T10UDC_A038735_20240805T192816/QI_DATA/MSK_CLDPRB_60m.jp2\n",
                        "🌐  #53: GRANULE/L2A_T10UDC_A038735_20240805T192816/QI_DATA/MSK_DETFOO_B01.jp2\n",
                        "🌐  #54: GRANULE/L2A_T10UDC_A038735_20240805T192816/QI_DATA/MSK_DETFOO_B02.jp2\n",
                        "🌐  #55: GRANULE/L2A_T10UDC_A038735_20240805T192816/QI_DATA/MSK_DETFOO_B03.jp2\n",
                        "🌐  #56: GRANULE/L2A_T10UDC_A038735_20240805T192816/QI_DATA/MSK_DETFOO_B04.jp2\n",
                        "🌐  #57: GRANULE/L2A_T10UDC_A038735_20240805T192816/QI_DATA/MSK_DETFOO_B05.jp2\n",
                        "🌐  #58: GRANULE/L2A_T10UDC_A038735_20240805T192816/QI_DATA/MSK_DETFOO_B06.jp2\n",
                        "🌐  #59: GRANULE/L2A_T10UDC_A038735_20240805T192816/QI_DATA/MSK_DETFOO_B07.jp2\n",
                        "🌐  #60: GRANULE/L2A_T10UDC_A038735_20240805T192816/QI_DATA/MSK_DETFOO_B08.jp2\n",
                        "🌐  #61: GRANULE/L2A_T10UDC_A038735_20240805T192816/QI_DATA/MSK_DETFOO_B09.jp2\n",
                        "🌐  #62: GRANULE/L2A_T10UDC_A038735_20240805T192816/QI_DATA/MSK_DETFOO_B10.jp2\n",
                        "🌐  #63: GRANULE/L2A_T10UDC_A038735_20240805T192816/QI_DATA/MSK_DETFOO_B11.jp2\n",
                        "🌐  #64: GRANULE/L2A_T10UDC_A038735_20240805T192816/QI_DATA/MSK_DETFOO_B12.jp2\n",
                        "🌐  #65: GRANULE/L2A_T10UDC_A038735_20240805T192816/QI_DATA/MSK_DETFOO_B8A.jp2\n",
                        "🌐  #66: GRANULE/L2A_T10UDC_A038735_20240805T192816/QI_DATA/MSK_QUALIT_B01.jp2\n",
                        "🌐  #67: GRANULE/L2A_T10UDC_A038735_20240805T192816/QI_DATA/MSK_QUALIT_B02.jp2\n",
                        "🌐  #68: GRANULE/L2A_T10UDC_A038735_20240805T192816/QI_DATA/MSK_QUALIT_B03.jp2\n",
                        "🌐  #69: GRANULE/L2A_T10UDC_A038735_20240805T192816/QI_DATA/MSK_QUALIT_B04.jp2\n",
                        "🌐  #70: GRANULE/L2A_T10UDC_A038735_20240805T192816/QI_DATA/MSK_QUALIT_B05.jp2\n",
                        "🌐  #71: GRANULE/L2A_T10UDC_A038735_20240805T192816/QI_DATA/MSK_QUALIT_B06.jp2\n",
                        "🌐  #72: GRANULE/L2A_T10UDC_A038735_20240805T192816/QI_DATA/MSK_QUALIT_B07.jp2\n",
                        "🌐  #73: GRANULE/L2A_T10UDC_A038735_20240805T192816/QI_DATA/MSK_QUALIT_B08.jp2\n",
                        "🌐  #74: GRANULE/L2A_T10UDC_A038735_20240805T192816/QI_DATA/MSK_QUALIT_B09.jp2\n",
                        "🌐  #75: GRANULE/L2A_T10UDC_A038735_20240805T192816/QI_DATA/MSK_QUALIT_B10.jp2\n",
                        "🌐  #76: GRANULE/L2A_T10UDC_A038735_20240805T192816/QI_DATA/MSK_QUALIT_B11.jp2\n",
                        "🌐  #77: GRANULE/L2A_T10UDC_A038735_20240805T192816/QI_DATA/MSK_QUALIT_B12.jp2\n",
                        "🌐  #78: GRANULE/L2A_T10UDC_A038735_20240805T192816/QI_DATA/MSK_QUALIT_B8A.jp2\n",
                        "🌐  #79: GRANULE/L2A_T10UDC_A038735_20240805T192816/QI_DATA/MSK_SNWPRB_20m.jp2\n",
                        "🌐  #80: GRANULE/L2A_T10UDC_A038735_20240805T192816/QI_DATA/MSK_SNWPRB_60m.jp2\n",
                        "🌐  #81: GRANULE/L2A_T10UDC_A038735_20240805T192816/QI_DATA/SENSOR_QUALITY.xml\n",
                        "🌐  #82: GRANULE/L2A_T10UDC_A038735_20240805T192816/QI_DATA/T10UDC_20240805T191909_PVI.jp2\n",
                        "🌐  #83: HTML/UserProduct_index.html\n",
                        "🌐  #84: HTML/UserProduct_index.xsl\n",
                        "🌐  #85: HTML/banner_1.png\n",
                        "🌐  #86: HTML/banner_2.png\n",
                        "🌐  #87: HTML/banner_3.png\n",
                        "🌐  #88: HTML/star_bg.jpg\n",
                        "🌐  #89: INSPIRE.xml\n",
                        "🌐  #90: MTD_MSIL2A.xml\n",
                        "🌐  #91: S2B_MSIL2A_20240805T191909_N0511_R099_T10UDC_20240805T234014-ql.jpg\n",
                        "🌐  #92: manifest.safe\n",
                        "🌐  #93: rep_info/S2_PDI_Level-2A_Datastrip_Metadata.xsd\n",
                        "🌐  #94: rep_info/S2_PDI_Level-2A_Tile_Metadata.xsd\n",
                        "🌐  #95: rep_info/S2_User_Product_Level-2A_Metadata.xsd\n"
                    ]
                }
            ],
            "source": [
                "list_of_files = [item.key.split(f\"{s3_prefix}/\",1)[1] for item in bucket.objects.filter(Prefix=s3_prefix)]\n",
                "\n",
                "logger.info(f\"{len(list_of_files)} file(s).\")\n",
                "for index, filename in enumerate(list_of_files):\n",
                "    logger.info(f\"#{index+1}: {filename}\")"
            ]
        },
        {
            "cell_type": "code",
            "execution_count": 12,
            "metadata": {},
            "outputs": [],
            "source": [
                "list_of_items = bucket.objects.filter(Prefix=s3_prefix)\n",
                "extension = \"TCI.jp2\"\n",
                "dryrun = False\n",
                "\n",
                "error_count = 0\n",
                "for item in list_of_items:\n",
                "    item_suffix = item.key.split(f\"{s3_prefix}/\",1)[1]\n",
                "    if not item_suffix:\n",
                "        continue\n",
                "    \n",
                "    item_filename = os.path.join(object_path,item_suffix)\n",
                "    if not path.create(file.path(item_filename)):\n",
                "        error_count += 1\n",
                "        continue\n",
                "    if item_filename.endswith(os.sep):\n",
                "        continue\n",
                "    \n",
                "    if not item_filename.endswith(extension):\n",
                "        continue\n",
                "    \n",
                "    logger.info(\"{} -> {}\".format(item.key, item_filename))\n",
                "    if dryrun:\n",
                "        continue\n",
                "\n",
                "    try:\n",
                "        bucket.download_file(item.key, item_filename)\n",
                "    except Exception as e:\n",
                "        logger.error(e)\n",
                "        error_count += 1\n",
                "        continue\n",
                "\n",
                "if error_count:\n",
                "    logger.error(f\"{error_count} error(s).\")"
            ]
        },
        {
            "attachments": {},
            "cell_type": "markdown",
            "metadata": {},
            "source": [
                "---"
            ]
        },
        {
            "cell_type": "code",
            "execution_count": 13,
            "metadata": {},
            "outputs": [],
            "source": [
                "# END"
            ]
        }
    ],
    "metadata": {
        "kernelspec": {
            "display_name": "Python 3 (ipykernel)",
            "language": "python",
            "name": "python3"
        },
        "language_info": {
            "codemirror_mode": {
                "name": "ipython",
                "version": 3
            },
            "file_extension": ".py",
            "mimetype": "text/x-python",
            "name": "python",
            "nbconvert_exporter": "python",
            "pygments_lexer": "ipython3",
            "version": "3.9.19"
        },
        "toc": {
            "base_numbering": 1,
            "nav_menu": {},
            "number_sections": true,
            "sideBar": true,
            "skip_h1_title": false,
            "title_cell": "Table of Contents",
            "title_sidebar": "Contents",
            "toc_cell": false,
            "toc_position": {},
            "toc_section_display": true,
            "toc_window_display": false
        }
    },
    "nbformat": 4,
    "nbformat_minor": 2
}
