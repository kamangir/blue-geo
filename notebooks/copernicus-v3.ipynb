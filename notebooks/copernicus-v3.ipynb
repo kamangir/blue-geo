{
    "cells": [
        {
            "attachments": {},
            "cell_type": "markdown",
            "metadata": {},
            "source": [
                "# Copernicus: query and ingest\n",
                "\n",
                "https://documentation.dataspace.copernicus.eu/APIs/STAC.html\n",
                "\n",
                "https://documentation.dataspace.copernicus.eu/APIs/S3.html#example-script-to-download-product-using-boto3"
            ]
        },
        {
            "cell_type": "code",
            "execution_count": 1,
            "metadata": {},
            "outputs": [],
            "source": [
                "import os\n",
                "os.environ[\"abcli_path_bash\"] = \"{}/git/awesome-bash-cli/bash\".format(os.getenv(\"HOME\"))"
            ]
        },
        {
            "cell_type": "code",
            "execution_count": 2,
            "metadata": {},
            "outputs": [
                {
                    "name": "stderr",
                    "output_type": "stream",
                    "text": [
                        "🌐  blue_geo-4.265.1.abcli-9.245.1, built on 22 August 2024, 18:56:30\n"
                    ]
                }
            ],
            "source": [
                "from abcli import fullname\n",
                "from abcli import string\n",
                "from abcli.plugins.metadata import get_from_object\n",
                "from blue_geo import NAME, VERSION\n",
                "from blue_geo.catalog.copernicus import CopernicusSentinel2Datacube\n",
                "from blue_geo.catalog import get_datacube\n",
                "from blue_geo.logger import logger\n",
                "\n",
                "logger.info(f\"{NAME}-{VERSION}.{fullname()}, built on {string.pretty_date()}\")"
            ]
        },
        {
            "cell_type": "markdown",
            "metadata": {},
            "source": [
                "---"
            ]
        },
        {
            "cell_type": "code",
            "execution_count": 3,
            "metadata": {},
            "outputs": [],
            "source": [
                "dryrun = True"
            ]
        },
        {
            "cell_type": "markdown",
            "metadata": {},
            "source": [
                "## query"
            ]
        },
        {
            "cell_type": "code",
            "execution_count": 4,
            "metadata": {},
            "outputs": [
                {
                    "name": "stderr",
                    "output_type": "stream",
                    "text": [
                        "🌐  📂 query-2024-08-22-18-56-30-72280\n"
                    ]
                }
            ],
            "source": [
                "object_name = f\"query-{string.timestamp()}\"\n",
                "logger.info(f\"📂 {object_name}\")"
            ]
        },
        {
            "cell_type": "code",
            "execution_count": 5,
            "metadata": {},
            "outputs": [
                {
                    "name": "stderr",
                    "output_type": "stream",
                    "text": [
                        "🌐  🔎 CopernicusSentinel2Datacube.query -> query-2024-08-22-18-56-30-72280\n",
                        "🌐  🔎 collections: ['SENTINEL-2']\n",
                        "🌐  🔎 bbox: [-122.88, 51.73, -122.68, 51.93]\n",
                        "🌐  🔎 datetime: 2024-07-30/2024-08-09\n",
                        "🌐  16 datacubes(s) found.\n",
                        "🌐  🧊 01: datacube-copernicus-sentinel_2-S2A_MSIL1C_20240731T191911_N0511_R099_T10UDC_20240801T003519-SAFE\n",
                        "🌐  🧊 02: datacube-copernicus-sentinel_2-S2A_MSIL1C_20240731T191911_N0511_R099_T10UEC_20240801T003519-SAFE\n",
                        "🌐  🧊 03: datacube-copernicus-sentinel_2-S2A_MSIL1C_20240807T190911_N0511_R056_T10UDC_20240808T002811-SAFE\n",
                        "🌐  🧊 04: datacube-copernicus-sentinel_2-S2A_MSIL1C_20240807T190911_N0511_R056_T10UEC_20240808T002811-SAFE\n",
                        "🌐  🧊 05: datacube-copernicus-sentinel_2-S2A_MSIL2A_20240731T191911_N0511_R099_T10UDC_20240801T023153-SAFE\n",
                        "🌐  🧊 06: datacube-copernicus-sentinel_2-S2A_MSIL2A_20240731T191911_N0511_R099_T10UEC_20240801T023153-SAFE\n",
                        "🌐  🧊 07: datacube-copernicus-sentinel_2-S2A_MSIL2A_20240807T190911_N0511_R056_T10UDC_20240808T020449-SAFE\n",
                        "🌐  🧊 08: datacube-copernicus-sentinel_2-S2A_MSIL2A_20240807T190911_N0511_R056_T10UEC_20240808T020449-SAFE\n",
                        "🌐  🧊 09: datacube-copernicus-sentinel_2-S2B_MSIL1C_20240802T190919_N0511_R056_T10UDC_20240802T224842-SAFE\n",
                        "🌐  🧊 10: datacube-copernicus-sentinel_2-S2B_MSIL1C_20240802T190919_N0511_R056_T10UEC_20240802T224842-SAFE\n",
                        "🌐  🧊 11: datacube-copernicus-sentinel_2-S2B_MSIL1C_20240805T191909_N0511_R099_T10UDC_20240805T230124-SAFE\n",
                        "🌐  🧊 12: datacube-copernicus-sentinel_2-S2B_MSIL1C_20240805T191909_N0511_R099_T10UEC_20240805T230124-SAFE\n",
                        "🌐  🧊 13: datacube-copernicus-sentinel_2-S2B_MSIL2A_20240802T190919_N0511_R056_T10UDC_20240802T231522-SAFE\n",
                        "🌐  🧊 14: datacube-copernicus-sentinel_2-S2B_MSIL2A_20240802T190919_N0511_R056_T10UEC_20240802T231522-SAFE\n",
                        "🌐  🧊 15: datacube-copernicus-sentinel_2-S2B_MSIL2A_20240805T191909_N0511_R099_T10UDC_20240805T234014-SAFE\n",
                        "🌐  🧊 16: datacube-copernicus-sentinel_2-S2B_MSIL2A_20240805T191909_N0511_R099_T10UEC_20240805T234014-SAFE\n",
                        ":: abcli.plugins.metadata.post[/Users/kamangir/storage/abcli/query-2024-08-22-18-56-30-72280/metadata.yaml]: datacube_id\n",
                        ":: save_yaml: datacube_id -> /Users/kamangir/storage/abcli/query-2024-08-22-18-56-30-72280/metadata.yaml.\n"
                    ]
                }
            ],
            "source": [
                "assert CopernicusSentinel2Datacube.query(\n",
                "    object_name=object_name,\n",
                "    bbox=[-122.78 - 0.1, 51.83 - 0.1, -122.78 + 0.1, 51.83 + 0.1],\n",
                "    datetime=\"2024-07-30/2024-08-09\",\n",
                "    count=-1,\n",
                ")"
            ]
        },
        {
            "cell_type": "code",
            "execution_count": 6,
            "metadata": {},
            "outputs": [
                {
                    "name": "stderr",
                    "output_type": "stream",
                    "text": [
                        "🌐  🧊 datacube-copernicus-sentinel_2-S2A_MSIL1C_20240731T191911_N0511_R099_T10UDC_20240801T003519-SAFE\n"
                    ]
                }
            ],
            "source": [
                "datacube_id = get_from_object(object_name, \"datacube_id\")[0]\n",
                "logger.info(f\"🧊 {datacube_id}\")"
            ]
        },
        {
            "cell_type": "markdown",
            "metadata": {},
            "source": [
                "## ingest"
            ]
        },
        {
            "cell_type": "code",
            "execution_count": 7,
            "metadata": {},
            "outputs": [],
            "source": [
                "datacube = get_datacube(datacube_id)"
            ]
        },
        {
            "cell_type": "code",
            "execution_count": 8,
            "metadata": {},
            "outputs": [
                {
                    "name": "stderr",
                    "output_type": "stream",
                    "text": [
                        "🌐  blue_geo.catalog.generic.generic.CopernicusSentinel2Datacube@copernicus[datacube-copernicus-sentinel_2-S2A_MSIL1C_20240731T191911_N0511_R099_T10UDC_20240801T003519-SAFE]:.update_metadata()\n",
                        "🌐  ids: ['S2A_MSIL1C_20240731T191911_N0511_R099_T10UDC_20240801T003519.SAFE']\n",
                        "🌐  🧊 S2A_MSIL1C_20240731T191911_N0511_R099_T10UDC_20240801T003519.SAFE: 2024-07-31 19:19:11.024000+00:00 @ QUICKLOOK, PRODUCT\n",
                        "🌐  href: /eodata/Sentinel-2/MSI/L1C/2024/07/31/S2A_MSIL1C_20240731T191911_N0511_R099_T10UDC_20240801T003519.SAFE\n",
                        "🌐  bucket_name: eodata\n",
                        "🌐  s3_prefix: Sentinel-2/MSI/L1C/2024/07/31/S2A_MSIL1C_20240731T191911_N0511_R099_T10UDC_20240801T003519.SAFE\n",
                        "🌐  66 file(s).\n",
                        "🌐  #1: DATASTRIP/DS_2APS_20240801T003519_S20240731T192211/MTD_DS.xml\n",
                        "🌐  #2: DATASTRIP/DS_2APS_20240801T003519_S20240731T192211/QI_DATA/FORMAT_CORRECTNESS.xml\n",
                        "🌐  #3: DATASTRIP/DS_2APS_20240801T003519_S20240731T192211/QI_DATA/GENERAL_QUALITY.xml\n",
                        "🌐  #4: DATASTRIP/DS_2APS_20240801T003519_S20240731T192211/QI_DATA/GEOMETRIC_QUALITY.xml\n",
                        "🌐  #5: DATASTRIP/DS_2APS_20240801T003519_S20240731T192211/QI_DATA/RADIOMETRIC_QUALITY.xml\n",
                        "🌐  #6: DATASTRIP/DS_2APS_20240801T003519_S20240731T192211/QI_DATA/SENSOR_QUALITY.xml\n",
                        "🌐  #7: GRANULE/L1C_T10UDC_A047572_20240731T192211/AUX_DATA/AUX_CAMSFO\n",
                        "🌐  #8: GRANULE/L1C_T10UDC_A047572_20240731T192211/AUX_DATA/AUX_ECMWFT\n",
                        "🌐  #9: GRANULE/L1C_T10UDC_A047572_20240731T192211/IMG_DATA/T10UDC_20240731T191911_B01.jp2\n",
                        "🌐  #10: GRANULE/L1C_T10UDC_A047572_20240731T192211/IMG_DATA/T10UDC_20240731T191911_B02.jp2\n",
                        "🌐  #11: GRANULE/L1C_T10UDC_A047572_20240731T192211/IMG_DATA/T10UDC_20240731T191911_B03.jp2\n",
                        "🌐  #12: GRANULE/L1C_T10UDC_A047572_20240731T192211/IMG_DATA/T10UDC_20240731T191911_B04.jp2\n",
                        "🌐  #13: GRANULE/L1C_T10UDC_A047572_20240731T192211/IMG_DATA/T10UDC_20240731T191911_B05.jp2\n",
                        "🌐  #14: GRANULE/L1C_T10UDC_A047572_20240731T192211/IMG_DATA/T10UDC_20240731T191911_B06.jp2\n",
                        "🌐  #15: GRANULE/L1C_T10UDC_A047572_20240731T192211/IMG_DATA/T10UDC_20240731T191911_B07.jp2\n",
                        "🌐  #16: GRANULE/L1C_T10UDC_A047572_20240731T192211/IMG_DATA/T10UDC_20240731T191911_B08.jp2\n",
                        "🌐  #17: GRANULE/L1C_T10UDC_A047572_20240731T192211/IMG_DATA/T10UDC_20240731T191911_B09.jp2\n",
                        "🌐  #18: GRANULE/L1C_T10UDC_A047572_20240731T192211/IMG_DATA/T10UDC_20240731T191911_B10.jp2\n",
                        "🌐  #19: GRANULE/L1C_T10UDC_A047572_20240731T192211/IMG_DATA/T10UDC_20240731T191911_B11.jp2\n",
                        "🌐  #20: GRANULE/L1C_T10UDC_A047572_20240731T192211/IMG_DATA/T10UDC_20240731T191911_B12.jp2\n",
                        "🌐  #21: GRANULE/L1C_T10UDC_A047572_20240731T192211/IMG_DATA/T10UDC_20240731T191911_B8A.jp2\n",
                        "🌐  #22: GRANULE/L1C_T10UDC_A047572_20240731T192211/IMG_DATA/T10UDC_20240731T191911_TCI.jp2\n",
                        "🌐  #23: GRANULE/L1C_T10UDC_A047572_20240731T192211/MTD_TL.xml\n",
                        "🌐  #24: GRANULE/L1C_T10UDC_A047572_20240731T192211/QI_DATA/FORMAT_CORRECTNESS.xml\n",
                        "🌐  #25: GRANULE/L1C_T10UDC_A047572_20240731T192211/QI_DATA/GENERAL_QUALITY.xml\n",
                        "🌐  #26: GRANULE/L1C_T10UDC_A047572_20240731T192211/QI_DATA/GEOMETRIC_QUALITY.xml\n",
                        "🌐  #27: GRANULE/L1C_T10UDC_A047572_20240731T192211/QI_DATA/MSK_CLASSI_B00.jp2\n",
                        "🌐  #28: GRANULE/L1C_T10UDC_A047572_20240731T192211/QI_DATA/MSK_DETFOO_B01.jp2\n",
                        "🌐  #29: GRANULE/L1C_T10UDC_A047572_20240731T192211/QI_DATA/MSK_DETFOO_B02.jp2\n",
                        "🌐  #30: GRANULE/L1C_T10UDC_A047572_20240731T192211/QI_DATA/MSK_DETFOO_B03.jp2\n",
                        "🌐  #31: GRANULE/L1C_T10UDC_A047572_20240731T192211/QI_DATA/MSK_DETFOO_B04.jp2\n",
                        "🌐  #32: GRANULE/L1C_T10UDC_A047572_20240731T192211/QI_DATA/MSK_DETFOO_B05.jp2\n",
                        "🌐  #33: GRANULE/L1C_T10UDC_A047572_20240731T192211/QI_DATA/MSK_DETFOO_B06.jp2\n",
                        "🌐  #34: GRANULE/L1C_T10UDC_A047572_20240731T192211/QI_DATA/MSK_DETFOO_B07.jp2\n",
                        "🌐  #35: GRANULE/L1C_T10UDC_A047572_20240731T192211/QI_DATA/MSK_DETFOO_B08.jp2\n",
                        "🌐  #36: GRANULE/L1C_T10UDC_A047572_20240731T192211/QI_DATA/MSK_DETFOO_B09.jp2\n",
                        "🌐  #37: GRANULE/L1C_T10UDC_A047572_20240731T192211/QI_DATA/MSK_DETFOO_B10.jp2\n",
                        "🌐  #38: GRANULE/L1C_T10UDC_A047572_20240731T192211/QI_DATA/MSK_DETFOO_B11.jp2\n",
                        "🌐  #39: GRANULE/L1C_T10UDC_A047572_20240731T192211/QI_DATA/MSK_DETFOO_B12.jp2\n",
                        "🌐  #40: GRANULE/L1C_T10UDC_A047572_20240731T192211/QI_DATA/MSK_DETFOO_B8A.jp2\n",
                        "🌐  #41: GRANULE/L1C_T10UDC_A047572_20240731T192211/QI_DATA/MSK_QUALIT_B01.jp2\n",
                        "🌐  #42: GRANULE/L1C_T10UDC_A047572_20240731T192211/QI_DATA/MSK_QUALIT_B02.jp2\n",
                        "🌐  #43: GRANULE/L1C_T10UDC_A047572_20240731T192211/QI_DATA/MSK_QUALIT_B03.jp2\n",
                        "🌐  #44: GRANULE/L1C_T10UDC_A047572_20240731T192211/QI_DATA/MSK_QUALIT_B04.jp2\n",
                        "🌐  #45: GRANULE/L1C_T10UDC_A047572_20240731T192211/QI_DATA/MSK_QUALIT_B05.jp2\n",
                        "🌐  #46: GRANULE/L1C_T10UDC_A047572_20240731T192211/QI_DATA/MSK_QUALIT_B06.jp2\n",
                        "🌐  #47: GRANULE/L1C_T10UDC_A047572_20240731T192211/QI_DATA/MSK_QUALIT_B07.jp2\n",
                        "🌐  #48: GRANULE/L1C_T10UDC_A047572_20240731T192211/QI_DATA/MSK_QUALIT_B08.jp2\n",
                        "🌐  #49: GRANULE/L1C_T10UDC_A047572_20240731T192211/QI_DATA/MSK_QUALIT_B09.jp2\n",
                        "🌐  #50: GRANULE/L1C_T10UDC_A047572_20240731T192211/QI_DATA/MSK_QUALIT_B10.jp2\n",
                        "🌐  #51: GRANULE/L1C_T10UDC_A047572_20240731T192211/QI_DATA/MSK_QUALIT_B11.jp2\n",
                        "🌐  #52: GRANULE/L1C_T10UDC_A047572_20240731T192211/QI_DATA/MSK_QUALIT_B12.jp2\n",
                        "🌐  #53: GRANULE/L1C_T10UDC_A047572_20240731T192211/QI_DATA/MSK_QUALIT_B8A.jp2\n",
                        "🌐  #54: GRANULE/L1C_T10UDC_A047572_20240731T192211/QI_DATA/SENSOR_QUALITY.xml\n",
                        "🌐  #55: GRANULE/L1C_T10UDC_A047572_20240731T192211/QI_DATA/T10UDC_20240731T191911_PVI.jp2\n",
                        "🌐  #56: HTML/UserProduct_index.html\n",
                        "🌐  #57: HTML/UserProduct_index.xsl\n",
                        "🌐  #58: HTML/banner_1.png\n",
                        "🌐  #59: HTML/banner_2.png\n",
                        "🌐  #60: HTML/banner_3.png\n",
                        "🌐  #61: HTML/star_bg.jpg\n",
                        "🌐  #62: INSPIRE.xml\n",
                        "🌐  #63: MTD_MSIL1C.xml\n",
                        "🌐  #64: S2A_MSIL1C_20240731T191911_N0511_R099_T10UDC_20240801T003519-ql.jpg\n",
                        "🌐  #65: manifest.safe\n",
                        "🌐  #66: rep_info/S2_User_Product_Level-1C_Metadata.xsd\n"
                    ]
                }
            ],
            "source": [
                "assert datacube.update_metadata(verbose=True)\n",
                "item = datacube.metadata[\"Item\"]"
            ]
        },
        {
            "cell_type": "code",
            "execution_count": 9,
            "metadata": {},
            "outputs": [
                {
                    "name": "stderr",
                    "output_type": "stream",
                    "text": [
                        "🌐  blue_geo.catalog.generic.generic.CopernicusSentinel2Datacube.ingest(dryrun): datacube-copernicus-sentinel_2-S2A_MSIL1C_20240731T191911_N0511_R099_T10UDC_20240801T003519-SAFE\n",
                        "🌐  href: /eodata/Sentinel-2/MSI/L1C/2024/07/31/S2A_MSIL1C_20240731T191911_N0511_R099_T10UDC_20240801T003519.SAFE\n",
                        "🌐  bucket_name: eodata\n",
                        "🌐  s3_prefix: Sentinel-2/MSI/L1C/2024/07/31/S2A_MSIL1C_20240731T191911_N0511_R099_T10UDC_20240801T003519.SAFE\n",
                        "0it [00:00, ?it/s]🌐  skipped 17.21 MB: Sentinel-2/MSI/L1C/2024/07/31/S2A_MSIL1C_20240731T191911_N0511_R099_T10UDC_20240801T003519.SAFE/DATASTRIP/DS_2APS_20240801T003519_S20240731T192211/MTD_DS.xml\n",
                        "1it [00:01,  1.05s/it]🌐  downloading 22.54 kB: Sentinel-2/MSI/L1C/2024/07/31/S2A_MSIL1C_20240731T191911_N0511_R099_T10UDC_20240801T003519.SAFE/DATASTRIP/DS_2APS_20240801T003519_S20240731T192211/QI_DATA/FORMAT_CORRECTNESS.xml -> /Users/kamangir/storage/abcli/datacube-copernicus-sentinel_2-S2A_MSIL1C_20240731T191911_N0511_R099_T10UDC_20240801T003519-SAFE/DATASTRIP/DS_2APS_20240801T003519_S20240731T192211/QI_DATA/FORMAT_CORRECTNESS.xml\n",
                        "🌐  downloading 7.60 kB: Sentinel-2/MSI/L1C/2024/07/31/S2A_MSIL1C_20240731T191911_N0511_R099_T10UDC_20240801T003519.SAFE/DATASTRIP/DS_2APS_20240801T003519_S20240731T192211/QI_DATA/GENERAL_QUALITY.xml -> /Users/kamangir/storage/abcli/datacube-copernicus-sentinel_2-S2A_MSIL1C_20240731T191911_N0511_R099_T10UDC_20240801T003519-SAFE/DATASTRIP/DS_2APS_20240801T003519_S20240731T192211/QI_DATA/GENERAL_QUALITY.xml\n",
                        "🌐  downloading 8.74 kB: Sentinel-2/MSI/L1C/2024/07/31/S2A_MSIL1C_20240731T191911_N0511_R099_T10UDC_20240801T003519.SAFE/DATASTRIP/DS_2APS_20240801T003519_S20240731T192211/QI_DATA/GEOMETRIC_QUALITY.xml -> /Users/kamangir/storage/abcli/datacube-copernicus-sentinel_2-S2A_MSIL1C_20240731T191911_N0511_R099_T10UDC_20240801T003519-SAFE/DATASTRIP/DS_2APS_20240801T003519_S20240731T192211/QI_DATA/GEOMETRIC_QUALITY.xml\n",
                        "🌐  downloading 6.97 kB: Sentinel-2/MSI/L1C/2024/07/31/S2A_MSIL1C_20240731T191911_N0511_R099_T10UDC_20240801T003519.SAFE/DATASTRIP/DS_2APS_20240801T003519_S20240731T192211/QI_DATA/RADIOMETRIC_QUALITY.xml -> /Users/kamangir/storage/abcli/datacube-copernicus-sentinel_2-S2A_MSIL1C_20240731T191911_N0511_R099_T10UDC_20240801T003519-SAFE/DATASTRIP/DS_2APS_20240801T003519_S20240731T192211/QI_DATA/RADIOMETRIC_QUALITY.xml\n",
                        "🌐  downloading 4.61 kB: Sentinel-2/MSI/L1C/2024/07/31/S2A_MSIL1C_20240731T191911_N0511_R099_T10UDC_20240801T003519.SAFE/DATASTRIP/DS_2APS_20240801T003519_S20240731T192211/QI_DATA/SENSOR_QUALITY.xml -> /Users/kamangir/storage/abcli/datacube-copernicus-sentinel_2-S2A_MSIL1C_20240731T191911_N0511_R099_T10UDC_20240801T003519-SAFE/DATASTRIP/DS_2APS_20240801T003519_S20240731T192211/QI_DATA/SENSOR_QUALITY.xml\n",
                        "🌐  downloading 2.90 kB: Sentinel-2/MSI/L1C/2024/07/31/S2A_MSIL1C_20240731T191911_N0511_R099_T10UDC_20240801T003519.SAFE/GRANULE/L1C_T10UDC_A047572_20240731T192211/AUX_DATA/AUX_CAMSFO -> /Users/kamangir/storage/abcli/datacube-copernicus-sentinel_2-S2A_MSIL1C_20240731T191911_N0511_R099_T10UDC_20240801T003519-SAFE/GRANULE/L1C_T10UDC_A047572_20240731T192211/AUX_DATA/AUX_CAMSFO\n",
                        "🌐  downloading 1.58 kB: Sentinel-2/MSI/L1C/2024/07/31/S2A_MSIL1C_20240731T191911_N0511_R099_T10UDC_20240801T003519.SAFE/GRANULE/L1C_T10UDC_A047572_20240731T192211/AUX_DATA/AUX_ECMWFT -> /Users/kamangir/storage/abcli/datacube-copernicus-sentinel_2-S2A_MSIL1C_20240731T191911_N0511_R099_T10UDC_20240801T003519-SAFE/GRANULE/L1C_T10UDC_A047572_20240731T192211/AUX_DATA/AUX_ECMWFT\n",
                        "🌐  skipped 3.57 MB: Sentinel-2/MSI/L1C/2024/07/31/S2A_MSIL1C_20240731T191911_N0511_R099_T10UDC_20240801T003519.SAFE/GRANULE/L1C_T10UDC_A047572_20240731T192211/IMG_DATA/T10UDC_20240731T191911_B01.jp2\n",
                        "🌐  skipped 109.55 MB: Sentinel-2/MSI/L1C/2024/07/31/S2A_MSIL1C_20240731T191911_N0511_R099_T10UDC_20240801T003519.SAFE/GRANULE/L1C_T10UDC_A047572_20240731T192211/IMG_DATA/T10UDC_20240731T191911_B02.jp2\n",
                        "🌐  skipped 109.15 MB: Sentinel-2/MSI/L1C/2024/07/31/S2A_MSIL1C_20240731T191911_N0511_R099_T10UDC_20240801T003519.SAFE/GRANULE/L1C_T10UDC_A047572_20240731T192211/IMG_DATA/T10UDC_20240731T191911_B03.jp2\n",
                        "🌐  skipped 110.56 MB: Sentinel-2/MSI/L1C/2024/07/31/S2A_MSIL1C_20240731T191911_N0511_R099_T10UDC_20240801T003519.SAFE/GRANULE/L1C_T10UDC_A047572_20240731T192211/IMG_DATA/T10UDC_20240731T191911_B04.jp2\n",
                        "🌐  skipped 32.16 MB: Sentinel-2/MSI/L1C/2024/07/31/S2A_MSIL1C_20240731T191911_N0511_R099_T10UDC_20240801T003519.SAFE/GRANULE/L1C_T10UDC_A047572_20240731T192211/IMG_DATA/T10UDC_20240731T191911_B05.jp2\n",
                        "🌐  skipped 32.21 MB: Sentinel-2/MSI/L1C/2024/07/31/S2A_MSIL1C_20240731T191911_N0511_R099_T10UDC_20240801T003519.SAFE/GRANULE/L1C_T10UDC_A047572_20240731T192211/IMG_DATA/T10UDC_20240731T191911_B06.jp2\n",
                        "🌐  skipped 32.26 MB: Sentinel-2/MSI/L1C/2024/07/31/S2A_MSIL1C_20240731T191911_N0511_R099_T10UDC_20240801T003519.SAFE/GRANULE/L1C_T10UDC_A047572_20240731T192211/IMG_DATA/T10UDC_20240731T191911_B07.jp2\n",
                        "🌐  skipped 117.37 MB: Sentinel-2/MSI/L1C/2024/07/31/S2A_MSIL1C_20240731T191911_N0511_R099_T10UDC_20240801T003519.SAFE/GRANULE/L1C_T10UDC_A047572_20240731T192211/IMG_DATA/T10UDC_20240731T191911_B08.jp2\n",
                        "🌐  skipped 3.58 MB: Sentinel-2/MSI/L1C/2024/07/31/S2A_MSIL1C_20240731T191911_N0511_R099_T10UDC_20240801T003519.SAFE/GRANULE/L1C_T10UDC_A047572_20240731T192211/IMG_DATA/T10UDC_20240731T191911_B09.jp2\n",
                        "🌐  skipped 2.88 MB: Sentinel-2/MSI/L1C/2024/07/31/S2A_MSIL1C_20240731T191911_N0511_R099_T10UDC_20240801T003519.SAFE/GRANULE/L1C_T10UDC_A047572_20240731T192211/IMG_DATA/T10UDC_20240731T191911_B10.jp2\n",
                        "🌐  skipped 32.06 MB: Sentinel-2/MSI/L1C/2024/07/31/S2A_MSIL1C_20240731T191911_N0511_R099_T10UDC_20240801T003519.SAFE/GRANULE/L1C_T10UDC_A047572_20240731T192211/IMG_DATA/T10UDC_20240731T191911_B11.jp2\n",
                        "🌐  skipped 31.29 MB: Sentinel-2/MSI/L1C/2024/07/31/S2A_MSIL1C_20240731T191911_N0511_R099_T10UDC_20240801T003519.SAFE/GRANULE/L1C_T10UDC_A047572_20240731T192211/IMG_DATA/T10UDC_20240731T191911_B12.jp2\n",
                        "🌐  skipped 32.22 MB: Sentinel-2/MSI/L1C/2024/07/31/S2A_MSIL1C_20240731T191911_N0511_R099_T10UDC_20240801T003519.SAFE/GRANULE/L1C_T10UDC_A047572_20240731T192211/IMG_DATA/T10UDC_20240731T191911_B8A.jp2\n",
                        "🌐  downloading 92.86 MB: Sentinel-2/MSI/L1C/2024/07/31/S2A_MSIL1C_20240731T191911_N0511_R099_T10UDC_20240801T003519.SAFE/GRANULE/L1C_T10UDC_A047572_20240731T192211/IMG_DATA/T10UDC_20240731T191911_TCI.jp2 -> /Users/kamangir/storage/abcli/datacube-copernicus-sentinel_2-S2A_MSIL1C_20240731T191911_N0511_R099_T10UDC_20240801T003519-SAFE/GRANULE/L1C_T10UDC_A047572_20240731T192211/IMG_DATA/T10UDC_20240731T191911_TCI.jp2\n",
                        "🌐  downloading 0.52 MB: Sentinel-2/MSI/L1C/2024/07/31/S2A_MSIL1C_20240731T191911_N0511_R099_T10UDC_20240801T003519.SAFE/GRANULE/L1C_T10UDC_A047572_20240731T192211/MTD_TL.xml -> /Users/kamangir/storage/abcli/datacube-copernicus-sentinel_2-S2A_MSIL1C_20240731T191911_N0511_R099_T10UDC_20240801T003519-SAFE/GRANULE/L1C_T10UDC_A047572_20240731T192211/MTD_TL.xml\n",
                        "🌐  downloading 26.82 kB: Sentinel-2/MSI/L1C/2024/07/31/S2A_MSIL1C_20240731T191911_N0511_R099_T10UDC_20240801T003519.SAFE/GRANULE/L1C_T10UDC_A047572_20240731T192211/QI_DATA/FORMAT_CORRECTNESS.xml -> /Users/kamangir/storage/abcli/datacube-copernicus-sentinel_2-S2A_MSIL1C_20240731T191911_N0511_R099_T10UDC_20240801T003519-SAFE/GRANULE/L1C_T10UDC_A047572_20240731T192211/QI_DATA/FORMAT_CORRECTNESS.xml\n",
                        "🌐  downloading 4.07 kB: Sentinel-2/MSI/L1C/2024/07/31/S2A_MSIL1C_20240731T191911_N0511_R099_T10UDC_20240801T003519.SAFE/GRANULE/L1C_T10UDC_A047572_20240731T192211/QI_DATA/GENERAL_QUALITY.xml -> /Users/kamangir/storage/abcli/datacube-copernicus-sentinel_2-S2A_MSIL1C_20240731T191911_N0511_R099_T10UDC_20240801T003519-SAFE/GRANULE/L1C_T10UDC_A047572_20240731T192211/QI_DATA/GENERAL_QUALITY.xml\n",
                        "🌐  downloading 4.89 kB: Sentinel-2/MSI/L1C/2024/07/31/S2A_MSIL1C_20240731T191911_N0511_R099_T10UDC_20240801T003519.SAFE/GRANULE/L1C_T10UDC_A047572_20240731T192211/QI_DATA/GEOMETRIC_QUALITY.xml -> /Users/kamangir/storage/abcli/datacube-copernicus-sentinel_2-S2A_MSIL1C_20240731T191911_N0511_R099_T10UDC_20240801T003519-SAFE/GRANULE/L1C_T10UDC_A047572_20240731T192211/QI_DATA/GEOMETRIC_QUALITY.xml\n",
                        "🌐  downloading 69.75 kB: Sentinel-2/MSI/L1C/2024/07/31/S2A_MSIL1C_20240731T191911_N0511_R099_T10UDC_20240801T003519.SAFE/GRANULE/L1C_T10UDC_A047572_20240731T192211/QI_DATA/MSK_CLASSI_B00.jp2 -> /Users/kamangir/storage/abcli/datacube-copernicus-sentinel_2-S2A_MSIL1C_20240731T191911_N0511_R099_T10UDC_20240801T003519-SAFE/GRANULE/L1C_T10UDC_A047572_20240731T192211/QI_DATA/MSK_CLASSI_B00.jp2\n",
                        "🌐  downloading 16.19 kB: Sentinel-2/MSI/L1C/2024/07/31/S2A_MSIL1C_20240731T191911_N0511_R099_T10UDC_20240801T003519.SAFE/GRANULE/L1C_T10UDC_A047572_20240731T192211/QI_DATA/MSK_DETFOO_B01.jp2 -> /Users/kamangir/storage/abcli/datacube-copernicus-sentinel_2-S2A_MSIL1C_20240731T191911_N0511_R099_T10UDC_20240801T003519-SAFE/GRANULE/L1C_T10UDC_A047572_20240731T192211/QI_DATA/MSK_DETFOO_B01.jp2\n",
                        "🌐  downloading 70.69 kB: Sentinel-2/MSI/L1C/2024/07/31/S2A_MSIL1C_20240731T191911_N0511_R099_T10UDC_20240801T003519.SAFE/GRANULE/L1C_T10UDC_A047572_20240731T192211/QI_DATA/MSK_DETFOO_B02.jp2 -> /Users/kamangir/storage/abcli/datacube-copernicus-sentinel_2-S2A_MSIL1C_20240731T191911_N0511_R099_T10UDC_20240801T003519-SAFE/GRANULE/L1C_T10UDC_A047572_20240731T192211/QI_DATA/MSK_DETFOO_B02.jp2\n",
                        "🌐  downloading 70.60 kB: Sentinel-2/MSI/L1C/2024/07/31/S2A_MSIL1C_20240731T191911_N0511_R099_T10UDC_20240801T003519.SAFE/GRANULE/L1C_T10UDC_A047572_20240731T192211/QI_DATA/MSK_DETFOO_B03.jp2 -> /Users/kamangir/storage/abcli/datacube-copernicus-sentinel_2-S2A_MSIL1C_20240731T191911_N0511_R099_T10UDC_20240801T003519-SAFE/GRANULE/L1C_T10UDC_A047572_20240731T192211/QI_DATA/MSK_DETFOO_B03.jp2\n",
                        "🌐  downloading 70.58 kB: Sentinel-2/MSI/L1C/2024/07/31/S2A_MSIL1C_20240731T191911_N0511_R099_T10UDC_20240801T003519.SAFE/GRANULE/L1C_T10UDC_A047572_20240731T192211/QI_DATA/MSK_DETFOO_B04.jp2 -> /Users/kamangir/storage/abcli/datacube-copernicus-sentinel_2-S2A_MSIL1C_20240731T191911_N0511_R099_T10UDC_20240801T003519-SAFE/GRANULE/L1C_T10UDC_A047572_20240731T192211/QI_DATA/MSK_DETFOO_B04.jp2\n",
                        "🌐  downloading 28.70 kB: Sentinel-2/MSI/L1C/2024/07/31/S2A_MSIL1C_20240731T191911_N0511_R099_T10UDC_20240801T003519.SAFE/GRANULE/L1C_T10UDC_A047572_20240731T192211/QI_DATA/MSK_DETFOO_B05.jp2 -> /Users/kamangir/storage/abcli/datacube-copernicus-sentinel_2-S2A_MSIL1C_20240731T191911_N0511_R099_T10UDC_20240801T003519-SAFE/GRANULE/L1C_T10UDC_A047572_20240731T192211/QI_DATA/MSK_DETFOO_B05.jp2\n",
                        "🌐  downloading 28.71 kB: Sentinel-2/MSI/L1C/2024/07/31/S2A_MSIL1C_20240731T191911_N0511_R099_T10UDC_20240801T003519.SAFE/GRANULE/L1C_T10UDC_A047572_20240731T192211/QI_DATA/MSK_DETFOO_B06.jp2 -> /Users/kamangir/storage/abcli/datacube-copernicus-sentinel_2-S2A_MSIL1C_20240731T191911_N0511_R099_T10UDC_20240801T003519-SAFE/GRANULE/L1C_T10UDC_A047572_20240731T192211/QI_DATA/MSK_DETFOO_B06.jp2\n",
                        "🌐  downloading 28.76 kB: Sentinel-2/MSI/L1C/2024/07/31/S2A_MSIL1C_20240731T191911_N0511_R099_T10UDC_20240801T003519.SAFE/GRANULE/L1C_T10UDC_A047572_20240731T192211/QI_DATA/MSK_DETFOO_B07.jp2 -> /Users/kamangir/storage/abcli/datacube-copernicus-sentinel_2-S2A_MSIL1C_20240731T191911_N0511_R099_T10UDC_20240801T003519-SAFE/GRANULE/L1C_T10UDC_A047572_20240731T192211/QI_DATA/MSK_DETFOO_B07.jp2\n",
                        "🌐  downloading 70.60 kB: Sentinel-2/MSI/L1C/2024/07/31/S2A_MSIL1C_20240731T191911_N0511_R099_T10UDC_20240801T003519.SAFE/GRANULE/L1C_T10UDC_A047572_20240731T192211/QI_DATA/MSK_DETFOO_B08.jp2 -> /Users/kamangir/storage/abcli/datacube-copernicus-sentinel_2-S2A_MSIL1C_20240731T191911_N0511_R099_T10UDC_20240801T003519-SAFE/GRANULE/L1C_T10UDC_A047572_20240731T192211/QI_DATA/MSK_DETFOO_B08.jp2\n",
                        "🌐  downloading 16.25 kB: Sentinel-2/MSI/L1C/2024/07/31/S2A_MSIL1C_20240731T191911_N0511_R099_T10UDC_20240801T003519.SAFE/GRANULE/L1C_T10UDC_A047572_20240731T192211/QI_DATA/MSK_DETFOO_B09.jp2 -> /Users/kamangir/storage/abcli/datacube-copernicus-sentinel_2-S2A_MSIL1C_20240731T191911_N0511_R099_T10UDC_20240801T003519-SAFE/GRANULE/L1C_T10UDC_A047572_20240731T192211/QI_DATA/MSK_DETFOO_B09.jp2\n",
                        "🌐  downloading 16.26 kB: Sentinel-2/MSI/L1C/2024/07/31/S2A_MSIL1C_20240731T191911_N0511_R099_T10UDC_20240801T003519.SAFE/GRANULE/L1C_T10UDC_A047572_20240731T192211/QI_DATA/MSK_DETFOO_B10.jp2 -> /Users/kamangir/storage/abcli/datacube-copernicus-sentinel_2-S2A_MSIL1C_20240731T191911_N0511_R099_T10UDC_20240801T003519-SAFE/GRANULE/L1C_T10UDC_A047572_20240731T192211/QI_DATA/MSK_DETFOO_B10.jp2\n",
                        "🌐  downloading 28.74 kB: Sentinel-2/MSI/L1C/2024/07/31/S2A_MSIL1C_20240731T191911_N0511_R099_T10UDC_20240801T003519.SAFE/GRANULE/L1C_T10UDC_A047572_20240731T192211/QI_DATA/MSK_DETFOO_B11.jp2 -> /Users/kamangir/storage/abcli/datacube-copernicus-sentinel_2-S2A_MSIL1C_20240731T191911_N0511_R099_T10UDC_20240801T003519-SAFE/GRANULE/L1C_T10UDC_A047572_20240731T192211/QI_DATA/MSK_DETFOO_B11.jp2\n",
                        "🌐  downloading 28.71 kB: Sentinel-2/MSI/L1C/2024/07/31/S2A_MSIL1C_20240731T191911_N0511_R099_T10UDC_20240801T003519.SAFE/GRANULE/L1C_T10UDC_A047572_20240731T192211/QI_DATA/MSK_DETFOO_B12.jp2 -> /Users/kamangir/storage/abcli/datacube-copernicus-sentinel_2-S2A_MSIL1C_20240731T191911_N0511_R099_T10UDC_20240801T003519-SAFE/GRANULE/L1C_T10UDC_A047572_20240731T192211/QI_DATA/MSK_DETFOO_B12.jp2\n",
                        "🌐  downloading 28.69 kB: Sentinel-2/MSI/L1C/2024/07/31/S2A_MSIL1C_20240731T191911_N0511_R099_T10UDC_20240801T003519.SAFE/GRANULE/L1C_T10UDC_A047572_20240731T192211/QI_DATA/MSK_DETFOO_B8A.jp2 -> /Users/kamangir/storage/abcli/datacube-copernicus-sentinel_2-S2A_MSIL1C_20240731T191911_N0511_R099_T10UDC_20240801T003519-SAFE/GRANULE/L1C_T10UDC_A047572_20240731T192211/QI_DATA/MSK_DETFOO_B8A.jp2\n",
                        "🌐  downloading 14.42 kB: Sentinel-2/MSI/L1C/2024/07/31/S2A_MSIL1C_20240731T191911_N0511_R099_T10UDC_20240801T003519.SAFE/GRANULE/L1C_T10UDC_A047572_20240731T192211/QI_DATA/MSK_QUALIT_B01.jp2 -> /Users/kamangir/storage/abcli/datacube-copernicus-sentinel_2-S2A_MSIL1C_20240731T191911_N0511_R099_T10UDC_20240801T003519-SAFE/GRANULE/L1C_T10UDC_A047572_20240731T192211/QI_DATA/MSK_QUALIT_B01.jp2\n",
                        "🌐  downloading 55.30 kB: Sentinel-2/MSI/L1C/2024/07/31/S2A_MSIL1C_20240731T191911_N0511_R099_T10UDC_20240801T003519.SAFE/GRANULE/L1C_T10UDC_A047572_20240731T192211/QI_DATA/MSK_QUALIT_B02.jp2 -> /Users/kamangir/storage/abcli/datacube-copernicus-sentinel_2-S2A_MSIL1C_20240731T191911_N0511_R099_T10UDC_20240801T003519-SAFE/GRANULE/L1C_T10UDC_A047572_20240731T192211/QI_DATA/MSK_QUALIT_B02.jp2\n",
                        "🌐  downloading 55.32 kB: Sentinel-2/MSI/L1C/2024/07/31/S2A_MSIL1C_20240731T191911_N0511_R099_T10UDC_20240801T003519.SAFE/GRANULE/L1C_T10UDC_A047572_20240731T192211/QI_DATA/MSK_QUALIT_B03.jp2 -> /Users/kamangir/storage/abcli/datacube-copernicus-sentinel_2-S2A_MSIL1C_20240731T191911_N0511_R099_T10UDC_20240801T003519-SAFE/GRANULE/L1C_T10UDC_A047572_20240731T192211/QI_DATA/MSK_QUALIT_B03.jp2\n",
                        "🌐  downloading 55.69 kB: Sentinel-2/MSI/L1C/2024/07/31/S2A_MSIL1C_20240731T191911_N0511_R099_T10UDC_20240801T003519.SAFE/GRANULE/L1C_T10UDC_A047572_20240731T192211/QI_DATA/MSK_QUALIT_B04.jp2 -> /Users/kamangir/storage/abcli/datacube-copernicus-sentinel_2-S2A_MSIL1C_20240731T191911_N0511_R099_T10UDC_20240801T003519-SAFE/GRANULE/L1C_T10UDC_A047572_20240731T192211/QI_DATA/MSK_QUALIT_B04.jp2\n",
                        "🌐  downloading 14.41 kB: Sentinel-2/MSI/L1C/2024/07/31/S2A_MSIL1C_20240731T191911_N0511_R099_T10UDC_20240801T003519.SAFE/GRANULE/L1C_T10UDC_A047572_20240731T192211/QI_DATA/MSK_QUALIT_B05.jp2 -> /Users/kamangir/storage/abcli/datacube-copernicus-sentinel_2-S2A_MSIL1C_20240731T191911_N0511_R099_T10UDC_20240801T003519-SAFE/GRANULE/L1C_T10UDC_A047572_20240731T192211/QI_DATA/MSK_QUALIT_B05.jp2\n",
                        "🌐  downloading 14.40 kB: Sentinel-2/MSI/L1C/2024/07/31/S2A_MSIL1C_20240731T191911_N0511_R099_T10UDC_20240801T003519.SAFE/GRANULE/L1C_T10UDC_A047572_20240731T192211/QI_DATA/MSK_QUALIT_B06.jp2 -> /Users/kamangir/storage/abcli/datacube-copernicus-sentinel_2-S2A_MSIL1C_20240731T191911_N0511_R099_T10UDC_20240801T003519-SAFE/GRANULE/L1C_T10UDC_A047572_20240731T192211/QI_DATA/MSK_QUALIT_B06.jp2\n",
                        "🌐  downloading 14.05 kB: Sentinel-2/MSI/L1C/2024/07/31/S2A_MSIL1C_20240731T191911_N0511_R099_T10UDC_20240801T003519.SAFE/GRANULE/L1C_T10UDC_A047572_20240731T192211/QI_DATA/MSK_QUALIT_B07.jp2 -> /Users/kamangir/storage/abcli/datacube-copernicus-sentinel_2-S2A_MSIL1C_20240731T191911_N0511_R099_T10UDC_20240801T003519-SAFE/GRANULE/L1C_T10UDC_A047572_20240731T192211/QI_DATA/MSK_QUALIT_B07.jp2\n",
                        "🌐  downloading 70.73 kB: Sentinel-2/MSI/L1C/2024/07/31/S2A_MSIL1C_20240731T191911_N0511_R099_T10UDC_20240801T003519.SAFE/GRANULE/L1C_T10UDC_A047572_20240731T192211/QI_DATA/MSK_QUALIT_B08.jp2 -> /Users/kamangir/storage/abcli/datacube-copernicus-sentinel_2-S2A_MSIL1C_20240731T191911_N0511_R099_T10UDC_20240801T003519-SAFE/GRANULE/L1C_T10UDC_A047572_20240731T192211/QI_DATA/MSK_QUALIT_B08.jp2\n",
                        "🌐  downloading 14.42 kB: Sentinel-2/MSI/L1C/2024/07/31/S2A_MSIL1C_20240731T191911_N0511_R099_T10UDC_20240801T003519.SAFE/GRANULE/L1C_T10UDC_A047572_20240731T192211/QI_DATA/MSK_QUALIT_B09.jp2 -> /Users/kamangir/storage/abcli/datacube-copernicus-sentinel_2-S2A_MSIL1C_20240731T191911_N0511_R099_T10UDC_20240801T003519-SAFE/GRANULE/L1C_T10UDC_A047572_20240731T192211/QI_DATA/MSK_QUALIT_B09.jp2\n",
                        "🌐  downloading 14.94 kB: Sentinel-2/MSI/L1C/2024/07/31/S2A_MSIL1C_20240731T191911_N0511_R099_T10UDC_20240801T003519.SAFE/GRANULE/L1C_T10UDC_A047572_20240731T192211/QI_DATA/MSK_QUALIT_B10.jp2 -> /Users/kamangir/storage/abcli/datacube-copernicus-sentinel_2-S2A_MSIL1C_20240731T191911_N0511_R099_T10UDC_20240801T003519-SAFE/GRANULE/L1C_T10UDC_A047572_20240731T192211/QI_DATA/MSK_QUALIT_B10.jp2\n",
                        "🌐  downloading 14.82 kB: Sentinel-2/MSI/L1C/2024/07/31/S2A_MSIL1C_20240731T191911_N0511_R099_T10UDC_20240801T003519.SAFE/GRANULE/L1C_T10UDC_A047572_20240731T192211/QI_DATA/MSK_QUALIT_B11.jp2 -> /Users/kamangir/storage/abcli/datacube-copernicus-sentinel_2-S2A_MSIL1C_20240731T191911_N0511_R099_T10UDC_20240801T003519-SAFE/GRANULE/L1C_T10UDC_A047572_20240731T192211/QI_DATA/MSK_QUALIT_B11.jp2\n",
                        "🌐  downloading 14.80 kB: Sentinel-2/MSI/L1C/2024/07/31/S2A_MSIL1C_20240731T191911_N0511_R099_T10UDC_20240801T003519.SAFE/GRANULE/L1C_T10UDC_A047572_20240731T192211/QI_DATA/MSK_QUALIT_B12.jp2 -> /Users/kamangir/storage/abcli/datacube-copernicus-sentinel_2-S2A_MSIL1C_20240731T191911_N0511_R099_T10UDC_20240801T003519-SAFE/GRANULE/L1C_T10UDC_A047572_20240731T192211/QI_DATA/MSK_QUALIT_B12.jp2\n",
                        "🌐  downloading 15.31 kB: Sentinel-2/MSI/L1C/2024/07/31/S2A_MSIL1C_20240731T191911_N0511_R099_T10UDC_20240801T003519.SAFE/GRANULE/L1C_T10UDC_A047572_20240731T192211/QI_DATA/MSK_QUALIT_B8A.jp2 -> /Users/kamangir/storage/abcli/datacube-copernicus-sentinel_2-S2A_MSIL1C_20240731T191911_N0511_R099_T10UDC_20240801T003519-SAFE/GRANULE/L1C_T10UDC_A047572_20240731T192211/QI_DATA/MSK_QUALIT_B8A.jp2\n",
                        "🌐  downloading 4.98 kB: Sentinel-2/MSI/L1C/2024/07/31/S2A_MSIL1C_20240731T191911_N0511_R099_T10UDC_20240801T003519.SAFE/GRANULE/L1C_T10UDC_A047572_20240731T192211/QI_DATA/SENSOR_QUALITY.xml -> /Users/kamangir/storage/abcli/datacube-copernicus-sentinel_2-S2A_MSIL1C_20240731T191911_N0511_R099_T10UDC_20240801T003519-SAFE/GRANULE/L1C_T10UDC_A047572_20240731T192211/QI_DATA/SENSOR_QUALITY.xml\n",
                        "🌐  downloading 0.16 MB: Sentinel-2/MSI/L1C/2024/07/31/S2A_MSIL1C_20240731T191911_N0511_R099_T10UDC_20240801T003519.SAFE/GRANULE/L1C_T10UDC_A047572_20240731T192211/QI_DATA/T10UDC_20240731T191911_PVI.jp2 -> /Users/kamangir/storage/abcli/datacube-copernicus-sentinel_2-S2A_MSIL1C_20240731T191911_N0511_R099_T10UDC_20240801T003519-SAFE/GRANULE/L1C_T10UDC_A047572_20240731T192211/QI_DATA/T10UDC_20240731T191911_PVI.jp2\n",
                        "55it [00:01, 65.37it/s]🌐  downloading 5.66 kB: Sentinel-2/MSI/L1C/2024/07/31/S2A_MSIL1C_20240731T191911_N0511_R099_T10UDC_20240801T003519.SAFE/HTML/UserProduct_index.html -> /Users/kamangir/storage/abcli/datacube-copernicus-sentinel_2-S2A_MSIL1C_20240731T191911_N0511_R099_T10UDC_20240801T003519-SAFE/HTML/UserProduct_index.html\n",
                        "🌐  downloading 9.80 kB: Sentinel-2/MSI/L1C/2024/07/31/S2A_MSIL1C_20240731T191911_N0511_R099_T10UDC_20240801T003519.SAFE/HTML/UserProduct_index.xsl -> /Users/kamangir/storage/abcli/datacube-copernicus-sentinel_2-S2A_MSIL1C_20240731T191911_N0511_R099_T10UDC_20240801T003519-SAFE/HTML/UserProduct_index.xsl\n",
                        "🌐  downloading 41.38 kB: Sentinel-2/MSI/L1C/2024/07/31/S2A_MSIL1C_20240731T191911_N0511_R099_T10UDC_20240801T003519.SAFE/HTML/banner_1.png -> /Users/kamangir/storage/abcli/datacube-copernicus-sentinel_2-S2A_MSIL1C_20240731T191911_N0511_R099_T10UDC_20240801T003519-SAFE/HTML/banner_1.png\n",
                        "🌐  downloading 57.27 kB: Sentinel-2/MSI/L1C/2024/07/31/S2A_MSIL1C_20240731T191911_N0511_R099_T10UDC_20240801T003519.SAFE/HTML/banner_2.png -> /Users/kamangir/storage/abcli/datacube-copernicus-sentinel_2-S2A_MSIL1C_20240731T191911_N0511_R099_T10UDC_20240801T003519-SAFE/HTML/banner_2.png\n",
                        "🌐  downloading 43.75 kB: Sentinel-2/MSI/L1C/2024/07/31/S2A_MSIL1C_20240731T191911_N0511_R099_T10UDC_20240801T003519.SAFE/HTML/banner_3.png -> /Users/kamangir/storage/abcli/datacube-copernicus-sentinel_2-S2A_MSIL1C_20240731T191911_N0511_R099_T10UDC_20240801T003519-SAFE/HTML/banner_3.png\n",
                        "🌐  downloading 1.85 kB: Sentinel-2/MSI/L1C/2024/07/31/S2A_MSIL1C_20240731T191911_N0511_R099_T10UDC_20240801T003519.SAFE/HTML/star_bg.jpg -> /Users/kamangir/storage/abcli/datacube-copernicus-sentinel_2-S2A_MSIL1C_20240731T191911_N0511_R099_T10UDC_20240801T003519-SAFE/HTML/star_bg.jpg\n",
                        "🌐  downloading 18.22 kB: Sentinel-2/MSI/L1C/2024/07/31/S2A_MSIL1C_20240731T191911_N0511_R099_T10UDC_20240801T003519.SAFE/INSPIRE.xml -> /Users/kamangir/storage/abcli/datacube-copernicus-sentinel_2-S2A_MSIL1C_20240731T191911_N0511_R099_T10UDC_20240801T003519-SAFE/INSPIRE.xml\n",
                        "🌐  downloading 45.08 kB: Sentinel-2/MSI/L1C/2024/07/31/S2A_MSIL1C_20240731T191911_N0511_R099_T10UDC_20240801T003519.SAFE/MTD_MSIL1C.xml -> /Users/kamangir/storage/abcli/datacube-copernicus-sentinel_2-S2A_MSIL1C_20240731T191911_N0511_R099_T10UDC_20240801T003519-SAFE/MTD_MSIL1C.xml\n",
                        "🌐  downloading 32.52 kB: Sentinel-2/MSI/L1C/2024/07/31/S2A_MSIL1C_20240731T191911_N0511_R099_T10UDC_20240801T003519.SAFE/S2A_MSIL1C_20240731T191911_N0511_R099_T10UDC_20240801T003519-ql.jpg -> /Users/kamangir/storage/abcli/datacube-copernicus-sentinel_2-S2A_MSIL1C_20240731T191911_N0511_R099_T10UDC_20240801T003519-SAFE/S2A_MSIL1C_20240731T191911_N0511_R099_T10UDC_20240801T003519-ql.jpg\n",
                        "🌐  downloading 47.55 kB: Sentinel-2/MSI/L1C/2024/07/31/S2A_MSIL1C_20240731T191911_N0511_R099_T10UDC_20240801T003519.SAFE/manifest.safe -> /Users/kamangir/storage/abcli/datacube-copernicus-sentinel_2-S2A_MSIL1C_20240731T191911_N0511_R099_T10UDC_20240801T003519-SAFE/manifest.safe\n",
                        "🌐  downloading 1.11 kB: Sentinel-2/MSI/L1C/2024/07/31/S2A_MSIL1C_20240731T191911_N0511_R099_T10UDC_20240801T003519.SAFE/rep_info/S2_User_Product_Level-1C_Metadata.xsd -> /Users/kamangir/storage/abcli/datacube-copernicus-sentinel_2-S2A_MSIL1C_20240731T191911_N0511_R099_T10UDC_20240801T003519-SAFE/rep_info/S2_User_Product_Level-1C_Metadata.xsd\n",
                        "66it [00:01, 56.07it/s]\n",
                        "🌐  None\n"
                    ]
                }
            ],
            "source": [
                "success, metadata = datacube.ingest(dryrun=dryrun)\n",
                "assert success\n",
                "logger.info(metadata)"
            ]
        },
        {
            "attachments": {},
            "cell_type": "markdown",
            "metadata": {},
            "source": [
                "---"
            ]
        },
        {
            "cell_type": "code",
            "execution_count": 10,
            "metadata": {},
            "outputs": [],
            "source": [
                "# END"
            ]
        }
    ],
    "metadata": {
        "kernelspec": {
            "display_name": "Python 3 (ipykernel)",
            "language": "python",
            "name": "python3"
        },
        "language_info": {
            "codemirror_mode": {
                "name": "ipython",
                "version": 3
            },
            "file_extension": ".py",
            "mimetype": "text/x-python",
            "name": "python",
            "nbconvert_exporter": "python",
            "pygments_lexer": "ipython3",
            "version": "3.9.19"
        },
        "toc": {
            "base_numbering": 1,
            "nav_menu": {},
            "number_sections": true,
            "sideBar": true,
            "skip_h1_title": false,
            "title_cell": "Table of Contents",
            "title_sidebar": "Contents",
            "toc_cell": false,
            "toc_position": {},
            "toc_section_display": true,
            "toc_window_display": false
        }
    },
    "nbformat": 4,
    "nbformat_minor": 2
}
