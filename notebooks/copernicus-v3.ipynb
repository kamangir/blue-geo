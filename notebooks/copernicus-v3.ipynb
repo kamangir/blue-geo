{
    "cells": [
        {
            "attachments": {},
            "cell_type": "markdown",
            "metadata": {},
            "source": [
                "# Copernicus: query and ingest\n",
                "\n",
                "https://documentation.dataspace.copernicus.eu/APIs/STAC.html\n",
                "\n",
                "https://documentation.dataspace.copernicus.eu/APIs/S3.html#example-script-to-download-product-using-boto3"
            ]
        },
        {
            "cell_type": "code",
            "execution_count": 1,
            "metadata": {},
            "outputs": [],
            "source": [
                "import os\n",
                "os.environ[\"abcli_path_bash\"] = \"{}/git/awesome-bash-cli/bash\".format(os.getenv(\"HOME\"))"
            ]
        },
        {
            "cell_type": "code",
            "execution_count": 2,
            "metadata": {},
            "outputs": [
                {
                    "name": "stderr",
                    "output_type": "stream",
                    "text": [
                        "🌐  blue_geo-4.396.1.abcli-9.267.1, built on 02 September 2024, 17:03:25\n"
                    ]
                }
            ],
            "source": [
                "from abcli import fullname\n",
                "from abcli import string\n",
                "from abcli.plugins.metadata import get_from_object\n",
                "from blue_geo import NAME, VERSION\n",
                "from blue_geo.catalog.copernicus import CopernicusSentinel2Datacube, CopernicusCatalog\n",
                "from blue_geo.catalog import get_datacube\n",
                "from blue_geo.logger import logger\n",
                "\n",
                "logger.info(f\"{NAME}-{VERSION}.{fullname()}, built on {string.pretty_date()}\")"
            ]
        },
        {
            "cell_type": "markdown",
            "metadata": {},
            "source": [
                "---"
            ]
        },
        {
            "cell_type": "markdown",
            "metadata": {},
            "source": [
                "# catalog"
            ]
        },
        {
            "cell_type": "code",
            "execution_count": 3,
            "metadata": {},
            "outputs": [
                {
                    "data": {
                        "text/plain": [
                            "['CCM',\n",
                            " 'COP-DEM',\n",
                            " 'ENVISAT',\n",
                            " 'GLOBAL-MOSAICS',\n",
                            " 'LANDSAT-5',\n",
                            " 'LANDSAT-7',\n",
                            " 'LANDSAT-8',\n",
                            " 'S2GLC',\n",
                            " 'SENTINEL-1',\n",
                            " 'SENTINEL-1-RTC',\n",
                            " 'SENTINEL-2',\n",
                            " 'SENTINEL-3',\n",
                            " 'SENTINEL-5P',\n",
                            " 'SENTINEL-6',\n",
                            " 'SMOS',\n",
                            " 'TERRAAQUA']"
                        ]
                    },
                    "execution_count": 3,
                    "metadata": {},
                    "output_type": "execute_result"
                }
            ],
            "source": [
                "catalog = CopernicusCatalog()\n",
                "catalog.get_list_of_collections()"
            ]
        },
        {
            "cell_type": "markdown",
            "metadata": {},
            "source": [
                "## query"
            ]
        },
        {
            "cell_type": "code",
            "execution_count": 4,
            "metadata": {},
            "outputs": [
                {
                    "name": "stderr",
                    "output_type": "stream",
                    "text": [
                        "🌐  📂 query-2024-09-02-17-03-26-60203\n"
                    ]
                }
            ],
            "source": [
                "object_name = f\"query-{string.timestamp()}\"\n",
                "logger.info(f\"📂 {object_name}\")"
            ]
        },
        {
            "cell_type": "code",
            "execution_count": 5,
            "metadata": {},
            "outputs": [
                {
                    "name": "stderr",
                    "output_type": "stream",
                    "text": [
                        "🌐  🔎 CopernicusSentinel2Datacube.query -> query-2024-09-02-17-03-26-60203\n",
                        "🌐  🔎 collections: ['SENTINEL-2']\n",
                        "🌐  🔎 bbox: [-122.88, 51.73, -122.68, 51.93]\n",
                        "🌐  🔎 datetime: 2024-07-30/2024-08-09\n",
                        "🌐  18 datacubes(s) found.\n",
                        "🌐  🧊 01: datacube-copernicus-sentinel_2-S2A_MSIL1C_20240731T191911_N0511_R099_T10UDC_20240801T003519-SAFE\n",
                        "🌐  🧊 02: datacube-copernicus-sentinel_2-S2A_MSIL1C_20240731T191911_N0511_R099_T10UEC_20240801T003519-SAFE\n",
                        "🌐  🧊 03: datacube-copernicus-sentinel_2-S2A_MSIL1C_20240807T190911_N0511_R056_T10UDC_20240808T002811-SAFE\n",
                        "🌐  🧊 04: datacube-copernicus-sentinel_2-S2A_MSIL1C_20240807T190911_N0511_R056_T10UEC_20240808T002811-SAFE\n",
                        "🌐  🧊 05: datacube-copernicus-sentinel_2-S2A_MSIL2A_20240731T191911_N0511_R099_T10UDC_20240801T023153-SAFE\n",
                        "🌐  🧊 06: datacube-copernicus-sentinel_2-S2A_MSIL2A_20240731T191911_N0511_R099_T10UEC_20240801T023153-SAFE\n",
                        "🌐  🧊 07: datacube-copernicus-sentinel_2-S2A_MSIL2A_20240807T190911_N0511_R056_T10UDC_20240808T020449-SAFE\n",
                        "🌐  🧊 08: datacube-copernicus-sentinel_2-S2A_MSIL2A_20240807T190911_N0511_R056_T10UEC_20240808T020449-SAFE\n",
                        "🌐  🧊 09: datacube-copernicus-sentinel_2-S2B_MSIL1C_20240802T190919_N0511_R056_T10UDC_20240802T224842-SAFE\n",
                        "🌐  🧊 10: datacube-copernicus-sentinel_2-S2B_MSIL1C_20240802T190919_N0511_R056_T10UEC_20240802T224842-SAFE\n",
                        "🌐  🧊 11: datacube-copernicus-sentinel_2-S2B_MSIL1C_20240804T231559_N0511_R087_T01UBT_20240823T075819-SAFE\n",
                        "🌐  🧊 12: datacube-copernicus-sentinel_2-S2B_MSIL1C_20240804T231559_N0511_R087_T60UXC_20240823T075819-SAFE\n",
                        "🌐  🧊 13: datacube-copernicus-sentinel_2-S2B_MSIL1C_20240805T191909_N0511_R099_T10UDC_20240805T230124-SAFE\n",
                        "🌐  🧊 14: datacube-copernicus-sentinel_2-S2B_MSIL1C_20240805T191909_N0511_R099_T10UEC_20240805T230124-SAFE\n",
                        "🌐  🧊 15: datacube-copernicus-sentinel_2-S2B_MSIL2A_20240802T190919_N0511_R056_T10UDC_20240802T231522-SAFE\n",
                        "🌐  🧊 16: datacube-copernicus-sentinel_2-S2B_MSIL2A_20240802T190919_N0511_R056_T10UEC_20240802T231522-SAFE\n",
                        "🌐  🧊 17: datacube-copernicus-sentinel_2-S2B_MSIL2A_20240805T191909_N0511_R099_T10UDC_20240805T234014-SAFE\n",
                        "🌐  🧊 18: datacube-copernicus-sentinel_2-S2B_MSIL2A_20240805T191909_N0511_R099_T10UEC_20240805T234014-SAFE\n",
                        ":: abcli.plugins.metadata.post[/Users/kamangir/storage/abcli/query-2024-09-02-17-03-26-60203/metadata.yaml]: datacube_id\n",
                        ":: save_yaml: datacube_id -> /Users/kamangir/storage/abcli/query-2024-09-02-17-03-26-60203/metadata.yaml.\n"
                    ]
                }
            ],
            "source": [
                "assert CopernicusSentinel2Datacube.query(\n",
                "    object_name=object_name,\n",
                "    bbox=[-122.78 - 0.1, 51.83 - 0.1, -122.78 + 0.1, 51.83 + 0.1],\n",
                "    datetime=\"2024-07-30/2024-08-09\",\n",
                "    count=-1,\n",
                ")"
            ]
        },
        {
            "cell_type": "code",
            "execution_count": 6,
            "metadata": {},
            "outputs": [
                {
                    "name": "stderr",
                    "output_type": "stream",
                    "text": [
                        "🌐  🧊 datacube-copernicus-sentinel_2-S2A_MSIL1C_20240731T191911_N0511_R099_T10UDC_20240801T003519-SAFE\n"
                    ]
                }
            ],
            "source": [
                "datacube_id = get_from_object(object_name, \"datacube_id\")[0]\n",
                "logger.info(f\"🧊 {datacube_id}\")"
            ]
        },
        {
            "cell_type": "markdown",
            "metadata": {},
            "source": [
                "## ingest"
            ]
        },
        {
            "cell_type": "code",
            "execution_count": 7,
            "metadata": {},
            "outputs": [],
            "source": [
                "datacube = get_datacube(datacube_id)"
            ]
        },
        {
            "cell_type": "code",
            "execution_count": 8,
            "metadata": {},
            "outputs": [
                {
                    "name": "stderr",
                    "output_type": "stream",
                    "text": [
                        "🌐  66 file(s)\n",
                        "🌐  #000 - DATASTRIP/DS_2APS_20240801T003519_S20240731T192211/MTD_DS.xml\n",
                        "🌐  #001 - DATASTRIP/DS_2APS_20240801T003519_S20240731T192211/QI_DATA/FORMAT_CORRECTNESS.xml\n",
                        "🌐  #002 - DATASTRIP/DS_2APS_20240801T003519_S20240731T192211/QI_DATA/GENERAL_QUALITY.xml\n",
                        "🌐  #003 - DATASTRIP/DS_2APS_20240801T003519_S20240731T192211/QI_DATA/GEOMETRIC_QUALITY.xml\n",
                        "🌐  #004 - DATASTRIP/DS_2APS_20240801T003519_S20240731T192211/QI_DATA/RADIOMETRIC_QUALITY.xml\n",
                        "🌐  #005 - DATASTRIP/DS_2APS_20240801T003519_S20240731T192211/QI_DATA/SENSOR_QUALITY.xml\n",
                        "🌐  #006 - GRANULE/L1C_T10UDC_A047572_20240731T192211/AUX_DATA/AUX_CAMSFO\n",
                        "🌐  #007 - GRANULE/L1C_T10UDC_A047572_20240731T192211/AUX_DATA/AUX_ECMWFT\n",
                        "🌐  #008 - GRANULE/L1C_T10UDC_A047572_20240731T192211/IMG_DATA/T10UDC_20240731T191911_B01.jp2\n",
                        "🌐  #009 - GRANULE/L1C_T10UDC_A047572_20240731T192211/IMG_DATA/T10UDC_20240731T191911_B02.jp2\n",
                        "🌐  #010 - GRANULE/L1C_T10UDC_A047572_20240731T192211/IMG_DATA/T10UDC_20240731T191911_B03.jp2\n",
                        "🌐  #011 - GRANULE/L1C_T10UDC_A047572_20240731T192211/IMG_DATA/T10UDC_20240731T191911_B04.jp2\n",
                        "🌐  #012 - GRANULE/L1C_T10UDC_A047572_20240731T192211/IMG_DATA/T10UDC_20240731T191911_B05.jp2\n",
                        "🌐  #013 - GRANULE/L1C_T10UDC_A047572_20240731T192211/IMG_DATA/T10UDC_20240731T191911_B06.jp2\n",
                        "🌐  #014 - GRANULE/L1C_T10UDC_A047572_20240731T192211/IMG_DATA/T10UDC_20240731T191911_B07.jp2\n",
                        "🌐  #015 - GRANULE/L1C_T10UDC_A047572_20240731T192211/IMG_DATA/T10UDC_20240731T191911_B08.jp2\n",
                        "🌐  #016 - GRANULE/L1C_T10UDC_A047572_20240731T192211/IMG_DATA/T10UDC_20240731T191911_B09.jp2\n",
                        "🌐  #017 - GRANULE/L1C_T10UDC_A047572_20240731T192211/IMG_DATA/T10UDC_20240731T191911_B10.jp2\n",
                        "🌐  #018 - GRANULE/L1C_T10UDC_A047572_20240731T192211/IMG_DATA/T10UDC_20240731T191911_B11.jp2\n",
                        "🌐  #019 - GRANULE/L1C_T10UDC_A047572_20240731T192211/IMG_DATA/T10UDC_20240731T191911_B12.jp2\n",
                        "🌐  #020 - GRANULE/L1C_T10UDC_A047572_20240731T192211/IMG_DATA/T10UDC_20240731T191911_B8A.jp2\n",
                        "🌐  #021 - GRANULE/L1C_T10UDC_A047572_20240731T192211/IMG_DATA/T10UDC_20240731T191911_TCI.jp2\n",
                        "🌐  #022 - GRANULE/L1C_T10UDC_A047572_20240731T192211/MTD_TL.xml\n",
                        "🌐  #023 - GRANULE/L1C_T10UDC_A047572_20240731T192211/QI_DATA/FORMAT_CORRECTNESS.xml\n",
                        "🌐  #024 - GRANULE/L1C_T10UDC_A047572_20240731T192211/QI_DATA/GENERAL_QUALITY.xml\n",
                        "🌐  #025 - GRANULE/L1C_T10UDC_A047572_20240731T192211/QI_DATA/GEOMETRIC_QUALITY.xml\n",
                        "🌐  #026 - GRANULE/L1C_T10UDC_A047572_20240731T192211/QI_DATA/MSK_CLASSI_B00.jp2\n",
                        "🌐  #027 - GRANULE/L1C_T10UDC_A047572_20240731T192211/QI_DATA/MSK_DETFOO_B01.jp2\n",
                        "🌐  #028 - GRANULE/L1C_T10UDC_A047572_20240731T192211/QI_DATA/MSK_DETFOO_B02.jp2\n",
                        "🌐  #029 - GRANULE/L1C_T10UDC_A047572_20240731T192211/QI_DATA/MSK_DETFOO_B03.jp2\n",
                        "🌐  #030 - GRANULE/L1C_T10UDC_A047572_20240731T192211/QI_DATA/MSK_DETFOO_B04.jp2\n",
                        "🌐  #031 - GRANULE/L1C_T10UDC_A047572_20240731T192211/QI_DATA/MSK_DETFOO_B05.jp2\n",
                        "🌐  #032 - GRANULE/L1C_T10UDC_A047572_20240731T192211/QI_DATA/MSK_DETFOO_B06.jp2\n",
                        "🌐  #033 - GRANULE/L1C_T10UDC_A047572_20240731T192211/QI_DATA/MSK_DETFOO_B07.jp2\n",
                        "🌐  #034 - GRANULE/L1C_T10UDC_A047572_20240731T192211/QI_DATA/MSK_DETFOO_B08.jp2\n",
                        "🌐  #035 - GRANULE/L1C_T10UDC_A047572_20240731T192211/QI_DATA/MSK_DETFOO_B09.jp2\n",
                        "🌐  #036 - GRANULE/L1C_T10UDC_A047572_20240731T192211/QI_DATA/MSK_DETFOO_B10.jp2\n",
                        "🌐  #037 - GRANULE/L1C_T10UDC_A047572_20240731T192211/QI_DATA/MSK_DETFOO_B11.jp2\n",
                        "🌐  #038 - GRANULE/L1C_T10UDC_A047572_20240731T192211/QI_DATA/MSK_DETFOO_B12.jp2\n",
                        "🌐  #039 - GRANULE/L1C_T10UDC_A047572_20240731T192211/QI_DATA/MSK_DETFOO_B8A.jp2\n",
                        "🌐  #040 - GRANULE/L1C_T10UDC_A047572_20240731T192211/QI_DATA/MSK_QUALIT_B01.jp2\n",
                        "🌐  #041 - GRANULE/L1C_T10UDC_A047572_20240731T192211/QI_DATA/MSK_QUALIT_B02.jp2\n",
                        "🌐  #042 - GRANULE/L1C_T10UDC_A047572_20240731T192211/QI_DATA/MSK_QUALIT_B03.jp2\n",
                        "🌐  #043 - GRANULE/L1C_T10UDC_A047572_20240731T192211/QI_DATA/MSK_QUALIT_B04.jp2\n",
                        "🌐  #044 - GRANULE/L1C_T10UDC_A047572_20240731T192211/QI_DATA/MSK_QUALIT_B05.jp2\n",
                        "🌐  #045 - GRANULE/L1C_T10UDC_A047572_20240731T192211/QI_DATA/MSK_QUALIT_B06.jp2\n",
                        "🌐  #046 - GRANULE/L1C_T10UDC_A047572_20240731T192211/QI_DATA/MSK_QUALIT_B07.jp2\n",
                        "🌐  #047 - GRANULE/L1C_T10UDC_A047572_20240731T192211/QI_DATA/MSK_QUALIT_B08.jp2\n",
                        "🌐  #048 - GRANULE/L1C_T10UDC_A047572_20240731T192211/QI_DATA/MSK_QUALIT_B09.jp2\n",
                        "🌐  #049 - GRANULE/L1C_T10UDC_A047572_20240731T192211/QI_DATA/MSK_QUALIT_B10.jp2\n",
                        "🌐  #050 - GRANULE/L1C_T10UDC_A047572_20240731T192211/QI_DATA/MSK_QUALIT_B11.jp2\n",
                        "🌐  #051 - GRANULE/L1C_T10UDC_A047572_20240731T192211/QI_DATA/MSK_QUALIT_B12.jp2\n",
                        "🌐  #052 - GRANULE/L1C_T10UDC_A047572_20240731T192211/QI_DATA/MSK_QUALIT_B8A.jp2\n",
                        "🌐  #053 - GRANULE/L1C_T10UDC_A047572_20240731T192211/QI_DATA/SENSOR_QUALITY.xml\n",
                        "🌐  #054 - GRANULE/L1C_T10UDC_A047572_20240731T192211/QI_DATA/T10UDC_20240731T191911_PVI.jp2\n",
                        "🌐  #055 - HTML/UserProduct_index.html\n",
                        "🌐  #056 - HTML/UserProduct_index.xsl\n",
                        "🌐  #057 - HTML/banner_1.png\n",
                        "🌐  #058 - HTML/banner_2.png\n",
                        "🌐  #059 - HTML/banner_3.png\n",
                        "🌐  #060 - HTML/star_bg.jpg\n",
                        "🌐  #061 - INSPIRE.xml\n",
                        "🌐  #062 - MTD_MSIL1C.xml\n",
                        "🌐  #063 - S2A_MSIL1C_20240731T191911_N0511_R099_T10UDC_20240801T003519-ql.jpg\n",
                        "🌐  #064 - manifest.safe\n",
                        "🌐  #065 - rep_info/S2_User_Product_Level-1C_Metadata.xsd\n"
                    ]
                }
            ],
            "source": [
                "list_of_files =datacube.list_of_files()\n",
                "\n",
                "logger.info(\"{} file(s)\".format(len(list_of_files)))\n",
                "for index, filename in enumerate(list_of_files):\n",
                "    logger.info(f\"#{index:03d} - {filename}\")\n"
            ]
        },
        {
            "cell_type": "code",
            "execution_count": 9,
            "metadata": {},
            "outputs": [
                {
                    "name": "stderr",
                    "output_type": "stream",
                    "text": [
                        "🌐  blue_geo.catalog.generic.generic.CopernicusSentinel2Datacube.ingest(): metadata @ datacube-copernicus-sentinel_2-S2A_MSIL1C_20240731T191911_N0511_R099_T10UDC_20240801T003519-SAFE\n",
                        "🌐  ingesting 23 file(s)...\n",
                        "  0%|          | 0/23 [00:00<?, ?it/s]🌐  ✅ /Users/kamangir/storage/abcli/datacube-copernicus-sentinel_2-S2A_MSIL1C_20240731T191911_N0511_R099_T10UDC_20240801T003519-SAFE/DATASTRIP/DS_2APS_20240801T003519_S20240731T192211/QI_DATA/FORMAT_CORRECTNESS.xml\n",
                        "🌐  ✅ /Users/kamangir/storage/abcli/datacube-copernicus-sentinel_2-S2A_MSIL1C_20240731T191911_N0511_R099_T10UDC_20240801T003519-SAFE/DATASTRIP/DS_2APS_20240801T003519_S20240731T192211/QI_DATA/GENERAL_QUALITY.xml\n",
                        "🌐  ✅ /Users/kamangir/storage/abcli/datacube-copernicus-sentinel_2-S2A_MSIL1C_20240731T191911_N0511_R099_T10UDC_20240801T003519-SAFE/DATASTRIP/DS_2APS_20240801T003519_S20240731T192211/QI_DATA/GEOMETRIC_QUALITY.xml\n",
                        "🌐  ✅ /Users/kamangir/storage/abcli/datacube-copernicus-sentinel_2-S2A_MSIL1C_20240731T191911_N0511_R099_T10UDC_20240801T003519-SAFE/DATASTRIP/DS_2APS_20240801T003519_S20240731T192211/QI_DATA/RADIOMETRIC_QUALITY.xml\n",
                        "🌐  ✅ /Users/kamangir/storage/abcli/datacube-copernicus-sentinel_2-S2A_MSIL1C_20240731T191911_N0511_R099_T10UDC_20240801T003519-SAFE/DATASTRIP/DS_2APS_20240801T003519_S20240731T192211/QI_DATA/SENSOR_QUALITY.xml\n",
                        "🌐  ✅ /Users/kamangir/storage/abcli/datacube-copernicus-sentinel_2-S2A_MSIL1C_20240731T191911_N0511_R099_T10UDC_20240801T003519-SAFE/GRANULE/L1C_T10UDC_A047572_20240731T192211/AUX_DATA/AUX_CAMSFO\n",
                        "🌐  ✅ /Users/kamangir/storage/abcli/datacube-copernicus-sentinel_2-S2A_MSIL1C_20240731T191911_N0511_R099_T10UDC_20240801T003519-SAFE/GRANULE/L1C_T10UDC_A047572_20240731T192211/AUX_DATA/AUX_ECMWFT\n",
                        " 30%|███       | 7/23 [00:00<00:00, 64.07it/s]🌐  ✅ /Users/kamangir/storage/abcli/datacube-copernicus-sentinel_2-S2A_MSIL1C_20240731T191911_N0511_R099_T10UDC_20240801T003519-SAFE/GRANULE/L1C_T10UDC_A047572_20240731T192211/MTD_TL.xml\n",
                        "🌐  ✅ /Users/kamangir/storage/abcli/datacube-copernicus-sentinel_2-S2A_MSIL1C_20240731T191911_N0511_R099_T10UDC_20240801T003519-SAFE/GRANULE/L1C_T10UDC_A047572_20240731T192211/QI_DATA/FORMAT_CORRECTNESS.xml\n",
                        "🌐  ✅ /Users/kamangir/storage/abcli/datacube-copernicus-sentinel_2-S2A_MSIL1C_20240731T191911_N0511_R099_T10UDC_20240801T003519-SAFE/GRANULE/L1C_T10UDC_A047572_20240731T192211/QI_DATA/GENERAL_QUALITY.xml\n",
                        "🌐  ✅ /Users/kamangir/storage/abcli/datacube-copernicus-sentinel_2-S2A_MSIL1C_20240731T191911_N0511_R099_T10UDC_20240801T003519-SAFE/GRANULE/L1C_T10UDC_A047572_20240731T192211/QI_DATA/GEOMETRIC_QUALITY.xml\n",
                        "🌐  ✅ /Users/kamangir/storage/abcli/datacube-copernicus-sentinel_2-S2A_MSIL1C_20240731T191911_N0511_R099_T10UDC_20240801T003519-SAFE/GRANULE/L1C_T10UDC_A047572_20240731T192211/QI_DATA/SENSOR_QUALITY.xml\n",
                        "🌐  ✅ /Users/kamangir/storage/abcli/datacube-copernicus-sentinel_2-S2A_MSIL1C_20240731T191911_N0511_R099_T10UDC_20240801T003519-SAFE/HTML/UserProduct_index.html\n",
                        "🌐  ✅ /Users/kamangir/storage/abcli/datacube-copernicus-sentinel_2-S2A_MSIL1C_20240731T191911_N0511_R099_T10UDC_20240801T003519-SAFE/HTML/UserProduct_index.xsl\n",
                        " 61%|██████    | 14/23 [00:00<00:00, 62.82it/s]🌐  ✅ /Users/kamangir/storage/abcli/datacube-copernicus-sentinel_2-S2A_MSIL1C_20240731T191911_N0511_R099_T10UDC_20240801T003519-SAFE/HTML/banner_1.png\n",
                        "🌐  ✅ /Users/kamangir/storage/abcli/datacube-copernicus-sentinel_2-S2A_MSIL1C_20240731T191911_N0511_R099_T10UDC_20240801T003519-SAFE/HTML/banner_2.png\n",
                        "🌐  ✅ /Users/kamangir/storage/abcli/datacube-copernicus-sentinel_2-S2A_MSIL1C_20240731T191911_N0511_R099_T10UDC_20240801T003519-SAFE/HTML/banner_3.png\n",
                        "🌐  ✅ /Users/kamangir/storage/abcli/datacube-copernicus-sentinel_2-S2A_MSIL1C_20240731T191911_N0511_R099_T10UDC_20240801T003519-SAFE/HTML/star_bg.jpg\n",
                        "🌐  ✅ /Users/kamangir/storage/abcli/datacube-copernicus-sentinel_2-S2A_MSIL1C_20240731T191911_N0511_R099_T10UDC_20240801T003519-SAFE/INSPIRE.xml\n",
                        "🌐  ✅ /Users/kamangir/storage/abcli/datacube-copernicus-sentinel_2-S2A_MSIL1C_20240731T191911_N0511_R099_T10UDC_20240801T003519-SAFE/MTD_MSIL1C.xml\n",
                        "🌐  ✅ /Users/kamangir/storage/abcli/datacube-copernicus-sentinel_2-S2A_MSIL1C_20240731T191911_N0511_R099_T10UDC_20240801T003519-SAFE/S2A_MSIL1C_20240731T191911_N0511_R099_T10UDC_20240801T003519-ql.jpg\n",
                        " 91%|█████████▏| 21/23 [00:00<00:00, 61.91it/s]🌐  ✅ /Users/kamangir/storage/abcli/datacube-copernicus-sentinel_2-S2A_MSIL1C_20240731T191911_N0511_R099_T10UDC_20240801T003519-SAFE/manifest.safe\n",
                        "🌐  ✅ /Users/kamangir/storage/abcli/datacube-copernicus-sentinel_2-S2A_MSIL1C_20240731T191911_N0511_R099_T10UDC_20240801T003519-SAFE/rep_info/S2_User_Product_Level-1C_Metadata.xsd\n",
                        "100%|██████████| 23/23 [00:00<00:00, 59.43it/s]\n"
                    ]
                }
            ],
            "source": [
                "success, _ = datacube.ingest()\n",
                "assert success"
            ]
        },
        {
            "attachments": {},
            "cell_type": "markdown",
            "metadata": {},
            "source": [
                "---"
            ]
        },
        {
            "cell_type": "code",
            "execution_count": 10,
            "metadata": {},
            "outputs": [],
            "source": [
                "# END"
            ]
        }
    ],
    "metadata": {
        "kernelspec": {
            "display_name": "Python 3 (ipykernel)",
            "language": "python",
            "name": "python3"
        },
        "language_info": {
            "codemirror_mode": {
                "name": "ipython",
                "version": 3
            },
            "file_extension": ".py",
            "mimetype": "text/x-python",
            "name": "python",
            "nbconvert_exporter": "python",
            "pygments_lexer": "ipython3",
            "version": "3.9.19"
        },
        "toc": {
            "base_numbering": 1,
            "nav_menu": {},
            "number_sections": true,
            "sideBar": true,
            "skip_h1_title": false,
            "title_cell": "Table of Contents",
            "title_sidebar": "Contents",
            "toc_cell": false,
            "toc_position": {},
            "toc_section_display": true,
            "toc_window_display": false
        }
    },
    "nbformat": 4,
    "nbformat_minor": 2
}
