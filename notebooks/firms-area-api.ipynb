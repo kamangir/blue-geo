{
    "cells": [
        {
            "attachments": {},
            "cell_type": "markdown",
            "metadata": {},
            "source": [
                "# FIRMS Area API\n",
                "\n",
                "https://firms.modaps.eosdis.nasa.gov/api/area/\n",
                "\n",
                "map-key: https://firms.modaps.eosdis.nasa.gov/api/map_key/"
            ]
        },
        {
            "cell_type": "code",
            "execution_count": 1,
            "metadata": {},
            "outputs": [],
            "source": [
                "import os\n",
                "os.environ[\"abcli_path_bash\"] = \"{}/git/awesome-bash-cli/bash\".format(os.getenv(\"HOME\"))"
            ]
        },
        {
            "cell_type": "code",
            "execution_count": 2,
            "metadata": {},
            "outputs": [
                {
                    "name": "stderr",
                    "output_type": "stream",
                    "text": [
                        "🌐  abcli-9.163.1, built on 16 July 2024, 18:38:28\n"
                    ]
                }
            ],
            "source": [
                "from abcli import fullname\n",
                "from abcli import string\n",
                "from abcli.modules import objects\n",
                "from blue_geo.firms.api.area.classes import APIRequest\n",
                "from blue_geo.logger import logger\n",
                "\n",
                "logger.info(f\"{fullname()}, built on {string.pretty_date()}\")"
            ]
        },
        {
            "cell_type": "code",
            "execution_count": 3,
            "metadata": {},
            "outputs": [],
            "source": [
                "object_name = f\"firms-{string.timestamp()}\""
            ]
        },
        {
            "attachments": {},
            "cell_type": "markdown",
            "metadata": {},
            "source": [
                "---"
            ]
        },
        {
            "cell_type": "code",
            "execution_count": 4,
            "metadata": {},
            "outputs": [
                {
                    "name": "stderr",
                    "output_type": "stream",
                    "text": [
                        "🌐  blue_geo.firms.api.area.APIRequest, area:world, source: MODIS_NRT (MODIS Near Real-Time, Real-Time and Ultra Real-Time)\n",
                        "🌐  blue_geo.firms.api.area.APIRequest -> firms-2024-07-16-18-38-28-46075\n",
                        ":: abcli.file: https://firms.modaps.eosdis.nasa.gov/api/area/csv/916ad54ef3787ac6c73802eed8c61735/MODIS_NRT/world/1/2024-07-11 -> /Users/kamangir/storage/abcli/firms-2024-07-16-18-38-28-46075/firms-2024-07-16-18-38-28-46075.csv\n",
                        "🌐  🪄\n"
                    ]
                }
            ],
            "source": [
                "api_request = APIRequest()\n",
                "assert api_request.ingest(object_name)"
            ]
        },
        {
            "attachments": {},
            "cell_type": "markdown",
            "metadata": {},
            "source": [
                "---"
            ]
        },
        {
            "cell_type": "code",
            "execution_count": 5,
            "metadata": {},
            "outputs": [
                {
                    "name": "stdout",
                    "output_type": "stream",
                    "text": [
                        "🌀 blueness-3.64.1\n",
                        "🌀 blue_options-4.35.1\n",
                        "\u001b[0;36m📜 awesome-bash-cli: .env: 24 env var(s)\u001b[0m\n",
                        "\u001b[0;36m📜 awesome-bash-cli: abcli/config.env: 13 env var(s)\u001b[0m\n",
                        "\u001b[0;36m🔋 gpu: not found.\u001b[0m\n",
                        "\u001b[0;36m🚀 abcli-9.163.1.current\u001b[0m\n",
                        "\u001b[0;36mconfirmed: firms-2024-07-16-18-38-28-46075 does not exist.\u001b[0m\n",
                        "\u001b[0;36mfirms-2024-07-16-18-38-28-46075 open upload started.\u001b[0m\n",
                        "upload: ../../../storage/abcli/firms-2024-07-16-18-38-28-46075/firms-2024-07-16-18-38-28-46075.csv to s3://kamangir/bolt/firms-2024-07-16-18-38-28-46075/firms-2024-07-16-18-38-28-46075.csv\n"
                    ]
                },
                {
                    "name": "stderr",
                    "output_type": "stream",
                    "text": [
                        ":: firms-2024-07-16-18-38-28-46075 += #open.\n"
                    ]
                }
            ],
            "source": [
                "%%bash -s $object_name\n",
                "source ~/git/awesome-bash-cli/abcli/.abcli/abcli.sh in_notebook\n",
                "\n",
                "object_name=$1\n",
                " \n",
                "abcli upload - $object_name"
            ]
        },
        {
            "cell_type": "code",
            "execution_count": 6,
            "metadata": {},
            "outputs": [],
            "source": [
                "# END"
            ]
        }
    ],
    "metadata": {
        "kernelspec": {
            "display_name": "Python 3 (ipykernel)",
            "language": "python",
            "name": "python3"
        },
        "language_info": {
            "codemirror_mode": {
                "name": "ipython",
                "version": 3
            },
            "file_extension": ".py",
            "mimetype": "text/x-python",
            "name": "python",
            "nbconvert_exporter": "python",
            "pygments_lexer": "ipython3",
            "version": "3.9.19"
        },
        "toc": {
            "base_numbering": 1,
            "nav_menu": {},
            "number_sections": true,
            "sideBar": true,
            "skip_h1_title": false,
            "title_cell": "Table of Contents",
            "title_sidebar": "Contents",
            "toc_cell": false,
            "toc_position": {},
            "toc_section_display": true,
            "toc_window_display": false
        }
    },
    "nbformat": 4,
    "nbformat_minor": 2
}
